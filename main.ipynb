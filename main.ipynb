{
 "cells": [
  {
   "cell_type": "code",
   "execution_count": 3,
   "metadata": {},
   "outputs": [],
   "source": [
    "import numpy as np\n",
    "import pandas as pd\n",
    "import tensorflow as tf\n",
    "import sklearn\n",
    "from sklearn.model_selection import train_test_split\n",
    "from sklearn.preprocessing import StandardScaler\n",
    "import matplotlib\n",
    "import matplotlib.pyplot as plt\n",
    "from pprint import pprint"
   ]
  },
  {
   "cell_type": "code",
   "execution_count": 4,
   "metadata": {
    "scrolled": true
   },
   "outputs": [],
   "source": [
    "import constants\n",
    "from core.tools.metrics import *\n",
    "from core.models.stat_models import *\n",
    "from core.models.baseline_rnn import *\n",
    "from core.tools.visualize import *\n",
    "from core.tools.time_series import *\n",
    "from core.tools.data_import import *\n",
    "import core.models.baseline_lstm as baseline_lstm"
   ]
  },
  {
   "cell_type": "code",
   "execution_count": 5,
   "metadata": {},
   "outputs": [
    {
     "name": "stdout",
     "output_type": "stream",
     "text": [
      "{'0': '/Users/tianyudu/Documents/Academics/EconForecasting/AnnEconForecast/data/UNRATE.csv',\n",
      " '1': '/home/ec2-user/AnnEconForecast/data/UNRATE.csv',\n",
      " '2': '/home/ubuntu/AnnEconForecast/data/UNRATE.csv',\n",
      " '3': '/home/ec2-user/AnnEconForecast/data/DEXCAUS.csv'}\n",
      "Select Dataset >>> 0\n"
     ]
    }
   ],
   "source": [
    "# Avaiable datasets, loaded from constants.\n",
    "pprint(constants.DATA_DIR)\n",
    "choice = None\n",
    "while choice is None or choice not in constants.DATA_DIR.keys():\n",
    "    if choice is not None:\n",
    "        print(\"Invalid data location received, try again...\")\n",
    "    choice = input(\"Select Dataset >>> \")\n",
    "FILE_DIR = constants.DATA_DIR[choice]"
   ]
  },
  {
   "cell_type": "code",
   "execution_count": 6,
   "metadata": {},
   "outputs": [
    {
     "name": "stdout",
     "output_type": "stream",
     "text": [
      "Dataset chosen: \n",
      "/Users/tianyudu/Documents/Academics/EconForecasting/AnnEconForecast/data/UNRATE.csv\n"
     ]
    }
   ],
   "source": [
    "print(f\"Dataset chosen: \\n{FILE_DIR}\")"
   ]
  },
  {
   "cell_type": "code",
   "execution_count": 7,
   "metadata": {},
   "outputs": [],
   "source": [
    "# Pre-processing Parameters\n",
    "PERIODS = 1\n",
    "ORDER = 1\n",
    "LAGS = 12\n",
    "TRAIN_RATIO = 0.8"
   ]
  },
  {
   "cell_type": "code",
   "execution_count": 8,
   "metadata": {},
   "outputs": [],
   "source": [
    "# Neural Network Parameters\n",
    "NUM_TIME_STEPS = LAGS\n",
    "# Number of series used to predict. (including concurrent)\n",
    "NUM_INPUTS = 1\n",
    "NUM_OUTPUTS = 1\n",
    "NUM_NEURONS = 64\n",
    "# Number of output series\n",
    "LEARNING_RATE = 0.01\n",
    "EPOCHS = 50\n",
    "# Training Settings\n",
    "REPORT_PERIODS = 1\n",
    "TENSORBOARD_DIR = \"./tensorboard/test/1\""
   ]
  },
  {
   "cell_type": "code",
   "execution_count": 9,
   "metadata": {},
   "outputs": [],
   "source": [
    "parameters = {\n",
    "    \"epochs\": 50,\n",
    "    \"num_time_steps\": LAGS,\n",
    "    \"num_inputs\": 1,\n",
    "    \"num_outputs\": 1,\n",
    "    \"num_neurons\": 64,\n",
    "    \"learning_rate\": 0.01,\n",
    "    \"report_periods\": 1,\n",
    "    \"tensorboard_dir\": \"./tensorboard/test/1\"\n",
    "}"
   ]
  },
  {
   "cell_type": "code",
   "execution_count": 10,
   "metadata": {},
   "outputs": [
    {
     "name": "stdout",
     "output_type": "stream",
     "text": [
      "Dataset loaded.    \n",
      "\tIndex type: datetime64[ns]    \n",
      "\tData type: float64\n",
      "First few rows of dataset loaded:\n",
      "            UNRATE_period1_order1\n",
      "DATE                             \n",
      "1948-02-01                    0.4\n",
      "1948-03-01                    0.2\n",
      "1948-04-01                   -0.1\n",
      "1948-05-01                   -0.4\n",
      "1948-06-01                    0.1\n"
     ]
    }
   ],
   "source": [
    "prepared_df = baseline_lstm.prepare_dataset(\n",
    "    file_dir=FILE_DIR,\n",
    "    periods=PERIODS,\n",
    "    order=ORDER\n",
    ")"
   ]
  },
  {
   "cell_type": "code",
   "execution_count": 11,
   "metadata": {},
   "outputs": [
    {
     "name": "stdout",
     "output_type": "stream",
     "text": [
      "Total 836 observations generated.\n",
      "Note: shape format: (num_obs, time_steps, num_inputs/outputs)\n",
      "X shape = (836, 12, 1), y shape = (836, 1, 1)\n",
      "Training and testing set generated,        \n",
      "X_train shape: (601, 12, 1)        \n",
      "y_train shape: (601, 1)        \n",
      "X_test shape: (168, 12, 1)        \n",
      "y_test shape: (168, 1)        \n",
      "X_validation shape: (67, 12, 1)        \n",
      "y_validation shape: (67, 1)\n"
     ]
    }
   ],
   "source": [
    "# Normalize data\n",
    "(X_train, X_val, X_test,\n",
    " y_train, y_val, y_test) = baseline_lstm.normalize(\n",
    "    df=prepared_df,\n",
    "    train_ratio=TRAIN_RATIO,\n",
    "    lags=LAGS\n",
    ")"
   ]
  },
  {
   "cell_type": "code",
   "execution_count": 12,
   "metadata": {},
   "outputs": [],
   "source": [
    "data_collection = {\n",
    "    \"X_train\": X_train,\n",
    "    \"X_val\": X_val,\n",
    "    \"X_test\": X_test,\n",
    "    \"y_train\": y_train,\n",
    "    \"y_val\": y_val,\n",
    "    \"y_test\": y_test\n",
    "}"
   ]
  },
  {
   "cell_type": "code",
   "execution_count": 13,
   "metadata": {},
   "outputs": [
    {
     "name": "stdout",
     "output_type": "stream",
     "text": [
      "Resetting Tensorflow defalut graph...\n",
      "Note: no gradient clipping is applied.            \n",
      "If possible gradient exploding detected (e.g. nan loss), try use clip_grad.\n",
      "\n",
      "Iteration [0], Training MSE 5.4440751; Validation MSE 1.4397573\n",
      "\n",
      "Iteration [1], Training MSE 2.4903817; Validation MSE 1.0182823\n",
      "\n",
      "Iteration [2], Training MSE 1.6175922; Validation MSE 0.6213005\n",
      "\n",
      "Iteration [3], Training MSE 1.7269717; Validation MSE 0.6327033\n",
      "\n",
      "Iteration [4], Training MSE 1.8405190; Validation MSE 0.9295890\n",
      "\n",
      "Iteration [5], Training MSE 1.8421853; Validation MSE 1.0777681\n",
      "\n",
      "Iteration [6], Training MSE 1.5592966; Validation MSE 0.8378349\n",
      "\n",
      "Iteration [7], Training MSE 1.1745561; Validation MSE 0.4896498\n",
      "\n",
      "Iteration [8], Training MSE 0.9951801; Validation MSE 0.3500825\n",
      "\n",
      "Iteration [9], Training MSE 1.0867471; Validation MSE 0.4658414\n",
      "\n",
      "Iteration [10], Training MSE 1.2418327; Validation MSE 0.6260558\n",
      "\n",
      "Iteration [11], Training MSE 1.2537372; Validation MSE 0.6297064\n",
      "\n",
      "Iteration [12], Training MSE 1.1372035; Validation MSE 0.4997163\n",
      "\n",
      "Iteration [13], Training MSE 1.0197036; Validation MSE 0.3725120\n",
      "\n",
      "Iteration [14], Training MSE 0.9743524; Validation MSE 0.3284844\n",
      "\n",
      "Iteration [15], Training MSE 0.9872369; Validation MSE 0.3558607\n",
      "\n",
      "Iteration [16], Training MSE 1.0096776; Validation MSE 0.4005094\n",
      "\n",
      "Iteration [17], Training MSE 1.0113366; Validation MSE 0.4211860\n",
      "\n",
      "Iteration [18], Training MSE 0.9942011; Validation MSE 0.4106898\n",
      "\n",
      "Iteration [19], Training MSE 0.9748268; Validation MSE 0.3847067\n",
      "\n",
      "Iteration [20], Training MSE 0.9630089; Validation MSE 0.3612160\n",
      "\n",
      "Iteration [21], Training MSE 0.9548164; Validation MSE 0.3477808\n",
      "\n",
      "Iteration [22], Training MSE 0.9408726; Validation MSE 0.3413420\n",
      "\n",
      "Iteration [23], Training MSE 0.9183998; Validation MSE 0.3357721\n",
      "\n",
      "Iteration [24], Training MSE 0.8949429; Validation MSE 0.3285732\n",
      "\n",
      "Iteration [25], Training MSE 0.8817645; Validation MSE 0.3216645\n",
      "\n",
      "Iteration [26], Training MSE 0.8840209; Validation MSE 0.3177924\n",
      "\n",
      "Iteration [27], Training MSE 0.8961890; Validation MSE 0.3172189\n",
      "\n",
      "Iteration [28], Training MSE 0.9063229; Validation MSE 0.3177215\n",
      "\n",
      "Iteration [29], Training MSE 0.9054856; Validation MSE 0.3172241\n",
      "\n",
      "Iteration [30], Training MSE 0.8938572; Validation MSE 0.3158049\n",
      "\n",
      "Iteration [31], Training MSE 0.8784963; Validation MSE 0.3149704\n",
      "\n",
      "Iteration [32], Training MSE 0.8664326; Validation MSE 0.3155253\n",
      "\n",
      "Iteration [33], Training MSE 0.8600630; Validation MSE 0.3166306\n",
      "\n",
      "Iteration [34], Training MSE 0.8575637; Validation MSE 0.3168054\n",
      "\n",
      "Iteration [35], Training MSE 0.8560914; Validation MSE 0.3155243\n",
      "\n",
      "Iteration [36], Training MSE 0.8543262; Validation MSE 0.3137707\n",
      "\n",
      "Iteration [37], Training MSE 0.8526920; Validation MSE 0.3131216\n",
      "\n",
      "Iteration [38], Training MSE 0.8519300; Validation MSE 0.3142958\n",
      "\n",
      "Iteration [39], Training MSE 0.8517671; Validation MSE 0.3164423\n",
      "\n",
      "Iteration [40], Training MSE 0.8508543; Validation MSE 0.3177233\n",
      "\n",
      "Iteration [41], Training MSE 0.8478518; Validation MSE 0.3166836\n",
      "\n",
      "Iteration [42], Training MSE 0.8426213; Validation MSE 0.3133523\n",
      "\n",
      "Iteration [43], Training MSE 0.8365009; Validation MSE 0.3092746\n",
      "\n",
      "Iteration [44], Training MSE 0.8314461; Validation MSE 0.3064756\n",
      "\n",
      "Iteration [45], Training MSE 0.8287115; Validation MSE 0.3061162\n",
      "\n",
      "Iteration [46], Training MSE 0.8280803; Validation MSE 0.3077893\n",
      "\n",
      "Iteration [47], Training MSE 0.8281863; Validation MSE 0.3099189\n",
      "\n",
      "Iteration [48], Training MSE 0.8275926; Validation MSE 0.3109028\n",
      "\n",
      "Iteration [49], Training MSE 0.8257259; Validation MSE 0.3101203\n",
      "Time taken for [50] epochs:  0:00:05.864809\n",
      "Loss Summary:\n",
      "\tmae=0.5540481805801392\n",
      "\tmse=0.48142170906066895\n",
      "\trmse=0.6938455700874329\n",
      "\tmape=4.445975303649902\n"
     ]
    },
    {
     "data": {
      "text/plain": [
       "{'mae': 0.5540482, 'mse': 0.4814217, 'rmse': 0.69384557, 'mape': 4.4459753}"
      ]
     },
     "execution_count": 13,
     "metadata": {},
     "output_type": "execute_result"
    }
   ],
   "source": [
    "# Run the model\n",
    "baseline_lstm.exec_core(\n",
    "    parameters=parameters,\n",
    "    data_collection=data_collection,\n",
    "    clip_grad=None\n",
    ")"
   ]
  },
  {
   "cell_type": "code",
   "execution_count": null,
   "metadata": {},
   "outputs": [],
   "source": []
  }
 ],
 "metadata": {
  "kernelspec": {
   "display_name": "Python 3",
   "language": "python",
   "name": "python3"
  },
  "language_info": {
   "codemirror_mode": {
    "name": "ipython",
    "version": 3
   },
   "file_extension": ".py",
   "mimetype": "text/x-python",
   "name": "python",
   "nbconvert_exporter": "python",
   "pygments_lexer": "ipython3",
   "version": "3.6.5"
  }
 },
 "nbformat": 4,
 "nbformat_minor": 2
}
