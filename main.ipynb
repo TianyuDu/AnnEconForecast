{
 "cells": [
  {
   "cell_type": "code",
   "execution_count": 1,
   "metadata": {},
   "outputs": [
    {
     "name": "stderr",
     "output_type": "stream",
     "text": [
      "/Library/Frameworks/Python.framework/Versions/3.6/lib/python3.6/site-packages/requests/__init__.py:91: RequestsDependencyWarning: urllib3 (1.24.1) or chardet (3.0.4) doesn't match a supported version!\n",
      "  RequestsDependencyWarning)\n"
     ]
    }
   ],
   "source": [
    "import numpy as np\n",
    "import pandas as pd\n",
    "import tensorflow as tf\n",
    "import sklearn\n",
    "from sklearn.model_selection import train_test_split\n",
    "from sklearn.preprocessing import StandardScaler\n",
    "import matplotlib\n",
    "import matplotlib.pyplot as plt\n",
    "from pprint import pprint"
   ]
  },
  {
   "cell_type": "code",
   "execution_count": 2,
   "metadata": {
    "scrolled": true
   },
   "outputs": [],
   "source": [
    "import constants\n",
    "from core.tools.metrics import *\n",
    "from core.models.stat_models import *\n",
    "from core.models.baseline_rnn import *\n",
    "from core.tools.visualize import *\n",
    "from core.tools.time_series import *\n",
    "from core.tools.data_import import *\n",
    "import core.models.baseline_lstm as baseline_lstm"
   ]
  },
  {
   "cell_type": "code",
   "execution_count": 3,
   "metadata": {},
   "outputs": [
    {
     "name": "stdout",
     "output_type": "stream",
     "text": [
      "{'0': '/Users/tianyudu/Documents/Academics/EconForecasting/AnnEconForecast/data/UNRATE.csv',\n",
      " '1': '/home/ec2-user/AnnEconForecast/data/UNRATE.csv',\n",
      " '2': '/home/ubuntu/AnnEconForecast/data/UNRATE.csv',\n",
      " '3': '/home/ec2-user/AnnEconForecast/data/DEXCAUS.csv'}\n",
      "Select Dataset >>> 0\n"
     ]
    }
   ],
   "source": [
    "# Avaiable datasets, loaded from constants.\n",
    "pprint(constants.DATA_DIR)\n",
    "choice = None\n",
    "while choice is None or choice not in constants.DATA_DIR.keys():\n",
    "    if choice is not None:\n",
    "        print(\"Invalid data location received, try again...\")\n",
    "    choice = input(\"Select Dataset >>> \")\n",
    "FILE_DIR = constants.DATA_DIR[choice]"
   ]
  },
  {
   "cell_type": "code",
   "execution_count": 4,
   "metadata": {},
   "outputs": [
    {
     "name": "stdout",
     "output_type": "stream",
     "text": [
      "Dataset chosen: \n",
      "/Users/tianyudu/Documents/Academics/EconForecasting/AnnEconForecast/data/UNRATE.csv\n"
     ]
    }
   ],
   "source": [
    "print(f\"Dataset chosen: \\n{FILE_DIR}\")"
   ]
  },
  {
   "cell_type": "code",
   "execution_count": 5,
   "metadata": {},
   "outputs": [],
   "source": [
    "# Pre-processing Parameters\n",
    "PERIODS = 1\n",
    "ORDER = 1\n",
    "LAGS = 12\n",
    "TRAIN_RATIO = 0.8"
   ]
  },
  {
   "cell_type": "code",
   "execution_count": 6,
   "metadata": {},
   "outputs": [],
   "source": [
    "# Neural Network Parameters\n",
    "NUM_TIME_STEPS = LAGS\n",
    "# Number of series used to predict. (including concurrent)\n",
    "NUM_INPUTS = 1\n",
    "NUM_OUTPUTS = 1\n",
    "NUM_NEURONS = 64\n",
    "# Number of output series\n",
    "LEARNING_RATE = 0.01\n",
    "EPOCHS = 50\n",
    "# Training Settings\n",
    "REPORT_PERIODS = 1\n",
    "TENSORBOARD_DIR = \"./tensorboard/test/1\""
   ]
  },
  {
   "cell_type": "code",
   "execution_count": 7,
   "metadata": {},
   "outputs": [
    {
     "name": "stdout",
     "output_type": "stream",
     "text": [
      "Dataset loaded.    \n",
      "\tIndex type: datetime64[ns]    \n",
      "\tData type: float64\n",
      "First few rows of dataset loaded:\n",
      "            UNRATE_period1_order1\n",
      "DATE                             \n",
      "1948-02-01                    0.4\n",
      "1948-03-01                    0.2\n",
      "1948-04-01                   -0.1\n",
      "1948-05-01                   -0.4\n",
      "1948-06-01                    0.1\n"
     ]
    }
   ],
   "source": [
    "prepared_df = baseline_lstm.prepare_dataset(\n",
    "    file_dir=FILE_DIR,\n",
    "    periods=PERIODS,\n",
    "    order=ORDER\n",
    ")"
   ]
  },
  {
   "cell_type": "code",
   "execution_count": 8,
   "metadata": {},
   "outputs": [
    {
     "name": "stdout",
     "output_type": "stream",
     "text": [
      "Total 836 observations generated.\n",
      "Note: shape format: (num_obs, time_steps, num_inputs/outputs)\n",
      "X shape = (836, 12, 1), y shape = (836, 1, 1)\n",
      "Training and testing set generated,        \n",
      "X_train shape: (601, 12, 1)        \n",
      "y_train shape: (601, 1)        \n",
      "X_test shape: (168, 12, 1)        \n",
      "y_test shape: (168, 1)        \n",
      "X_validation shape: (67, 12, 1)        \n",
      "y_validation shape: (67, 1)\n"
     ]
    }
   ],
   "source": [
    "# Normalize data\n",
    "(X_train, X_val, X_test,\n",
    " y_train, y_val, y_test) = baseline_lstm.normalize(\n",
    "    df=prepared_df,\n",
    "    train_ratio=TRAIN_RATIO,\n",
    "    lags=LAGS\n",
    ")"
   ]
  },
  {
   "cell_type": "code",
   "execution_count": 9,
   "metadata": {},
   "outputs": [],
   "source": [
    "data_collection = {\n",
    "    \"X_train\": X_train,\n",
    "    \"X_val\": X_val,\n",
    "    \"X_test\": X_test,\n",
    "    \"y_train\": y_train,\n",
    "    \"y_val\": y_val,\n",
    "    \"y_test\": y_test\n",
    "}"
   ]
  },
  {
   "cell_type": "code",
   "execution_count": 10,
   "metadata": {},
   "outputs": [
    {
     "name": "stdout",
     "output_type": "stream",
     "text": [
      "Resetting Tensorflow defalut graph...\n"
     ]
    },
    {
     "ename": "AttributeError",
     "evalue": "'builtin_function_or_method' object has no attribute 'update'",
     "output_type": "error",
     "traceback": [
      "\u001b[0;31m---------------------------------------------------------------------------\u001b[0m",
      "\u001b[0;31mAttributeError\u001b[0m                            Traceback (most recent call last)",
      "\u001b[0;32m<ipython-input-10-e74817a275d7>\u001b[0m in \u001b[0;36m<module>\u001b[0;34m()\u001b[0m\n\u001b[1;32m      9\u001b[0m     \u001b[0mtensorboard_dir\u001b[0m\u001b[0;34m=\u001b[0m\u001b[0mTENSORBOARD_DIR\u001b[0m\u001b[0;34m,\u001b[0m\u001b[0;34m\u001b[0m\u001b[0m\n\u001b[1;32m     10\u001b[0m     \u001b[0mdata_collection\u001b[0m\u001b[0;34m=\u001b[0m\u001b[0mdata_collection\u001b[0m\u001b[0;34m,\u001b[0m\u001b[0;34m\u001b[0m\u001b[0m\n\u001b[0;32m---> 11\u001b[0;31m     \u001b[0mclip_grad\u001b[0m\u001b[0;34m=\u001b[0m\u001b[0;32mNone\u001b[0m\u001b[0;34m\u001b[0m\u001b[0m\n\u001b[0m\u001b[1;32m     12\u001b[0m )\n",
      "\u001b[0;32m~/Documents/Academics/EconForecasting/AnnEconForecast/core/models/baseline_lstm.py\u001b[0m in \u001b[0;36mexec_core\u001b[0;34m(epochs, num_time_steps, num_inputs, num_outputs, num_neurons, learning_rate, tensorboard_dir, data_collection, clip_grad)\u001b[0m\n\u001b[1;32m     99\u001b[0m     \u001b[0mtf\u001b[0m\u001b[0;34m.\u001b[0m\u001b[0mreset_default_graph\u001b[0m\u001b[0;34m(\u001b[0m\u001b[0;34m)\u001b[0m\u001b[0;34m\u001b[0m\u001b[0m\n\u001b[1;32m    100\u001b[0m \u001b[0;34m\u001b[0m\u001b[0m\n\u001b[0;32m--> 101\u001b[0;31m     \u001b[0mlocals\u001b[0m\u001b[0;34m.\u001b[0m\u001b[0mupdate\u001b[0m\u001b[0;34m(\u001b[0m\u001b[0mdata_collection\u001b[0m\u001b[0;34m)\u001b[0m\u001b[0;34m\u001b[0m\u001b[0m\n\u001b[0m\u001b[1;32m    102\u001b[0m \u001b[0;34m\u001b[0m\u001b[0m\n\u001b[1;32m    103\u001b[0m     \u001b[0;32mwith\u001b[0m \u001b[0mtf\u001b[0m\u001b[0;34m.\u001b[0m\u001b[0mname_scope\u001b[0m\u001b[0;34m(\u001b[0m\u001b[0;34m\"DATA_FEED\"\u001b[0m\u001b[0;34m)\u001b[0m\u001b[0;34m:\u001b[0m\u001b[0;34m\u001b[0m\u001b[0m\n",
      "\u001b[0;31mAttributeError\u001b[0m: 'builtin_function_or_method' object has no attribute 'update'"
     ]
    }
   ],
   "source": [
    "# Run the model\n",
    "baseline_lstm.exec_core(\n",
    "    epochs=EPOCHS,\n",
    "    num_time_steps=NUM_TIME_STEPS,\n",
    "    num_inputs=NUM_INPUTS,\n",
    "    num_outputs=NUM_OUTPUTS,\n",
    "    num_neurons=NUM_NEURONS,\n",
    "    learning_rate=LEARNING_RATE,\n",
    "    tensorboard_dir=TENSORBOARD_DIR,\n",
    "    data_collection=data_collection,\n",
    "    clip_grad=None\n",
    ")"
   ]
  },
  {
   "cell_type": "code",
   "execution_count": null,
   "metadata": {},
   "outputs": [],
   "source": []
  }
 ],
 "metadata": {
  "kernelspec": {
   "display_name": "Python 3",
   "language": "python",
   "name": "python3"
  },
  "language_info": {
   "codemirror_mode": {
    "name": "ipython",
    "version": 3
   },
   "file_extension": ".py",
   "mimetype": "text/x-python",
   "name": "python",
   "nbconvert_exporter": "python",
   "pygments_lexer": "ipython3",
   "version": "3.6.5"
  }
 },
 "nbformat": 4,
 "nbformat_minor": 2
}
