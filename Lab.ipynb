{
 "cells": [
  {
   "cell_type": "code",
   "execution_count": 1,
   "metadata": {},
   "outputs": [],
   "source": [
    "import numpy as np\n",
    "import pandas as pd\n",
    "from constants import *\n",
    "from core.tools.time_series import *\n",
    "from core.tools.data_import import *\n",
    "import matplotlib\n",
    "import matplotlib.pyplot as plt"
   ]
  },
  {
   "cell_type": "code",
   "execution_count": 2,
   "metadata": {},
   "outputs": [
    {
     "name": "stdout",
     "output_type": "stream",
     "text": [
      "Dataset loaded.    \n",
      "\tIndex type: datetime64[ns]    \n",
      "\tData type: float64\n"
     ]
    }
   ],
   "source": [
    "df = load_dataset(UNRATE_DIR[\"MAC\"])"
   ]
  },
  {
   "cell_type": "code",
   "execution_count": 3,
   "metadata": {},
   "outputs": [],
   "source": [
    "dd = differencing(df, order=2, periods=1)\n",
    "d2 = differencing(df, order=2, periods=[1,1])"
   ]
  },
  {
   "cell_type": "code",
   "execution_count": 4,
   "metadata": {},
   "outputs": [
    {
     "name": "stdout",
     "output_type": "stream",
     "text": [
      "            UNRATE\n",
      "DATE              \n",
      "1948-01-01     3.4\n",
      "1948-02-01     3.8\n",
      "1948-03-01     4.0\n",
      "1948-04-01     3.9\n",
      "1948-05-01     3.5\n",
      "            UNRATE_period1_order2\n",
      "DATE                             \n",
      "1948-01-01                    NaN\n",
      "1948-02-01                    NaN\n",
      "1948-03-01                   -0.2\n",
      "1948-04-01                   -0.3\n",
      "1948-05-01                   -0.3\n",
      "            UNRATE_period[1, 1]_order2\n",
      "DATE                                  \n",
      "1948-01-01                         NaN\n",
      "1948-02-01                         NaN\n",
      "1948-03-01                        -0.2\n",
      "1948-04-01                        -0.3\n",
      "1948-05-01                        -0.3\n"
     ]
    }
   ],
   "source": [
    "print(df.head())\n",
    "print(dd.head())\n",
    "print(d2.head())"
   ]
  },
  {
   "cell_type": "code",
   "execution_count": 4,
   "metadata": {},
   "outputs": [
    {
     "data": {
      "text/plain": [
       "<matplotlib.legend.Legend at 0x120b6e278>"
      ]
     },
     "execution_count": 4,
     "metadata": {},
     "output_type": "execute_result"
    },
    {
     "data": {
      "image/png": "[encoded data removed]",
      "text/plain": [
       "<Figure size 432x288 with 1 Axes>"
      ]
     },
     "metadata": {
      "needs_background": "light"
     },
     "output_type": "display_data"
    }
   ],
   "source": [
    "plt.plot(X[-1])\n",
    "plt.plot(y[-1])\n",
    "plt.legend([\"Predictor\", \"Response\"])"
   ]
  },
  {
   "cell_type": "code",
   "execution_count": null,
   "metadata": {},
   "outputs": [],
   "source": []
  }
 ],
 "metadata": {
  "kernelspec": {
   "display_name": "Python 3",
   "language": "python",
   "name": "python3"
  },
  "language_info": {
   "codemirror_mode": {
    "name": "ipython",
    "version": 3
   },
   "file_extension": ".py",
   "mimetype": "text/x-python",
   "name": "python",
   "nbconvert_exporter": "python",
   "pygments_lexer": "ipython3",
   "version": "3.6.5"
  }
 },
 "nbformat": 4,
 "nbformat_minor": 2
}
