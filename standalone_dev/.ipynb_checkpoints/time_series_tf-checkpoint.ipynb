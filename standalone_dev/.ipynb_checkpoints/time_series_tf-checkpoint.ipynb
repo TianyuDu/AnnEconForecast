{
 "cells": [
  {
   "cell_type": "code",
   "execution_count": 1,
   "metadata": {},
   "outputs": [],
   "source": [
    "import numpy as np\n",
    "import pandas as pd\n",
    "import tensorflow as tf"
   ]
  },
  {
   "cell_type": "code",
   "execution_count": 2,
   "metadata": {},
   "outputs": [],
   "source": [
    "import matplotlib\n",
    "import matplotlib.pyplot as plt\n",
    "plt.style.use(\"seaborn-dark\")"
   ]
  },
  {
   "cell_type": "code",
   "execution_count": 3,
   "metadata": {},
   "outputs": [],
   "source": [
    "import tools\n",
    "from typing import List, Tuple"
   ]
  },
  {
   "cell_type": "code",
   "execution_count": 4,
   "metadata": {},
   "outputs": [
    {
     "name": "stdout",
     "output_type": "stream",
     "text": [
      "CPI    float64\n",
      "dtype: object\n"
     ]
    },
    {
     "data": {
      "text/html": [
       "<div>\n",
       "<style scoped>\n",
       "    .dataframe tbody tr th:only-of-type {\n",
       "        vertical-align: middle;\n",
       "    }\n",
       "\n",
       "    .dataframe tbody tr th {\n",
       "        vertical-align: top;\n",
       "    }\n",
       "\n",
       "    .dataframe thead th {\n",
       "        text-align: right;\n",
       "    }\n",
       "</style>\n",
       "<table border=\"1\" class=\"dataframe\">\n",
       "  <thead>\n",
       "    <tr style=\"text-align: right;\">\n",
       "      <th></th>\n",
       "      <th>CPI</th>\n",
       "    </tr>\n",
       "    <tr>\n",
       "      <th>DATE</th>\n",
       "      <th></th>\n",
       "    </tr>\n",
       "  </thead>\n",
       "  <tbody>\n",
       "    <tr>\n",
       "      <th>1947-02-01</th>\n",
       "      <td>21.62</td>\n",
       "    </tr>\n",
       "    <tr>\n",
       "      <th>1947-03-01</th>\n",
       "      <td>22.00</td>\n",
       "    </tr>\n",
       "    <tr>\n",
       "      <th>1947-04-01</th>\n",
       "      <td>22.00</td>\n",
       "    </tr>\n",
       "    <tr>\n",
       "      <th>1947-05-01</th>\n",
       "      <td>21.95</td>\n",
       "    </tr>\n",
       "    <tr>\n",
       "      <th>1947-06-01</th>\n",
       "      <td>22.08</td>\n",
       "    </tr>\n",
       "  </tbody>\n",
       "</table>\n",
       "</div>"
      ],
      "text/plain": [
       "              CPI\n",
       "DATE             \n",
       "1947-02-01  21.62\n",
       "1947-03-01  22.00\n",
       "1947-04-01  22.00\n",
       "1947-05-01  21.95\n",
       "1947-06-01  22.08"
      ]
     },
     "execution_count": 4,
     "metadata": {},
     "output_type": "execute_result"
    }
   ],
   "source": [
    "df = pd.read_csv(\"./data/CPIAUCSL.csv\", index_col=0, parse_dates=True)\n",
    "# df[\"DATE\"] = pd.to_datetime(df[\"DATE\"])\n",
    "df.columns = [\"CPI\"]\n",
    "print(df.dtypes)\n",
    "df.head()\n",
    "# month_df = df.resample(\"M\").mean().head()"
   ]
  },
  {
   "cell_type": "code",
   "execution_count": 5,
   "metadata": {},
   "outputs": [
    {
     "name": "stdout",
     "output_type": "stream",
     "text": [
      "Failed time step ignored: 859\n",
      "Failed time step ignored: 860\n",
      "Failed time step ignored: 861\n"
     ]
    }
   ],
   "source": [
    "slp = tools.gen_slp_sequential(df, num_time_steps=3)"
   ]
  },
  {
   "cell_type": "code",
   "execution_count": 6,
   "metadata": {},
   "outputs": [
    {
     "name": "stdout",
     "output_type": "stream",
     "text": [
      "num_instances=859, num_inputs=1, num_outputs=1, num_time_steps=3\n"
     ]
    }
   ],
   "source": [
    "X, y, ts = tools.format_instances(slp)"
   ]
  },
  {
   "cell_type": "code",
   "execution_count": 7,
   "metadata": {},
   "outputs": [],
   "source": [
    "def split_dataset(\n",
    "    X: np.ndarray,\n",
    "    y: np.ndarray,\n",
    "    ts: List[pd.Timestamp],\n",
    "    ratio={\"train\": 0.8, \"val\": 0.1, \"test\": 0.1},\n",
    "    shuffle=False\n",
    "):\n",
    "    if shuffle:\n",
    "        raise NotImplementedError()\n",
    "    train_end = int(ratio[\"train\"] * X.shape[0])\n",
    "    val_end = train_end + int(ratio[\"val\"] * X.shape[0])\n",
    "    return (X_train, y_train, ts_train,\n",
    "            X_val, y_val, ts_val,\n",
    "            X_test, y_test, ts_test\n",
    "           )"
   ]
  },
  {
   "cell_type": "code",
   "execution_count": null,
   "metadata": {},
   "outputs": [],
   "source": []
  }
 ],
 "metadata": {
  "kernelspec": {
   "display_name": "Python 3",
   "language": "python",
   "name": "python3"
  },
  "language_info": {
   "codemirror_mode": {
    "name": "ipython",
    "version": 3
   },
   "file_extension": ".py",
   "mimetype": "text/x-python",
   "name": "python",
   "nbconvert_exporter": "python",
   "pygments_lexer": "ipython3",
   "version": "3.6.5"
  }
 },
 "nbformat": 4,
 "nbformat_minor": 2
}
