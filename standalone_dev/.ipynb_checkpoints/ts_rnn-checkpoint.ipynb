{
 "cells": [
  {
   "cell_type": "code",
   "execution_count": 1,
   "metadata": {},
   "outputs": [],
   "source": [
    "import numpy as np\n",
    "import pandas as pd\n",
    "import tensorflow as tf\n",
    "import datetime\n",
    "import os\n",
    "import sys\n",
    "from pprint import pprint\n",
    "from pylab import rcParams"
   ]
  },
  {
   "cell_type": "code",
   "execution_count": 2,
   "metadata": {},
   "outputs": [],
   "source": [
    "sys.path.append(\"../\")\n",
    "import core.tools.json_rec as json_rec"
   ]
  },
  {
   "cell_type": "code",
   "execution_count": 3,
   "metadata": {},
   "outputs": [],
   "source": [
    "import matplotlib\n",
    "import matplotlib.pyplot as plt\n",
    "plt.style.use(\"seaborn-dark\")"
   ]
  },
  {
   "cell_type": "code",
   "execution_count": 4,
   "metadata": {},
   "outputs": [],
   "source": [
    "import tools\n",
    "from typing import List, Tuple"
   ]
  },
  {
   "cell_type": "code",
   "execution_count": 5,
   "metadata": {},
   "outputs": [],
   "source": [
    "now = datetime.datetime.now().strftime(\"%Y-%m-%d_%H:%M:%S\")"
   ]
  },
  {
   "cell_type": "markdown",
   "metadata": {},
   "source": [
    "### CONTROL PANEL"
   ]
  },
  {
   "cell_type": "code",
   "execution_count": 6,
   "metadata": {},
   "outputs": [
    {
     "name": "stdout",
     "output_type": "stream",
     "text": [
      "Creating directory: ./saved/2019-01-07_19:33:20\n",
      "Creating directory: ./saved/2019-01-07_19:33:20/tensorboard\n",
      "Creating directory: ./saved/2019-01-07_19:33:20/figures\n",
      "Creating directory: ./saved/2019-01-07_19:33:20/numericals\n",
      "{'BASE_PATH': './saved/2019-01-07_19:33:20',\n",
      " 'FIG_PATH': './saved/2019-01-07_19:33:20/figures',\n",
      " 'NUM_PATH': './saved/2019-01-07_19:33:20/numericals',\n",
      " 'TB_PATH': './saved/2019-01-07_19:33:20/tensorboard'}\n"
     ]
    }
   ],
   "source": [
    "PATH_COL = tools.mkdirs(f\"./saved/{now}\")\n",
    "pprint(PATH_COL)\n",
    "PARAMS = dict(\n",
    "    COL_NAME = \"UNRATE\",\n",
    "    P = 36,\n",
    "    NUM_TIME_STEPS = 36,\n",
    "    D = 1,\n",
    "    Q = None,\n",
    "    NUM_INPUTS = 1,\n",
    "    NUM_OUTPUTS = 1,\n",
    "    # Training Config\n",
    "    RNN_NEURONS = [256, 512, 1024],\n",
    "    LR = 0.01,\n",
    "    EPOCHS = None,\n",
    "    CELL_TYPE = [tf.nn.rnn_cell.LSTMCell, tf.nn.rnn_cell.LSTMCell, tf.nn.rnn_cell.LSTMCell],\n",
    "    PATIENT = 100,\n",
    "    EPSILON = 1e-8\n",
    ")"
   ]
  },
  {
   "cell_type": "code",
   "execution_count": 7,
   "metadata": {},
   "outputs": [],
   "source": [
    "globals().update(PATH_COL)\n",
    "globals().update(PARAMS)"
   ]
  },
  {
   "cell_type": "code",
   "execution_count": 8,
   "metadata": {},
   "outputs": [],
   "source": [
    "json_param = PARAMS.copy()\n",
    "if not isinstance(json_param[\"CELL_TYPE\"], str):\n",
    "    json_param[\"CELL_TYPE\"] = [str(x) for x in json_param[\"CELL_TYPE\"]]"
   ]
  },
  {
   "cell_type": "code",
   "execution_count": 9,
   "metadata": {},
   "outputs": [
    {
     "data": {
      "text/plain": [
       "{'COL_NAME': 'UNRATE',\n",
       " 'P': 36,\n",
       " 'NUM_TIME_STEPS': 36,\n",
       " 'D': 1,\n",
       " 'Q': None,\n",
       " 'NUM_INPUTS': 1,\n",
       " 'NUM_OUTPUTS': 1,\n",
       " 'RNN_NEURONS': [256, 512, 1024],\n",
       " 'LR': 0.01,\n",
       " 'EPOCHS': None,\n",
       " 'CELL_TYPE': [\"<class 'tensorflow.python.ops.rnn_cell_impl.LSTMCell'>\",\n",
       "  \"<class 'tensorflow.python.ops.rnn_cell_impl.LSTMCell'>\",\n",
       "  \"<class 'tensorflow.python.ops.rnn_cell_impl.LSTMCell'>\"],\n",
       " 'PATIENT': 100,\n",
       " 'EPSILON': 1e-08}"
      ]
     },
     "execution_count": 9,
     "metadata": {},
     "output_type": "execute_result"
    }
   ],
   "source": [
    "json_param"
   ]
  },
  {
   "cell_type": "code",
   "execution_count": 10,
   "metadata": {},
   "outputs": [],
   "source": [
    "param_writer = json_rec.ParamWriter()\n",
    "param_writer.write(json_param, file_dir=PATH_COL[\"BASE_PATH\"] + \"/params.json\")\n",
    "param_writer.write(PATH_COL, file_dir=PATH_COL[\"BASE_PATH\"] + \"/paths.json\")"
   ]
  },
  {
   "cell_type": "code",
   "execution_count": 11,
   "metadata": {},
   "outputs": [
    {
     "name": "stdout",
     "output_type": "stream",
     "text": [
      "UNRATE    float64\n",
      "dtype: object\n"
     ]
    },
    {
     "data": {
      "text/html": [
       "<div>\n",
       "<style scoped>\n",
       "    .dataframe tbody tr th:only-of-type {\n",
       "        vertical-align: middle;\n",
       "    }\n",
       "\n",
       "    .dataframe tbody tr th {\n",
       "        vertical-align: top;\n",
       "    }\n",
       "\n",
       "    .dataframe thead th {\n",
       "        text-align: right;\n",
       "    }\n",
       "</style>\n",
       "<table border=\"1\" class=\"dataframe\">\n",
       "  <thead>\n",
       "    <tr style=\"text-align: right;\">\n",
       "      <th></th>\n",
       "      <th>UNRATE</th>\n",
       "    </tr>\n",
       "    <tr>\n",
       "      <th>DATE</th>\n",
       "      <th></th>\n",
       "    </tr>\n",
       "  </thead>\n",
       "  <tbody>\n",
       "    <tr>\n",
       "      <th>1948-01-01</th>\n",
       "      <td>3.4</td>\n",
       "    </tr>\n",
       "    <tr>\n",
       "      <th>1948-02-01</th>\n",
       "      <td>3.8</td>\n",
       "    </tr>\n",
       "    <tr>\n",
       "      <th>1948-03-01</th>\n",
       "      <td>4.0</td>\n",
       "    </tr>\n",
       "    <tr>\n",
       "      <th>1948-04-01</th>\n",
       "      <td>3.9</td>\n",
       "    </tr>\n",
       "    <tr>\n",
       "      <th>1948-05-01</th>\n",
       "      <td>3.5</td>\n",
       "    </tr>\n",
       "  </tbody>\n",
       "</table>\n",
       "</div>"
      ],
      "text/plain": [
       "            UNRATE\n",
       "DATE              \n",
       "1948-01-01     3.4\n",
       "1948-02-01     3.8\n",
       "1948-03-01     4.0\n",
       "1948-04-01     3.9\n",
       "1948-05-01     3.5"
      ]
     },
     "execution_count": 11,
     "metadata": {},
     "output_type": "execute_result"
    }
   ],
   "source": [
    "df = pd.read_csv(\"./data/UNRATE.csv\", index_col=0, parse_dates=True)\n",
    "# df[\"DATE\"] = pd.to_datetime(df[\"DATE\"])\n",
    "df.columns = [COL_NAME]\n",
    "print(df.dtypes)\n",
    "df.head()\n",
    "# month_df = df.resample(\"M\").mean().head()"
   ]
  },
  {
   "cell_type": "code",
   "execution_count": 12,
   "metadata": {},
   "outputs": [
    {
     "name": "stdout",
     "output_type": "stream",
     "text": [
      "Failed time step ignored: 815\n",
      "Failed time step ignored: 816\n",
      "Failed time step ignored: 817\n",
      "Failed time step ignored: 818\n",
      "Failed time step ignored: 819\n",
      "Failed time step ignored: 820\n",
      "Failed time step ignored: 821\n",
      "Failed time step ignored: 822\n",
      "Failed time step ignored: 823\n",
      "Failed time step ignored: 824\n",
      "Failed time step ignored: 825\n",
      "Failed time step ignored: 826\n",
      "Failed time step ignored: 827\n",
      "Failed time step ignored: 828\n",
      "Failed time step ignored: 829\n",
      "Failed time step ignored: 830\n",
      "Failed time step ignored: 831\n",
      "Failed time step ignored: 832\n",
      "Failed time step ignored: 833\n",
      "Failed time step ignored: 834\n",
      "Failed time step ignored: 835\n",
      "Failed time step ignored: 836\n",
      "Failed time step ignored: 837\n",
      "Failed time step ignored: 838\n",
      "Failed time step ignored: 839\n",
      "Failed time step ignored: 840\n",
      "Failed time step ignored: 841\n",
      "Failed time step ignored: 842\n",
      "Failed time step ignored: 843\n",
      "Failed time step ignored: 844\n",
      "Failed time step ignored: 845\n",
      "Failed time step ignored: 846\n",
      "Failed time step ignored: 847\n",
      "Failed time step ignored: 848\n",
      "Failed time step ignored: 849\n",
      "Failed time step ignored: 850\n"
     ]
    }
   ],
   "source": [
    "diff = df.diff()  #  Take the first order differenced.\n",
    "diff.dropna(inplace=True)\n",
    "slp = tools.gen_slp_sequential(diff, num_time_steps=P)"
   ]
  },
  {
   "cell_type": "code",
   "execution_count": 13,
   "metadata": {},
   "outputs": [
    {
     "name": "stdout",
     "output_type": "stream",
     "text": [
      "num_instances=815, num_inputs=1, num_outputs=1, num_time_steps=36\n"
     ]
    }
   ],
   "source": [
    "X, y, ts = tools.format_instances(slp)"
   ]
  },
  {
   "cell_type": "code",
   "execution_count": 14,
   "metadata": {},
   "outputs": [],
   "source": [
    "(X_train, y_train, ts_train,\n",
    "X_val, y_val, ts_val,\n",
    "X_test, y_test, ts_test) = tools.split_dataset(X, y, ts)"
   ]
  },
  {
   "cell_type": "code",
   "execution_count": 15,
   "metadata": {
    "scrolled": false
   },
   "outputs": [
    {
     "data": {
      "image/png": "[encoded data removed]",
      "text/plain": [
       "<Figure size 432x288 with 2 Axes>"
      ]
     },
     "metadata": {},
     "output_type": "display_data"
    }
   ],
   "source": [
    "plt.close()\n",
    "rcParams[\"figure.figsize\"] = (32, 16)\n",
    "ax1 = plt.subplot(2, 1, 1)\n",
    "plt.title(\"Observed Series\")\n",
    "plt.plot(ts_train, df[COL_NAME][ts_train], label=\"train\")\n",
    "plt.plot(ts_val, df[COL_NAME][ts_val], label=\"val\")\n",
    "plt.plot(ts_test, df[COL_NAME][ts_test], label=\"test\")\n",
    "plt.legend()\n",
    "plt.grid(True)\n",
    "\n",
    "ax2 = plt.subplot(2, 1, 2)\n",
    "rcParams[\"figure.figsize\"] = (32, 16)\n",
    "plt.title(\"First Order Differenced\")\n",
    "plt.plot(ts_train, y_train[:, -1, :], label=\"train\")\n",
    "plt.plot(ts_val, y_val[:, -1, :], label=\"val\")\n",
    "plt.plot(ts_test, y_test[:, -1, :], label=\"test\")\n",
    "plt.legend()\n",
    "plt.grid(True)\n",
    "\n",
    "plt.savefig(PATH_COL[\"FIG_PATH\"] + \"/raw.png\", dpi=600)\n",
    "plt.show()"
   ]
  },
  {
   "cell_type": "code",
   "execution_count": 16,
   "metadata": {},
   "outputs": [],
   "source": [
    "# ax = plt.figure(figsize=(32,8))\n",
    "# plt.title(\"Log\")\n",
    "# plt.plot(ts_train, np.log(y_train[:, -1, :]), label=\"train\")\n",
    "# plt.plot(ts_val, np.log((y_val[:, -1, :])), label=\"val\")\n",
    "# plt.plot(ts_test, np.log(y_test[:, -1, :]), label=\"test\")\n",
    "# plt.legend()\n",
    "# plt.grid(True)\n",
    "# plt.show()"
   ]
  },
  {
   "cell_type": "code",
   "execution_count": 17,
   "metadata": {},
   "outputs": [],
   "source": [
    "tf.reset_default_graph()\n",
    "# Build LSTM Neural Net\n",
    "# Data IO Layers\n",
    "with tf.name_scope(\"DATA_IO\"):\n",
    "    X = tf.placeholder(\n",
    "        tf.float32,\n",
    "        [None, NUM_TIME_STEPS, NUM_INPUTS],\n",
    "        name=\"FEATURE\"\n",
    "    )\n",
    "    y = tf.placeholder(\n",
    "        tf.float32,\n",
    "        [None, NUM_TIME_STEPS, NUM_OUTPUTS],\n",
    "        name=\"LABEL\"\n",
    "    )"
   ]
  },
  {
   "cell_type": "code",
   "execution_count": 18,
   "metadata": {},
   "outputs": [],
   "source": [
    "# Recurrent Structure.\n",
    "# with tf.name_scope(\"RECURRENT\"):\n",
    "# if CELL_TYPE == \"GRU\":\n",
    "#     cells = [\n",
    "#         tf.nn.rnn_cell.GRUCell(\n",
    "#             num_units=x,\n",
    "#             name=f\"GRU_LAYER_{i}\")\n",
    "#         for i, x in enumerate(RNN_NEURONS)\n",
    "#     ]\n",
    "# elif CELL_TYPE == \"LSTM\":\n",
    "#     cells = [\n",
    "#         tf.nn.rnn_cell.LSTMCell(\n",
    "#             num_units=x,\n",
    "#             name=f\"LSTM_LAYER_{i}\")\n",
    "#         for i, x in enumerate(RNN_NEURONS)\n",
    "#     ]\n",
    "# else:\n",
    "#     cells = [\n",
    "#         Cell(\n",
    "#             num_units=x,\n",
    "#             name=f\"RNN_LAYER_{i}\")\n",
    "#         for i, (Cell, x) in enumerate(zip(CELL_TYPE, x))\n",
    "#     ]\n",
    "\n",
    "cells = [\n",
    "    Cell(\n",
    "        num_units=x,\n",
    "        name=f\"RNN_LAYER_{i}\")\n",
    "    for i, (Cell, x) in enumerate(zip(CELL_TYPE, RNN_NEURONS))\n",
    "]\n",
    "\n",
    "multi_cell = tf.nn.rnn_cell.MultiRNNCell(cells)\n",
    "outputs, state = tf.nn.dynamic_rnn(\n",
    "    cell=multi_cell,\n",
    "    inputs=X,\n",
    "    dtype=tf.float32\n",
    ")"
   ]
  },
  {
   "cell_type": "code",
   "execution_count": 19,
   "metadata": {},
   "outputs": [],
   "source": [
    "# with tf.name_scope(\"OUTPUT\"):\n",
    "reg_outputs = tf.layers.dense(\n",
    "    outputs,\n",
    "    NUM_OUTPUTS,\n",
    "    kernel_initializer=tf.random_normal_initializer(),\n",
    "    bias_initializer=tf.random_normal_initializer(),\n",
    "    activation=None,  # linear activation.\n",
    "    name=\"OUTPUT_DENSE\"\n",
    ")\n",
    "# W = tf.Variable(\n",
    "#     tf.random_normal(\n",
    "#     [RNN_NEURONS[-1], NUM_OUTPUTS],\n",
    "#     name=\"OUTPUT_WEIGHT\"\n",
    "#     )\n",
    "# )\n",
    "# b = tf.Variable(\n",
    "#     tf.random_normal(\n",
    "#     [NUM_OUTPUTS, 1],\n",
    "#     name=\"OUTPUT_BIAS\"\n",
    "#     )\n",
    "# )\n",
    "# reg_outputs = outputs @ W + b"
   ]
  },
  {
   "cell_type": "code",
   "execution_count": 20,
   "metadata": {},
   "outputs": [],
   "source": [
    "with tf.name_scope(\"METRICS\"):\n",
    "#     loss = tf.losses.mean_squared_error(\n",
    "#         labels=y,\n",
    "#         predictions=reg_outputs,\n",
    "#     )\n",
    "    \n",
    "    # Redundent losses to evaluate and ensure the correctness of\n",
    "    # built-in losses function.\n",
    "    loss = tf.reduce_mean(\n",
    "        tf.square(y - reg_outputs),\n",
    "        name=\"Red_MSE\",\n",
    "        axis=None\n",
    "    )\n",
    "    tf.summary.scalar(\"MSE\", loss)\n",
    "#     tf.summary.scalar(\"Red_MSE\", loss2)"
   ]
  },
  {
   "cell_type": "code",
   "execution_count": 21,
   "metadata": {},
   "outputs": [],
   "source": [
    "with tf.name_scope(\"OPTIMIZER\"):\n",
    "    optimizer = tf.train.AdamOptimizer(\n",
    "        learning_rate=LR,\n",
    "        name=\"OPTIMIZER\"\n",
    "    )\n",
    "#     gvs = optimizer.compute_gradients(loss)\n",
    "#     capped_gvs = [\n",
    "#         (tf.clip_by_value(\n",
    "#             grad, -1.0, 1.0), var)\n",
    "#         for grad, var in gvs\n",
    "#     ]\n",
    "#     train = optimizer.apply_gradients(capped_gvs)\n",
    "    train = optimizer.minimize(loss)"
   ]
  },
  {
   "cell_type": "code",
   "execution_count": 22,
   "metadata": {
    "scrolled": false
   },
   "outputs": [
    {
     "name": "stdout",
     "output_type": "stream",
     "text": [
      "Epoch=0: train_MSE=135.3621368408203, val_MSE=168.69210815429688, current_patient=0\n",
      "Epoch=100: train_MSE=0.11732931435108185, val_MSE=0.08383776247501373, current_patient=0\n",
      "Epoch=200: train_MSE=0.048818837851285934, val_MSE=0.03691777214407921, current_patient=0\n",
      "Epoch=300: train_MSE=0.04565301910042763, val_MSE=0.03520144149661064, current_patient=0\n",
      "Epoch=400: train_MSE=0.04529929906129837, val_MSE=0.03504402935504913, current_patient=0\n",
      "Epoch=500: train_MSE=0.045056115835905075, val_MSE=0.03493071347475052, current_patient=0\n",
      "Epoch=600: train_MSE=0.04486018791794777, val_MSE=0.034835126250982285, current_patient=0\n",
      "Epoch=700: train_MSE=0.04469718411564827, val_MSE=0.034749530255794525, current_patient=0\n"
     ]
    },
    {
     "ename": "KeyboardInterrupt",
     "evalue": "",
     "output_type": "error",
     "traceback": [
      "\u001b[0;31m---------------------------------------------------------------------------\u001b[0m",
      "\u001b[0;31mKeyboardInterrupt\u001b[0m                         Traceback (most recent call last)",
      "\u001b[0;32m<ipython-input-22-da898aec1946>\u001b[0m in \u001b[0;36m<module>\u001b[0;34m()\u001b[0m\n\u001b[1;32m     36\u001b[0m         \u001b[0mval_mse_last\u001b[0m \u001b[0;34m=\u001b[0m \u001b[0mval_mse\u001b[0m\u001b[0;34m\u001b[0m\u001b[0m\n\u001b[1;32m     37\u001b[0m         \u001b[0mtrain_mse\u001b[0m \u001b[0;34m=\u001b[0m \u001b[0mloss\u001b[0m\u001b[0;34m.\u001b[0m\u001b[0meval\u001b[0m\u001b[0;34m(\u001b[0m\u001b[0mfeed_dict\u001b[0m\u001b[0;34m=\u001b[0m\u001b[0;34m{\u001b[0m\u001b[0mX\u001b[0m\u001b[0;34m:\u001b[0m \u001b[0mX_train\u001b[0m\u001b[0;34m,\u001b[0m \u001b[0my\u001b[0m\u001b[0;34m:\u001b[0m \u001b[0my_train\u001b[0m\u001b[0;34m}\u001b[0m\u001b[0;34m)\u001b[0m\u001b[0;34m\u001b[0m\u001b[0m\n\u001b[0;32m---> 38\u001b[0;31m         \u001b[0mval_mse\u001b[0m \u001b[0;34m=\u001b[0m \u001b[0mloss\u001b[0m\u001b[0;34m.\u001b[0m\u001b[0meval\u001b[0m\u001b[0;34m(\u001b[0m\u001b[0mfeed_dict\u001b[0m\u001b[0;34m=\u001b[0m\u001b[0;34m{\u001b[0m\u001b[0mX\u001b[0m\u001b[0;34m:\u001b[0m \u001b[0mX_val\u001b[0m\u001b[0;34m,\u001b[0m \u001b[0my\u001b[0m\u001b[0;34m:\u001b[0m \u001b[0my_val\u001b[0m\u001b[0;34m}\u001b[0m\u001b[0;34m)\u001b[0m\u001b[0;34m\u001b[0m\u001b[0m\n\u001b[0m\u001b[1;32m     39\u001b[0m         \u001b[0;32mif\u001b[0m \u001b[0;34m(\u001b[0m\u001b[0mval_mse_last\u001b[0m \u001b[0;34m-\u001b[0m \u001b[0mval_mse\u001b[0m\u001b[0;34m)\u001b[0m \u001b[0;34m<\u001b[0m \u001b[0mPARAMS\u001b[0m\u001b[0;34m[\u001b[0m\u001b[0;34m\"EPSILON\"\u001b[0m\u001b[0;34m]\u001b[0m\u001b[0;34m:\u001b[0m\u001b[0;34m\u001b[0m\u001b[0m\n\u001b[1;32m     40\u001b[0m             \u001b[0;31m# if the improvement is less than epsilon.\u001b[0m\u001b[0;34m\u001b[0m\u001b[0;34m\u001b[0m\u001b[0m\n",
      "\u001b[0;32m~/anaconda3/envs/tensorflow_p36/lib/python3.6/site-packages/tensorflow/python/framework/ops.py\u001b[0m in \u001b[0;36meval\u001b[0;34m(self, feed_dict, session)\u001b[0m\n\u001b[1;32m    711\u001b[0m \u001b[0;34m\u001b[0m\u001b[0m\n\u001b[1;32m    712\u001b[0m     \"\"\"\n\u001b[0;32m--> 713\u001b[0;31m     \u001b[0;32mreturn\u001b[0m \u001b[0m_eval_using_default_session\u001b[0m\u001b[0;34m(\u001b[0m\u001b[0mself\u001b[0m\u001b[0;34m,\u001b[0m \u001b[0mfeed_dict\u001b[0m\u001b[0;34m,\u001b[0m \u001b[0mself\u001b[0m\u001b[0;34m.\u001b[0m\u001b[0mgraph\u001b[0m\u001b[0;34m,\u001b[0m \u001b[0msession\u001b[0m\u001b[0;34m)\u001b[0m\u001b[0;34m\u001b[0m\u001b[0m\n\u001b[0m\u001b[1;32m    714\u001b[0m \u001b[0;34m\u001b[0m\u001b[0m\n\u001b[1;32m    715\u001b[0m \u001b[0;34m\u001b[0m\u001b[0m\n",
      "\u001b[0;32m~/anaconda3/envs/tensorflow_p36/lib/python3.6/site-packages/tensorflow/python/framework/ops.py\u001b[0m in \u001b[0;36m_eval_using_default_session\u001b[0;34m(tensors, feed_dict, graph, session)\u001b[0m\n\u001b[1;32m   5155\u001b[0m                        \u001b[0;34m\"the tensor's graph is different from the session's \"\u001b[0m\u001b[0;34m\u001b[0m\u001b[0m\n\u001b[1;32m   5156\u001b[0m                        \"graph.\")\n\u001b[0;32m-> 5157\u001b[0;31m   \u001b[0;32mreturn\u001b[0m \u001b[0msession\u001b[0m\u001b[0;34m.\u001b[0m\u001b[0mrun\u001b[0m\u001b[0;34m(\u001b[0m\u001b[0mtensors\u001b[0m\u001b[0;34m,\u001b[0m \u001b[0mfeed_dict\u001b[0m\u001b[0;34m)\u001b[0m\u001b[0;34m\u001b[0m\u001b[0m\n\u001b[0m\u001b[1;32m   5158\u001b[0m \u001b[0;34m\u001b[0m\u001b[0m\n\u001b[1;32m   5159\u001b[0m \u001b[0;34m\u001b[0m\u001b[0m\n",
      "\u001b[0;32m~/anaconda3/envs/tensorflow_p36/lib/python3.6/site-packages/tensorflow/python/client/session.py\u001b[0m in \u001b[0;36mrun\u001b[0;34m(self, fetches, feed_dict, options, run_metadata)\u001b[0m\n\u001b[1;32m    927\u001b[0m     \u001b[0;32mtry\u001b[0m\u001b[0;34m:\u001b[0m\u001b[0;34m\u001b[0m\u001b[0m\n\u001b[1;32m    928\u001b[0m       result = self._run(None, fetches, feed_dict, options_ptr,\n\u001b[0;32m--> 929\u001b[0;31m                          run_metadata_ptr)\n\u001b[0m\u001b[1;32m    930\u001b[0m       \u001b[0;32mif\u001b[0m \u001b[0mrun_metadata\u001b[0m\u001b[0;34m:\u001b[0m\u001b[0;34m\u001b[0m\u001b[0m\n\u001b[1;32m    931\u001b[0m         \u001b[0mproto_data\u001b[0m \u001b[0;34m=\u001b[0m \u001b[0mtf_session\u001b[0m\u001b[0;34m.\u001b[0m\u001b[0mTF_GetBuffer\u001b[0m\u001b[0;34m(\u001b[0m\u001b[0mrun_metadata_ptr\u001b[0m\u001b[0;34m)\u001b[0m\u001b[0;34m\u001b[0m\u001b[0m\n",
      "\u001b[0;32m~/anaconda3/envs/tensorflow_p36/lib/python3.6/site-packages/tensorflow/python/client/session.py\u001b[0m in \u001b[0;36m_run\u001b[0;34m(self, handle, fetches, feed_dict, options, run_metadata)\u001b[0m\n\u001b[1;32m   1150\u001b[0m     \u001b[0;32mif\u001b[0m \u001b[0mfinal_fetches\u001b[0m \u001b[0;32mor\u001b[0m \u001b[0mfinal_targets\u001b[0m \u001b[0;32mor\u001b[0m \u001b[0;34m(\u001b[0m\u001b[0mhandle\u001b[0m \u001b[0;32mand\u001b[0m \u001b[0mfeed_dict_tensor\u001b[0m\u001b[0;34m)\u001b[0m\u001b[0;34m:\u001b[0m\u001b[0;34m\u001b[0m\u001b[0m\n\u001b[1;32m   1151\u001b[0m       results = self._do_run(handle, final_targets, final_fetches,\n\u001b[0;32m-> 1152\u001b[0;31m                              feed_dict_tensor, options, run_metadata)\n\u001b[0m\u001b[1;32m   1153\u001b[0m     \u001b[0;32melse\u001b[0m\u001b[0;34m:\u001b[0m\u001b[0;34m\u001b[0m\u001b[0m\n\u001b[1;32m   1154\u001b[0m       \u001b[0mresults\u001b[0m \u001b[0;34m=\u001b[0m \u001b[0;34m[\u001b[0m\u001b[0;34m]\u001b[0m\u001b[0;34m\u001b[0m\u001b[0m\n",
      "\u001b[0;32m~/anaconda3/envs/tensorflow_p36/lib/python3.6/site-packages/tensorflow/python/client/session.py\u001b[0m in \u001b[0;36m_do_run\u001b[0;34m(self, handle, target_list, fetch_list, feed_dict, options, run_metadata)\u001b[0m\n\u001b[1;32m   1326\u001b[0m     \u001b[0;32mif\u001b[0m \u001b[0mhandle\u001b[0m \u001b[0;32mis\u001b[0m \u001b[0;32mNone\u001b[0m\u001b[0;34m:\u001b[0m\u001b[0;34m\u001b[0m\u001b[0m\n\u001b[1;32m   1327\u001b[0m       return self._do_call(_run_fn, feeds, fetches, targets, options,\n\u001b[0;32m-> 1328\u001b[0;31m                            run_metadata)\n\u001b[0m\u001b[1;32m   1329\u001b[0m     \u001b[0;32melse\u001b[0m\u001b[0;34m:\u001b[0m\u001b[0;34m\u001b[0m\u001b[0m\n\u001b[1;32m   1330\u001b[0m       \u001b[0;32mreturn\u001b[0m \u001b[0mself\u001b[0m\u001b[0;34m.\u001b[0m\u001b[0m_do_call\u001b[0m\u001b[0;34m(\u001b[0m\u001b[0m_prun_fn\u001b[0m\u001b[0;34m,\u001b[0m \u001b[0mhandle\u001b[0m\u001b[0;34m,\u001b[0m \u001b[0mfeeds\u001b[0m\u001b[0;34m,\u001b[0m \u001b[0mfetches\u001b[0m\u001b[0;34m)\u001b[0m\u001b[0;34m\u001b[0m\u001b[0m\n",
      "\u001b[0;32m~/anaconda3/envs/tensorflow_p36/lib/python3.6/site-packages/tensorflow/python/client/session.py\u001b[0m in \u001b[0;36m_do_call\u001b[0;34m(self, fn, *args)\u001b[0m\n\u001b[1;32m   1332\u001b[0m   \u001b[0;32mdef\u001b[0m \u001b[0m_do_call\u001b[0m\u001b[0;34m(\u001b[0m\u001b[0mself\u001b[0m\u001b[0;34m,\u001b[0m \u001b[0mfn\u001b[0m\u001b[0;34m,\u001b[0m \u001b[0;34m*\u001b[0m\u001b[0margs\u001b[0m\u001b[0;34m)\u001b[0m\u001b[0;34m:\u001b[0m\u001b[0;34m\u001b[0m\u001b[0m\n\u001b[1;32m   1333\u001b[0m     \u001b[0;32mtry\u001b[0m\u001b[0;34m:\u001b[0m\u001b[0;34m\u001b[0m\u001b[0m\n\u001b[0;32m-> 1334\u001b[0;31m       \u001b[0;32mreturn\u001b[0m \u001b[0mfn\u001b[0m\u001b[0;34m(\u001b[0m\u001b[0;34m*\u001b[0m\u001b[0margs\u001b[0m\u001b[0;34m)\u001b[0m\u001b[0;34m\u001b[0m\u001b[0m\n\u001b[0m\u001b[1;32m   1335\u001b[0m     \u001b[0;32mexcept\u001b[0m \u001b[0merrors\u001b[0m\u001b[0;34m.\u001b[0m\u001b[0mOpError\u001b[0m \u001b[0;32mas\u001b[0m \u001b[0me\u001b[0m\u001b[0;34m:\u001b[0m\u001b[0;34m\u001b[0m\u001b[0m\n\u001b[1;32m   1336\u001b[0m       \u001b[0mmessage\u001b[0m \u001b[0;34m=\u001b[0m \u001b[0mcompat\u001b[0m\u001b[0;34m.\u001b[0m\u001b[0mas_text\u001b[0m\u001b[0;34m(\u001b[0m\u001b[0me\u001b[0m\u001b[0;34m.\u001b[0m\u001b[0mmessage\u001b[0m\u001b[0;34m)\u001b[0m\u001b[0;34m\u001b[0m\u001b[0m\n",
      "\u001b[0;32m~/anaconda3/envs/tensorflow_p36/lib/python3.6/site-packages/tensorflow/python/client/session.py\u001b[0m in \u001b[0;36m_run_fn\u001b[0;34m(feed_dict, fetch_list, target_list, options, run_metadata)\u001b[0m\n\u001b[1;32m   1317\u001b[0m       \u001b[0mself\u001b[0m\u001b[0;34m.\u001b[0m\u001b[0m_extend_graph\u001b[0m\u001b[0;34m(\u001b[0m\u001b[0;34m)\u001b[0m\u001b[0;34m\u001b[0m\u001b[0m\n\u001b[1;32m   1318\u001b[0m       return self._call_tf_sessionrun(\n\u001b[0;32m-> 1319\u001b[0;31m           options, feed_dict, fetch_list, target_list, run_metadata)\n\u001b[0m\u001b[1;32m   1320\u001b[0m \u001b[0;34m\u001b[0m\u001b[0m\n\u001b[1;32m   1321\u001b[0m     \u001b[0;32mdef\u001b[0m \u001b[0m_prun_fn\u001b[0m\u001b[0;34m(\u001b[0m\u001b[0mhandle\u001b[0m\u001b[0;34m,\u001b[0m \u001b[0mfeed_dict\u001b[0m\u001b[0;34m,\u001b[0m \u001b[0mfetch_list\u001b[0m\u001b[0;34m)\u001b[0m\u001b[0;34m:\u001b[0m\u001b[0;34m\u001b[0m\u001b[0m\n",
      "\u001b[0;32m~/anaconda3/envs/tensorflow_p36/lib/python3.6/site-packages/tensorflow/python/client/session.py\u001b[0m in \u001b[0;36m_call_tf_sessionrun\u001b[0;34m(self, options, feed_dict, fetch_list, target_list, run_metadata)\u001b[0m\n\u001b[1;32m   1405\u001b[0m     return tf_session.TF_SessionRun_wrapper(\n\u001b[1;32m   1406\u001b[0m         \u001b[0mself\u001b[0m\u001b[0;34m.\u001b[0m\u001b[0m_session\u001b[0m\u001b[0;34m,\u001b[0m \u001b[0moptions\u001b[0m\u001b[0;34m,\u001b[0m \u001b[0mfeed_dict\u001b[0m\u001b[0;34m,\u001b[0m \u001b[0mfetch_list\u001b[0m\u001b[0;34m,\u001b[0m \u001b[0mtarget_list\u001b[0m\u001b[0;34m,\u001b[0m\u001b[0;34m\u001b[0m\u001b[0m\n\u001b[0;32m-> 1407\u001b[0;31m         run_metadata)\n\u001b[0m\u001b[1;32m   1408\u001b[0m \u001b[0;34m\u001b[0m\u001b[0m\n\u001b[1;32m   1409\u001b[0m   \u001b[0;32mdef\u001b[0m \u001b[0m_call_tf_sessionprun\u001b[0m\u001b[0;34m(\u001b[0m\u001b[0mself\u001b[0m\u001b[0;34m,\u001b[0m \u001b[0mhandle\u001b[0m\u001b[0;34m,\u001b[0m \u001b[0mfeed_dict\u001b[0m\u001b[0;34m,\u001b[0m \u001b[0mfetch_list\u001b[0m\u001b[0;34m)\u001b[0m\u001b[0;34m:\u001b[0m\u001b[0;34m\u001b[0m\u001b[0m\n",
      "\u001b[0;31mKeyboardInterrupt\u001b[0m: "
     ]
    }
   ],
   "source": [
    "start = datetime.datetime.now()\n",
    "counter = 0\n",
    "val_mse = np.inf\n",
    "if EPOCHS is None:\n",
    "    EPOCHS = int(100000)\n",
    "    \n",
    "with tf.Session() as sess:\n",
    "    sess.run(tf.global_variables_initializer())\n",
    "    saver = tf.train.Saver()\n",
    "    merged_summary = tf.summary.merge_all()\n",
    "    \n",
    "    train_writer = tf.summary.FileWriter(PATH_COL[\"TB_PATH\"] + \"/train\")\n",
    "    val_writer = tf.summary.FileWriter(PATH_COL[\"TB_PATH\"] + \"/validation\")\n",
    "    \n",
    "    train_writer.add_graph(sess.graph)\n",
    "    for e in range(EPOCHS):\n",
    "#         tools.progbar(e+1, EPOCHS, 30)\n",
    "        sess.run(\n",
    "            train,\n",
    "            feed_dict={X: X_train, y: y_train}\n",
    "        )\n",
    "    \n",
    "        if e % 5 == 0:\n",
    "            tsum = sess.run(\n",
    "                merged_summary,\n",
    "                feed_dict={X: X_train, y: y_train}\n",
    "            )\n",
    "            vsum = sess.run(\n",
    "                merged_summary,\n",
    "                feed_dict={X: X_val, y: y_val}\n",
    "            )\n",
    "            train_writer.add_summary(tsum, e)\n",
    "            val_writer.add_summary(vsum, e)\n",
    "            \n",
    "        # ==== Automatically Stop Training ====\n",
    "        val_mse_last = val_mse\n",
    "        train_mse = loss.eval(feed_dict={X: X_train, y: y_train})\n",
    "        val_mse = loss.eval(feed_dict={X: X_val, y: y_val})\n",
    "        if (val_mse_last - val_mse) < PARAMS[\"EPSILON\"]:\n",
    "            # if the improvement is less than epsilon.\n",
    "            counter += 1\n",
    "        else:\n",
    "            counter -= 1\n",
    "            counter = max(counter, 0)\n",
    "        \n",
    "        if counter >= PARAMS[\"PATIENT\"]:\n",
    "            print(f\"Break training at epoch={e}\")\n",
    "            break\n",
    "        # ==== End ====    \n",
    "            \n",
    "        if e % 100 == 0:\n",
    "            print(f\"Epoch={e}: train_MSE={train_mse}, val_MSE={val_mse}, current_patient={counter}\")\n",
    "            \n",
    "    make_prediction = lambda data: sess.run(reg_outputs, feed_dict={X: data})\n",
    "    pred_train = make_prediction(X_train)\n",
    "    pred_val = make_prediction(X_val)\n",
    "    pred_test = make_prediction(X_test)\n",
    "print(f\"Time taken: {datetime.datetime.now() - start}\")"
   ]
  },
  {
   "cell_type": "code",
   "execution_count": null,
   "metadata": {},
   "outputs": [],
   "source": [
    "extract_last = lambda pred_combo: np.squeeze([x[-1] for x in pred_combo])\n",
    "# NOTE: dfp stands for DataFrame of Prediction\n",
    "dfp_train = pd.DataFrame(data=extract_last(pred_train), index=ts_train)\n",
    "dfp_val = pd.DataFrame(data=extract_last(pred_val), index=ts_val)\n",
    "dfp_test = pd.DataFrame(data=extract_last(pred_test), index=ts_test)"
   ]
  },
  {
   "cell_type": "code",
   "execution_count": null,
   "metadata": {},
   "outputs": [],
   "source": [
    "pred_diff = pd.concat([dfp_train, dfp_val, dfp_test])\n",
    "pred_diff.columns = [COL_NAME]"
   ]
  },
  {
   "cell_type": "code",
   "execution_count": null,
   "metadata": {},
   "outputs": [],
   "source": [
    "pred_raw = tools.inv_diff(pred_diff, df)"
   ]
  },
  {
   "cell_type": "code",
   "execution_count": null,
   "metadata": {},
   "outputs": [],
   "source": [
    "plt.close()\n",
    "# ==== Raw ====\n",
    "ax1 = plt.subplot(2, 1, 1)\n",
    "rcParams[\"figure.figsize\"] = (32, 16)\n",
    "plt.title(\"Ground truth versus Prediction on Raw Series\")\n",
    "plt.plot(df, label=\"Observed\", alpha=.6)\n",
    "plt.plot(pred_raw, label=\"Prediction\", alpha=.6)\n",
    "\n",
    "plt.axvline(x=diff.index[len(X_train)+1], color=\"grey\", alpha=.4, label=\"train-val boundary\")\n",
    "plt.axvline(x=diff.index[-len(X_test)+1], color=\"grey\", alpha=.4, label=\"val-test boundary\")\n",
    "plt.grid(True)\n",
    "\n",
    "ax1.set_xlabel(\"Date\")\n",
    "ax1.set_ylabel(\"UNRATE\")\n",
    "plt.legend()\n",
    "\n",
    "# ==== First order differenced ====\n",
    "ax2 = plt.subplot(2, 1, 2)\n",
    "rcParams[\"figure.figsize\"] = (32, 16)\n",
    "plt.title(\"Ground truth versus Prediction on First Order Differenced\")\n",
    "plt.plot(diff, label=\"Observed(Ground Truth)\", color=\"grey\", alpha=.7)\n",
    "plt.plot(dfp_train, label=\"Train\", alpha=.7)\n",
    "plt.plot(dfp_val, label=\"Validation\", alpha=.7)\n",
    "plt.plot(dfp_test, label=\"Test\", alpha=.7)\n",
    "plt.legend()\n",
    "\n",
    "ax2.set_xlabel(\"Date\")\n",
    "ax2.set_ylabel(\"Change in UNRATE\")\n",
    "plt.grid(True)\n",
    "\n",
    "plt.savefig(PATH_COL[\"FIG_PATH\"] + \"/prediction.png\", dpi=600)\n",
    "plt.show()"
   ]
  },
  {
   "cell_type": "code",
   "execution_count": null,
   "metadata": {},
   "outputs": [],
   "source": [
    "pred_raw.to_csv(PATH_COL[\"NUM_PATH\"] + \"/pred_raw.csv\")\n",
    "dfp_train.to_csv(PATH_COL[\"NUM_PATH\"] + \"/dfp_train.csv\")\n",
    "dfp_val.to_csv(PATH_COL[\"NUM_PATH\"] + \"/dfp_val.csv\")\n",
    "dfp_test.to_csv(PATH_COL[\"NUM_PATH\"] + \"/dfp_test.csv\")"
   ]
  }
 ],
 "metadata": {
  "kernelspec": {
   "display_name": "Python 3",
   "language": "python",
   "name": "python3"
  },
  "language_info": {
   "codemirror_mode": {
    "name": "ipython",
    "version": 3
   },
   "file_extension": ".py",
   "mimetype": "text/x-python",
   "name": "python",
   "nbconvert_exporter": "python",
   "pygments_lexer": "ipython3",
   "version": "3.6.5"
  }
 },
 "nbformat": 4,
 "nbformat_minor": 2
}
