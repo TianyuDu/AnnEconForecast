{
 "cells": [
  {
   "cell_type": "code",
   "execution_count": 1,
   "metadata": {},
   "outputs": [
    {
     "ename": "ModuleNotFoundError",
     "evalue": "No module named 'fbprophet'",
     "output_type": "error",
     "traceback": [
      "\u001b[0;31m---------------------------------------------------------------------------\u001b[0m",
      "\u001b[0;31mModuleNotFoundError\u001b[0m                       Traceback (most recent call last)",
      "\u001b[0;32m<ipython-input-1-f503e9c6cf11>\u001b[0m in \u001b[0;36m<module>\u001b[0;34m()\u001b[0m\n\u001b[0;32m----> 1\u001b[0;31m \u001b[0;32mfrom\u001b[0m \u001b[0mfbprophet\u001b[0m \u001b[0;32mimport\u001b[0m \u001b[0mProphet\u001b[0m\u001b[0;34m\u001b[0m\u001b[0m\n\u001b[0m",
      "\u001b[0;31mModuleNotFoundError\u001b[0m: No module named 'fbprophet'"
     ]
    }
   ],
   "source": [
    "from fbprophet import Prophet"
   ]
  },
  {
   "cell_type": "code",
   "execution_count": null,
   "metadata": {},
   "outputs": [
    {
     "name": "stdout",
     "output_type": "stream",
     "text": [
      "Collecting fbprophet\n",
      "\u001b[?25l  Downloading https://files.pythonhosted.org/packages/3e/93/32b258aa95a42d601a2b4da21f78a19869d0a33f568824b27a1677b0b9ce/fbprophet-0.4.tar.gz (45kB)\n",
      "\u001b[K    100% |████████████████████████████████| 51kB 702kB/s ta 0:00:01\n",
      "\u001b[?25hCollecting Cython>=0.22 (from fbprophet)\n",
      "\u001b[?25l  Downloading https://files.pythonhosted.org/packages/38/59/20c75143a5cd173bd75a0b869c6eea6ab0712a06b8b64cbb6913220614ba/Cython-0.29.2-cp36-cp36m-macosx_10_6_intel.macosx_10_9_intel.macosx_10_9_x86_64.macosx_10_10_intel.macosx_10_10_x86_64.whl (2.9MB)\n",
      "\u001b[K    100% |████████████████████████████████| 2.9MB 838kB/s ta 0:00:01\n",
      "\u001b[?25hCollecting pystan>=2.14 (from fbprophet)\n",
      "\u001b[?25l  Downloading https://files.pythonhosted.org/packages/5f/49/4a02088c14cdec2e8c40337a819d55677dc64d564526009b08e6cb7422fd/pystan-2.18.1.0-cp36-cp36m-macosx_10_6_intel.macosx_10_9_intel.macosx_10_9_x86_64.macosx_10_10_intel.macosx_10_10_x86_64.whl (52.1MB)\n",
      "\u001b[K    100% |████████████████████████████████| 52.1MB 746kB/s ta 0:00:011    86% |███████████████████████████▋    | 45.0MB 7.9MB/s eta 0:00:01\n",
      "\u001b[?25hRequirement already satisfied: numpy>=1.10.0 in /Library/Frameworks/Python.framework/Versions/3.6/lib/python3.6/site-packages (from fbprophet) (1.15.3)\n",
      "Requirement already satisfied: pandas>=0.20.1 in /Library/Frameworks/Python.framework/Versions/3.6/lib/python3.6/site-packages (from fbprophet) (0.23.4)\n",
      "Requirement already satisfied: matplotlib>=2.0.0 in /Library/Frameworks/Python.framework/Versions/3.6/lib/python3.6/site-packages (from fbprophet) (3.0.1)\n",
      "Collecting lunardate>=0.1.5 (from fbprophet)\n",
      "  Downloading https://files.pythonhosted.org/packages/4e/7e/377a3cbba646ec0cf79433ef858881d809a3b87eb887b0901cb83c66a758/lunardate-0.2.0-py3-none-any.whl\n",
      "Collecting convertdate>=2.1.2 (from fbprophet)\n",
      "  Downloading https://files.pythonhosted.org/packages/74/83/d0fa07078f4d4ae473a89d7d521aafc66d82641ea0af0ef04a47052e8f17/convertdate-2.1.3-py2.py3-none-any.whl\n",
      "Collecting holidays>=0.9.5 (from fbprophet)\n",
      "\u001b[?25l  Downloading https://files.pythonhosted.org/packages/40/b0/3dfe3d3ed79087848a22de46d379462e371517571ee64668791f3d49ea29/holidays-0.9.9.tar.gz (68kB)\n",
      "\u001b[K    100% |████████████████████████████████| 71kB 1.9MB/s ta 0:00:011\n",
      "\u001b[?25hRequirement already satisfied: pytz>=2011k in /Library/Frameworks/Python.framework/Versions/3.6/lib/python3.6/site-packages (from pandas>=0.20.1->fbprophet) (2018.5)\n",
      "Requirement already satisfied: python-dateutil>=2.5.0 in /Library/Frameworks/Python.framework/Versions/3.6/lib/python3.6/site-packages (from pandas>=0.20.1->fbprophet) (2.7.5)\n",
      "Requirement already satisfied: cycler>=0.10 in /Users/tianyudu/Library/Python/3.6/lib/python/site-packages (from matplotlib>=2.0.0->fbprophet) (0.10.0)\n",
      "Requirement already satisfied: kiwisolver>=1.0.1 in /Users/tianyudu/Library/Python/3.6/lib/python/site-packages (from matplotlib>=2.0.0->fbprophet) (1.0.1)\n",
      "Requirement already satisfied: pyparsing!=2.0.4,!=2.1.2,!=2.1.6,>=2.0.1 in /Users/tianyudu/Library/Python/3.6/lib/python/site-packages (from matplotlib>=2.0.0->fbprophet) (2.2.0)\n",
      "Collecting ephem<3.8,>=3.7.5.3 (from convertdate>=2.1.2->fbprophet)\n",
      "\u001b[?25l  Downloading https://files.pythonhosted.org/packages/c3/2c/9e1a815add6c222a0d4bf7c644e095471a934a39bc90c201f9550a8f7f14/ephem-3.7.6.0.tar.gz (739kB)\n",
      "\u001b[K    100% |████████████████████████████████| 747kB 5.7MB/s ta 0:00:01\n",
      "\u001b[?25hRequirement already satisfied: six in /Library/Frameworks/Python.framework/Versions/3.6/lib/python3.6/site-packages (from holidays>=0.9.5->fbprophet) (1.11.0)\n",
      "Requirement already satisfied: setuptools in /Library/Frameworks/Python.framework/Versions/3.6/lib/python3.6/site-packages (from kiwisolver>=1.0.1->matplotlib>=2.0.0->fbprophet) (40.5.0)\n",
      "Building wheels for collected packages: fbprophet, holidays, ephem\n",
      "  Running setup.py bdist_wheel for fbprophet ... \u001b[?25lerror\n",
      "  Complete output from command /Library/Frameworks/Python.framework/Versions/3.6/bin/python3.6 -u -c \"import setuptools, tokenize;__file__='/private/var/folders/0p/f6j25qz17l7gx64mk8c1q5300000gn/T/pip-install-umnksexx/fbprophet/setup.py';f=getattr(tokenize, 'open', open)(__file__);code=f.read().replace('\\r\\n', '\\n');f.close();exec(compile(code, __file__, 'exec'))\" bdist_wheel -d /private/var/folders/0p/f6j25qz17l7gx64mk8c1q5300000gn/T/pip-wheel-z7yrd0n9 --python-tag cp36:\n",
      "  running bdist_wheel\n",
      "  running build\n",
      "  running build_py\n",
      "  creating build\n",
      "  creating build/lib\n",
      "  creating build/lib/fbprophet\n",
      "  creating build/lib/fbprophet/stan_model\n",
      "  Traceback (most recent call last):\n",
      "    File \"<string>\", line 1, in <module>\n",
      "    File \"/private/var/folders/0p/f6j25qz17l7gx64mk8c1q5300000gn/T/pip-install-umnksexx/fbprophet/setup.py\", line 123, in <module>\n",
      "      \"\"\"\n",
      "    File \"/Library/Frameworks/Python.framework/Versions/3.6/lib/python3.6/site-packages/setuptools/__init__.py\", line 140, in setup\n",
      "      return distutils.core.setup(**attrs)\n",
      "    File \"/Library/Frameworks/Python.framework/Versions/3.6/lib/python3.6/distutils/core.py\", line 148, in setup\n",
      "      dist.run_commands()\n",
      "    File \"/Library/Frameworks/Python.framework/Versions/3.6/lib/python3.6/distutils/dist.py\", line 955, in run_commands\n",
      "      self.run_command(cmd)\n",
      "    File \"/Library/Frameworks/Python.framework/Versions/3.6/lib/python3.6/distutils/dist.py\", line 974, in run_command\n",
      "      cmd_obj.run()\n",
      "    File \"/Library/Frameworks/Python.framework/Versions/3.6/lib/python3.6/site-packages/wheel/bdist_wheel.py\", line 188, in run\n",
      "      self.run_command('build')\n",
      "    File \"/Library/Frameworks/Python.framework/Versions/3.6/lib/python3.6/distutils/cmd.py\", line 313, in run_command\n",
      "      self.distribution.run_command(command)\n",
      "    File \"/Library/Frameworks/Python.framework/Versions/3.6/lib/python3.6/distutils/dist.py\", line 974, in run_command\n",
      "      cmd_obj.run()\n",
      "    File \"/Library/Frameworks/Python.framework/Versions/3.6/lib/python3.6/distutils/command/build.py\", line 135, in run\n",
      "      self.run_command(cmd_name)\n",
      "    File \"/Library/Frameworks/Python.framework/Versions/3.6/lib/python3.6/distutils/cmd.py\", line 313, in run_command\n",
      "      self.distribution.run_command(command)\n",
      "    File \"/Library/Frameworks/Python.framework/Versions/3.6/lib/python3.6/distutils/dist.py\", line 974, in run_command\n",
      "      cmd_obj.run()\n",
      "    File \"/private/var/folders/0p/f6j25qz17l7gx64mk8c1q5300000gn/T/pip-install-umnksexx/fbprophet/setup.py\", line 45, in run\n",
      "      build_stan_model(target_dir)\n",
      "    File \"/private/var/folders/0p/f6j25qz17l7gx64mk8c1q5300000gn/T/pip-install-umnksexx/fbprophet/setup.py\", line 28, in build_stan_model\n",
      "      from pystan import StanModel\n",
      "  ModuleNotFoundError: No module named 'pystan'\n",
      "  \n",
      "  ----------------------------------------\n",
      "\u001b[31m  Failed building wheel for fbprophet\u001b[0m\n",
      "\u001b[?25h  Running setup.py clean for fbprophet\n",
      "  Running setup.py bdist_wheel for holidays ... \u001b[?25ldone\n",
      "\u001b[?25h  Stored in directory: /Users/tianyudu/Library/Caches/pip/wheels/92/e0/d7/259106ee3c7b04bb0d946383227f8a587787a12e9523a0178d\n",
      "  Running setup.py bdist_wheel for ephem ... \u001b[?25l\\"
     ]
    }
   ],
   "source": [
    "!pip3.6 install fbprophet"
   ]
  },
  {
   "cell_type": "code",
   "execution_count": null,
   "metadata": {},
   "outputs": [],
   "source": []
  }
 ],
 "metadata": {
  "kernelspec": {
   "display_name": "Python 3",
   "language": "python",
   "name": "python3"
  },
  "language_info": {
   "codemirror_mode": {
    "name": "ipython",
    "version": 3
   },
   "file_extension": ".py",
   "mimetype": "text/x-python",
   "name": "python",
   "nbconvert_exporter": "python",
   "pygments_lexer": "ipython3",
   "version": "3.6.5"
  }
 },
 "nbformat": 4,
 "nbformat_minor": 2
}
