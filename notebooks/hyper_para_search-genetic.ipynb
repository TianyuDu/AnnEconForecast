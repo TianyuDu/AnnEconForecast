{
 "cells": [
  {
   "cell_type": "code",
   "execution_count": 1,
   "metadata": {
    "scrolled": false
   },
   "outputs": [
    {
     "name": "stderr",
     "output_type": "stream",
     "text": [
      "/Library/Frameworks/Python.framework/Versions/3.6/lib/python3.6/site-packages/requests/__init__.py:91: RequestsDependencyWarning: urllib3 (1.24.1) or chardet (3.0.4) doesn't match a supported version!\n",
      "  RequestsDependencyWarning)\n"
     ]
    }
   ],
   "source": [
    "\"\"\"\n",
    "This notebook is used for model hyper-parameter searching.\n",
    "Also, if this can also be used as a baseline training script.\n",
    "\"\"\"\n",
    "import os, sys\n",
    "import numpy as np\n",
    "import pandas as pd\n",
    "import tensorflow as tf\n",
    "import sklearn\n",
    "from sklearn.model_selection import train_test_split\n",
    "from sklearn.preprocessing import StandardScaler\n",
    "import matplotlib\n",
    "import matplotlib.pyplot as plt\n",
    "from pprint import pprint\n",
    "from typing import Dict, List"
   ]
  },
  {
   "cell_type": "code",
   "execution_count": 2,
   "metadata": {
    "scrolled": false
   },
   "outputs": [],
   "source": [
    "import sys\n",
    "sys.path.append(\"../\")\n",
    "# If this notebook file is not placed under in /notebook/ directory,\n",
    "# adding directory \"../\" might not correly add the project directory.\n",
    "# If adding \"../\" does not solve the importing problem, we need to setup \n",
    "# the directory mannually.\n",
    "try:\n",
    "    import constants\n",
    "except ModuleNotFoundError:\n",
    "    core_dir = input(\"Directory of core files >>> \")\n",
    "    if not core_dir.endswith(\"/\"):\n",
    "        core_dir += \"/\"\n",
    "    sys.path.append(core_dir)\n",
    "    import constants"
   ]
  },
  {
   "cell_type": "code",
   "execution_count": 3,
   "metadata": {
    "scrolled": false
   },
   "outputs": [],
   "source": [
    "from core.tools.metrics import *\n",
    "import core.tools.visualize as visualize\n",
    "from core.tools.time_series import *\n",
    "from core.tools.data_import import *\n",
    "import core.tools.rnn_prepare as rnn_prepare\n",
    "import core.tools.param_set_generator as param_set_generator\n",
    "import core.ga.genetic_hpt as genetic_hpt\n",
    "\n",
    "import core.models.stacked_lstm as stacked_lstm\n",
    "\n",
    "import core.training.hps_methods as hps_methods"
   ]
  },
  {
   "cell_type": "code",
   "execution_count": 4,
   "metadata": {
    "scrolled": false
   },
   "outputs": [
    {
     "name": "stdout",
     "output_type": "stream",
     "text": [
      "{'a': '/Users/tianyudu/Documents/Academics/EconForecasting/AnnEconForecast/data/UNRATE.csv',\n",
      " 'b': '/home/ec2-user/AnnEconForecast/data/UNRATE.csv',\n",
      " 'c': '/home/ec2-user/AnnEconForecast/data/DEXCAUS.csv'}\n",
      "Select Dataset >>> a\n",
      "Dataset chosen: /Users/tianyudu/Documents/Academics/EconForecasting/AnnEconForecast/data/UNRATE.csv\n",
      "Avaiable configuration files found: \n",
      "\tsample_config.py\n",
      "\tec2_config.py\n",
      "\tmac_config.py\n",
      "Select config file >>> mac_config\n"
     ]
    }
   ],
   "source": [
    "# data preparation phase.\n",
    "pprint(constants.DATA_DIR)\n",
    "choice = None\n",
    "while choice is None or choice not in constants.DATA_DIR.keys():\n",
    "    if choice is not None:\n",
    "        print(\"Invalid data location received, try again...\")\n",
    "    choice = input(\"Select Dataset >>> \")\n",
    "\n",
    "FILE_DIR = constants.DATA_DIR[choice]\n",
    "\n",
    "print(f\"Dataset chosen: {FILE_DIR}\")\n",
    "\n",
    "print(\"Avaiable configuration files found: \")\n",
    "for cf in os.listdir(\"../hps_configs\"):\n",
    "    if cf.endswith(\"config.py\"):\n",
    "        print(\"\\t\" + cf)\n",
    "\n",
    "config_name = input(\"Select config file >>> \")\n",
    "if config_name.endswith(\".py\"):\n",
    "    config_name = config_name[:-3]\n",
    "\n",
    "exec(f\"import hps_configs.{config_name} as config\")\n",
    "\n",
    "# print(\"Reading configuration file...\")\n",
    "# for att in dir(config):\n",
    "#     if att.endswith(\"_config\"):\n",
    "#         print(f\"\\tLoading: {att}\")\n",
    "#         exec(f\"globals().update(config.{att})\")"
   ]
  },
  {
   "cell_type": "code",
   "execution_count": 5,
   "metadata": {
    "scrolled": false
   },
   "outputs": [],
   "source": [
    "config.main\n",
    "init_size = 10\n",
    "obj_func = lambda x: x"
   ]
  },
  {
   "cell_type": "code",
   "execution_count": 6,
   "metadata": {
    "scrolled": false
   },
   "outputs": [],
   "source": [
    "op = genetic_hpt.GeneticHPT(\n",
    "    gene_pool=config.main,\n",
    "    pop_size=init_size,\n",
    "    eval_func=obj_func,\n",
    "    mode=\"min\",\n",
    "    retain=0.5,\n",
    "    shot_prob=0.05,\n",
    "    mutate_prob=0.05,\n",
    "    verbose=False\n",
    ")"
   ]
  },
  {
   "cell_type": "code",
   "execution_count": 7,
   "metadata": {},
   "outputs": [
    {
     "name": "stdout",
     "output_type": "stream",
     "text": [
      "{'LAGS': 6,\n",
      " 'ORDER': 1,\n",
      " 'PERIODS': 1,\n",
      " 'TRAIN_RATIO': 0.8,\n",
      " 'VAL_RATIO': 0.1,\n",
      " 'clip_grad': None,\n",
      " 'epochs': 150,\n",
      " 'fig_path': '/Volumes/Intel/annef_model_data/2016DEC17_MAC_02/model_figs/',\n",
      " 'learning_rate': 0.1,\n",
      " 'model_path': '/Volumes/Intel/annef_model_data/2016DEC17_MAC_02/saved_models/',\n",
      " 'num_inputs': 1,\n",
      " 'num_neurons': (32, 64),\n",
      " 'num_outputs': 1,\n",
      " 'num_time_steps': None,\n",
      " 'report_periods': 10,\n",
      " 'tensorboard_path': '/Volumes/Intel/annef_model_data/2016DEC17_MAC_02/tensorboard/'}\n",
      "{'LAGS': 12,\n",
      " 'ORDER': 1,\n",
      " 'PERIODS': 1,\n",
      " 'TRAIN_RATIO': 0.8,\n",
      " 'VAL_RATIO': 0.1,\n",
      " 'clip_grad': None,\n",
      " 'epochs': 150,\n",
      " 'fig_path': '/Volumes/Intel/annef_model_data/2016DEC17_MAC_02/model_figs/',\n",
      " 'learning_rate': 0.1,\n",
      " 'model_path': '/Volumes/Intel/annef_model_data/2016DEC17_MAC_02/saved_models/',\n",
      " 'num_inputs': 1,\n",
      " 'num_neurons': (64, 64, 128),\n",
      " 'num_outputs': 1,\n",
      " 'num_time_steps': None,\n",
      " 'report_periods': 10,\n",
      " 'tensorboard_path': '/Volumes/Intel/annef_model_data/2016DEC17_MAC_02/tensorboard/'}\n"
     ]
    }
   ],
   "source": [
    "entity1 = op.population[0][0]\n",
    "entity2 = op.population[-1][0]\n",
    "pprint(entity1)\n",
    "pprint(entity2)"
   ]
  },
  {
   "cell_type": "code",
   "execution_count": 24,
   "metadata": {},
   "outputs": [
    {
     "data": {
      "text/plain": [
       "{'PERIODS': 1,\n",
       " 'ORDER': 1,\n",
       " 'LAGS': 12,\n",
       " 'TRAIN_RATIO': 0.6742011240610477,\n",
       " 'VAL_RATIO': 0.1662998488953815,\n",
       " 'epochs': 150,\n",
       " 'num_inputs': 1,\n",
       " 'num_outputs': 1,\n",
       " 'num_time_steps': None,\n",
       " 'num_neurons': [103, 74, 77],\n",
       " 'learning_rate': 0.2549554643821565,\n",
       " 'clip_grad': None,\n",
       " 'report_periods': 10,\n",
       " 'tensorboard_path': '/Volumes/Intel/annef_model_data/2016DEC17_MAC_02/tensorboard/',\n",
       " 'model_path': '/Volumes/Intel/annef_model_data/2016DEC17_MAC_02/saved_models/',\n",
       " 'fig_path': '/Volumes/Intel/annef_model_data/2016DEC17_MAC_02/model_figs/'}"
      ]
     },
     "execution_count": 24,
     "metadata": {},
     "output_type": "execute_result"
    }
   ],
   "source": [
    "op.mutate(entity2, mutate_prob=1.0)"
   ]
  },
  {
   "cell_type": "code",
   "execution_count": 24,
   "metadata": {
    "scrolled": false
   },
   "outputs": [],
   "source": [
    "class HiddenPrints:\n",
    "    def __enter__(self):\n",
    "        self._original_stdout = sys.stdout\n",
    "        sys.stdout = open(os.devnull, 'w')\n",
    "\n",
    "    def __exit__(self, exc_type, exc_val, exc_tb):\n",
    "        sys.stdout.close()\n",
    "        sys.stdout = self._original_stdout"
   ]
  },
  {
   "cell_type": "code",
   "execution_count": null,
   "metadata": {
    "scrolled": false
   },
   "outputs": [
    {
     "name": "stdout",
     "output_type": "stream",
     "text": [
      " ##################################---------------------------------------------- [370/864,  42.82%]"
     ]
    }
   ],
   "source": [
    "for (i, param) in enumerate(parameter_collection):\n",
    "    visualize.progbar(i, len(parameter_collection), 80)\n",
    "    with HiddenPrints():\n",
    "        print(\"================================================================\")\n",
    "        print(f\"Executing hyper-parameter searching session [{i}/{len(parameter_collection) - 1}]...\")\n",
    "        print(\"Session Flexiable Config:\\n\\t\" + param[\"hparam_str\"].replace(\"-\", \"\\n\\t\"))\n",
    "        start = datetime.now()\n",
    "        hps_methods.individual_train(\n",
    "            param=param,\n",
    "            exec_core=stacked_lstm.exec_core,\n",
    "            file_dir=FILE_DIR\n",
    "        )\n",
    "        print(f\"Time taken for session [{i}]: {str(datetime.now() - start)}.\")\n",
    "print(\"Done.\")"
   ]
  },
  {
   "cell_type": "code",
   "execution_count": null,
   "metadata": {},
   "outputs": [],
   "source": []
  }
 ],
 "metadata": {
  "kernelspec": {
   "display_name": "Python 3",
   "language": "python",
   "name": "python3"
  },
  "language_info": {
   "codemirror_mode": {
    "name": "ipython",
    "version": 3
   },
   "file_extension": ".py",
   "mimetype": "text/x-python",
   "name": "python",
   "nbconvert_exporter": "python",
   "pygments_lexer": "ipython3",
   "version": "3.6.5"
  }
 },
 "nbformat": 4,
 "nbformat_minor": 2
}
