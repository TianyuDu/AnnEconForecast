{
 "cells": [
  {
   "cell_type": "code",
   "execution_count": 4,
   "metadata": {
    "scrolled": false
   },
   "outputs": [],
   "source": [
    "# Created: Dec. 17. 2018\n",
    "# Use this notebook to restore saved tensorflow models."
   ]
  },
  {
   "cell_type": "code",
   "execution_count": 1,
   "metadata": {
    "scrolled": false
   },
   "outputs": [
    {
     "name": "stderr",
     "output_type": "stream",
     "text": [
      "/Library/Frameworks/Python.framework/Versions/3.6/lib/python3.6/site-packages/requests/__init__.py:91: RequestsDependencyWarning: urllib3 (1.24.1) or chardet (3.0.4) doesn't match a supported version!\n",
      "  RequestsDependencyWarning)\n"
     ]
    }
   ],
   "source": [
    "import os\n",
    "import sys\n",
    "import tensorflow as tf\n",
    "import numpy as np\n",
    "import pandas as pd\n",
    "import matplotlib\n",
    "from matplotlib import pyplot as plt"
   ]
  },
  {
   "cell_type": "code",
   "execution_count": 2,
   "metadata": {
    "scrolled": false
   },
   "outputs": [],
   "source": [
    "sys.path.append(\"../\")"
   ]
  },
  {
   "cell_type": "code",
   "execution_count": 3,
   "metadata": {
    "scrolled": false
   },
   "outputs": [],
   "source": [
    "import hps_configs.mac_config as config\n",
    "import core.tools.rnn_prepare as rnn_prepare\n",
    "import constants"
   ]
  },
  {
   "cell_type": "code",
   "execution_count": 4,
   "metadata": {
    "scrolled": false
   },
   "outputs": [],
   "source": [
    "data_param = config.dp_config"
   ]
  },
  {
   "cell_type": "code",
   "execution_count": 5,
   "metadata": {
    "scrolled": false
   },
   "outputs": [],
   "source": [
    "DIR = \"/Users/tianyudu/Desktop/sample_model/saved_models/\"\n",
    "META = \"num_neurons=(32, 64)-learning_rate=0.1.meta\"\n",
    "FILE_DIR = constants.DATA_DIR[\"a\"]"
   ]
  },
  {
   "cell_type": "code",
   "execution_count": 6,
   "metadata": {
    "scrolled": false
   },
   "outputs": [],
   "source": [
    "tf.reset_default_graph()"
   ]
  },
  {
   "cell_type": "code",
   "execution_count": 7,
   "metadata": {
    "scrolled": false
   },
   "outputs": [
    {
     "name": "stdout",
     "output_type": "stream",
     "text": [
      "/Users/tianyudu/Documents/Academics/EconForecasting/AnnEconForecast/notebooks\r\n"
     ]
    }
   ],
   "source": [
    "!cd /Users/tianyudu/Downloads/sample_model/saved_models/\n",
    "!pwd"
   ]
  },
  {
   "cell_type": "code",
   "execution_count": 8,
   "metadata": {
    "scrolled": false
   },
   "outputs": [
    {
     "name": "stdout",
     "output_type": "stream",
     "text": [
      "Dataset loaded.    \n",
      "\tIndex type: datetime64[ns]    \n",
      "\tData type: float64\n",
      "StandardScaler applied, scaling based on the first 679 observations.\n",
      "Total 836 observations generated.\n",
      "Note: shape format: (num_obs, time_steps, num_inputs/outputs)\n",
      "X shape = (836, 12, 1), y shape = (836, 1, 1)\n",
      "Training and testing set generated,        \n",
      "X_train shape: (668, 12, 1)        \n",
      "y_train shape: (668, 1)        \n",
      "X_test shape: (84, 12, 1)        \n",
      "y_test shape: (84, 1)        \n",
      "X_validation shape: (84, 12, 1)        \n",
      "y_validation shape: (84, 1)\n"
     ]
    }
   ],
   "source": [
    "prepared_df = rnn_prepare.prepare_dataset(\n",
    "    file_dir=FILE_DIR,\n",
    "    periods=data_param[\"PERIODS\"],\n",
    "    order=data_param[\"ORDER\"],\n",
    "    remove=None,\n",
    "    verbose=False\n",
    ")\n",
    "(X_train, X_val, X_test,\n",
    " y_train, y_val, y_test) = rnn_prepare.generate_splited_dataset(\n",
    "    raw=prepared_df,\n",
    "    train_ratio=data_param[\"TRAIN_RATIO\"],\n",
    "    val_ratio=data_param[\"VAL_RATIO\"],\n",
    "    lags=data_param[\"LAGS\"]\n",
    ")\n",
    "data_collection = {\n",
    "    \"X_train\": X_train,\n",
    "    \"X_val\": X_val,\n",
    "    \"X_test\": X_test,\n",
    "    \"y_train\": y_train,\n",
    "    \"y_val\": y_val,\n",
    "    \"y_test\": y_test\n",
    "}"
   ]
  },
  {
   "cell_type": "code",
   "execution_count": 10,
   "metadata": {
    "scrolled": false
   },
   "outputs": [],
   "source": [
    "globals().update(data_collection)\n",
    "verbose = False\n",
    "# train_param = {\n",
    "#     \"epochs\": 150,\n",
    "#     \"num_time_steps\": 12,\n",
    "#     \"num_inputs\": 1,\n",
    "#     \"num_outputs\": 1,\n",
    "#     \"num_neurons\": (32, 64),\n",
    "#     \"learning_rate\": 0.1,\n",
    "#     \"clip_grad\": None,\n",
    "#     \"report_periods\": 10,\n",
    "#     \"tensorboard_dir\": MAIN_DIRECTORY + \"/tensorboard/\",\n",
    "#     \"model_path\": MAIN_DIRECTORY + \"/saved_models/\",\n",
    "#     \"fig_path\": MAIN_DIRECTORY + \"/model_figs/\"\n",
    "# }\n",
    "# parameters = train_param"
   ]
  },
  {
   "cell_type": "code",
   "execution_count": 11,
   "metadata": {
    "scrolled": true
   },
   "outputs": [],
   "source": [
    "# if verbose:\n",
    "#     print(\"Resetting Tensorflow defalut graph...\")\n",
    "# tf.reset_default_graph()\n",
    "\n",
    "# globals().update(parameters)\n",
    "# globals().update(data_collection)\n",
    "\n",
    "# predictions = dict()\n",
    "\n",
    "# with tf.name_scope(\"DATA_FEED\"):\n",
    "#     X = tf.placeholder(\n",
    "#         tf.float32,\n",
    "#         [None, num_time_steps, num_inputs],\n",
    "#         name=\"Feature_X\"\n",
    "#     )\n",
    "#     y = tf.placeholder(\n",
    "#         tf.float32,\n",
    "#         [None, num_outputs],\n",
    "#         name=\"Label_y\"\n",
    "#     )\n",
    "\n",
    "# # with tf.name_scope(\"RECURRENT_UNITS\"):\n",
    "# multi_cell = tf.nn.rnn_cell.MultiRNNCell(\n",
    "#     [tf.nn.rnn_cell.LSTMCell(\n",
    "#         num_units=x,\n",
    "#         name=f\"LSTM_Cell_{i}\"\n",
    "#     )\n",
    "#         for i, x in enumerate(num_neurons)]\n",
    "# )\n",
    "\n",
    "# rnn_outputs, states = tf.nn.dynamic_rnn(multi_cell, X, dtype=tf.float32)\n",
    "# stacked_output = tf.reshape(\n",
    "#     rnn_outputs, [-1, num_time_steps * num_neurons[-1]])\n",
    "\n",
    "# with tf.name_scope(\"OUTPUT_LAYER\"):\n",
    "#     W = tf.Variable(tf.random_normal(\n",
    "#         [num_time_steps * num_neurons[-1], 1]), dtype=tf.float32, name=\"Weight\")\n",
    "#     b = tf.Variable(tf.random_normal([1]), dtype=tf.float32, name=\"Bias\")\n",
    "\n",
    "#     pred = tf.add(tf.matmul(stacked_output, W), b, name=\"Prediction\")\n",
    "\n",
    "#     tf.summary.histogram(\"weights\", W)\n",
    "#     tf.summary.histogram(\"biases\", b)\n",
    "#     tf.summary.histogram(\"predictions\", pred)\n",
    "\n",
    "# # pred = tf.layers.dense(stacked_output, 1)\n",
    "\n",
    "# with tf.name_scope(\"METRICS\"):\n",
    "#     loss = tf.reduce_mean(tf.square(y - pred), name=\"mse\")\n",
    "\n",
    "#     mape = tf.reduce_mean(tf.abs(tf.divide(y - pred, y)))\n",
    "#     tf.summary.scalar(\"mean_squared_error\", loss)\n",
    "#     tf.summary.scalar(\"mean_absolute_percentage_error\", mape)\n",
    "\n",
    "# with tf.name_scope(\"OPTIMIZER\"):\n",
    "#     optimizer = tf.train.AdamOptimizer(\n",
    "#         learning_rate=learning_rate, name=\"Adam_optimizer\")\n",
    "\n",
    "#     if clip_grad is None:\n",
    "#         if verbose:\n",
    "#             print(\"Note: no gradient clipping is applied.\\\n",
    "#             \\nIf possible gradient exploding detected (e.g. nan loss), try use clip_grad.\")\n",
    "#         train = optimizer.minimize(loss)\n",
    "#     else:\n",
    "#         if verbose:\n",
    "#             print(\"Applying gradient clipping...\")\n",
    "#             print(f\"\\tClip by values: {clip_grad}\")\n",
    "#         gvs = optimizer.compute_gradients(loss)\n",
    "#         capped_gvs = [\n",
    "#             (tf.clip_by_value(grad, - clip_grad, clip_grad), var)\n",
    "#             for grad, var in gvs\n",
    "#         ]\n",
    "#         train = optimizer.apply_gradients(capped_gvs)"
   ]
  },
  {
   "cell_type": "code",
   "execution_count": 23,
   "metadata": {
    "scrolled": true
   },
   "outputs": [
    {
     "name": "stdout",
     "output_type": "stream",
     "text": [
      "INFO:tensorflow:Restoring parameters from /Users/tianyudu/Desktop/sample_model/saved_models/num_neurons=(32, 64)-learning_rate=0.1\n"
     ]
    }
   ],
   "source": [
    "with tf.Session() as sess:\n",
    "    new_saver = tf.train.import_meta_graph(DIR + META)\n",
    "    new_saver.restore(sess, tf.train.latest_checkpoint(DIR))\n",
    "#     print(sess.run(\"DATA_FEED/Feature_X\"))\n",
    "    graph = tf.get_default_graph()\n",
    "    X = graph.get_tensor_by_name(\"DATA_FEED/Feature_X:0\")\n",
    "    pred = graph.get_tensor_by_name(\"OUTPUT_LAYER/Prediction:0\")\n",
    "#     print(sess.run(\"OUTPUT_LAYER/Prediction\"))\n",
    "    def make_pred(feed_X):\n",
    "        return pred.eval(feed_dict={X: feed_X})\n",
    "    p_train = make_pred(X_train)\n",
    "    p_val = make_pred(X_val)\n",
    "    p_test = make_pred(X_test)"
   ]
  },
  {
   "cell_type": "code",
   "execution_count": 168,
   "metadata": {
    "scrolled": false
   },
   "outputs": [],
   "source": [
    "# sess = tf.Session()\n",
    "# sess.run(tf.global_variables_initializer())\n",
    "# imported_meta = tf.train.import_meta_graph(DIR + META)\n",
    "# imported_meta.restore(sess, tf.train.latest_checkpoint(DIR))"
   ]
  },
  {
   "cell_type": "code",
   "execution_count": 169,
   "metadata": {
    "scrolled": false
   },
   "outputs": [],
   "source": [
    "trainable_var = tf.get_collection(tf.GraphKeys.GLOBAL_VARIABLES)"
   ]
  },
  {
   "cell_type": "code",
   "execution_count": 170,
   "metadata": {
    "scrolled": true
   },
   "outputs": [
    {
     "data": {
      "text/plain": [
       "[]"
      ]
     },
     "execution_count": 170,
     "metadata": {},
     "output_type": "execute_result"
    }
   ],
   "source": [
    "tf.get_collection(\"Prediction\")"
   ]
  },
  {
   "cell_type": "code",
   "execution_count": 24,
   "metadata": {
    "scrolled": true
   },
   "outputs": [
    {
     "data": {
      "text/plain": [
       "[<matplotlib.lines.Line2D at 0x13a68af60>]"
      ]
     },
     "execution_count": 24,
     "metadata": {},
     "output_type": "execute_result"
    },
    {
     "data": {
      "image/png": "[encoded data removed]",
      "text/plain": [
       "<Figure size 432x288 with 1 Axes>"
      ]
     },
     "metadata": {
      "needs_background": "light"
     },
     "output_type": "display_data"
    }
   ],
   "source": [
    "plt.close()\n",
    "plt.plot(p_test)\n",
    "plt.plot(y_test)"
   ]
  },
  {
   "cell_type": "code",
   "execution_count": 26,
   "metadata": {
    "scrolled": true
   },
   "outputs": [
    {
     "data": {
      "text/plain": [
       "[<matplotlib.lines.Line2D at 0x13b59b780>]"
      ]
     },
     "execution_count": 26,
     "metadata": {},
     "output_type": "execute_result"
    },
    {
     "data": {
      "image/png": "[encoded data removed]",
      "text/plain": [
       "<Figure size 432x288 with 1 Axes>"
      ]
     },
     "metadata": {
      "needs_background": "light"
     },
     "output_type": "display_data"
    }
   ],
   "source": [
    "plt.close()\n",
    "plt.plot(p_train)\n",
    "plt.plot(y_train, alpha=0.6)"
   ]
  },
  {
   "cell_type": "code",
   "execution_count": null,
   "metadata": {},
   "outputs": [],
   "source": []
  }
 ],
 "metadata": {
  "kernelspec": {
   "display_name": "Python 3",
   "language": "python",
   "name": "python3"
  },
  "language_info": {
   "codemirror_mode": {
    "name": "ipython",
    "version": 3
   },
   "file_extension": ".py",
   "mimetype": "text/x-python",
   "name": "python",
   "nbconvert_exporter": "python",
   "pygments_lexer": "ipython3",
   "version": "3.6.5"
  }
 },
 "nbformat": 4,
 "nbformat_minor": 2
}
