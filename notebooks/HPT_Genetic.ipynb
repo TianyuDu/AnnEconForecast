{
 "cells": [
  {
   "cell_type": "markdown",
   "metadata": {},
   "source": [
    "### Hyper-parameter Tunning with Genetic Algorithm\n",
    "#### Created: Dec. 29 2018"
   ]
  },
  {
   "cell_type": "code",
   "execution_count": 1,
   "metadata": {},
   "outputs": [],
   "source": [
    "from pprint import pprint\n",
    "import matplotlib.pyplot as plt\n",
    "import numpy as np\n",
    "import datetime\n",
    "import os"
   ]
  },
  {
   "cell_type": "code",
   "execution_count": 2,
   "metadata": {},
   "outputs": [],
   "source": [
    "import sys\n",
    "sys.path.append(\"../\")\n",
    "# If this notebook file is not placed under in /notebook/ directory,\n",
    "# adding directory \"../\" might not correly add the project directory.\n",
    "# If adding \"../\" does not solve the importing problem, we need to setup \n",
    "# the directory mannually.\n",
    "try:\n",
    "    import constants\n",
    "except ModuleNotFoundError:\n",
    "    core_dir = input(\"Directory of core files >>> \")\n",
    "    if not core_dir.endswith(\"/\"):\n",
    "        core_dir += \"/\"\n",
    "    sys.path.append(core_dir)\n",
    "    import constants"
   ]
  },
  {
   "cell_type": "code",
   "execution_count": 3,
   "metadata": {},
   "outputs": [],
   "source": [
    "import core.genetic.control as control\n",
    "import core.genetic.tuner as tuner\n",
    "import core.models.stacked_lstm as stacked_lstm"
   ]
  },
  {
   "cell_type": "code",
   "execution_count": 4,
   "metadata": {},
   "outputs": [
    {
     "name": "stdout",
     "output_type": "stream",
     "text": [
      "Dataset paths saved:\n",
      "{'a': '/Users/tianyudu/Documents/Academics/EconForecasting/AnnEconForecast/data/UNRATE.csv',\n",
      " 'b': '/home/ec2-user/AnnEconForecast/data/UNRATE.csv',\n",
      " 'c': '/home/ec2-user/AnnEconForecast/data/DEXCAUS.csv'}\n",
      "Select Dataset >>> b\n",
      "Dataset chosen: /home/ec2-user/AnnEconForecast/data/UNRATE.csv\n"
     ]
    }
   ],
   "source": [
    "# Load dataset.\n",
    "print(\"Dataset paths saved:\")\n",
    "pprint(constants.DATA_DIR)\n",
    "choice = None\n",
    "while choice is None or choice not in constants.DATA_DIR.keys():\n",
    "    if choice is not None:\n",
    "        print(\"Invalid data location received, try again...\")\n",
    "    choice = input(\"Select Dataset >>> \")\n",
    "FILE_DIR = constants.DATA_DIR[choice]\n",
    "print(f\"Dataset chosen: {FILE_DIR}\")"
   ]
  },
  {
   "cell_type": "code",
   "execution_count": 5,
   "metadata": {},
   "outputs": [
    {
     "name": "stdout",
     "output_type": "stream",
     "text": [
      "Avaiable configuration files found: \n",
      "\t__pycache__\n",
      "\tec2_config.py\n",
      "\tmac_config.py\n",
      "\t.ipynb_checkpoints\n",
      "\tec2_lite_config.py\n",
      "\ttemplate.py\n",
      "Select config file >>> ec2_config\n"
     ]
    }
   ],
   "source": [
    "# Load configuration.\n",
    "print(\"Avaiable configuration files found: \")\n",
    "for cf in os.listdir(\"../hps_configs\"):\n",
    "    print(\"\\t\" + cf)\n",
    "\n",
    "config_name = input(\"Select config file >>> \")\n",
    "if config_name.endswith(\".py\"):\n",
    "    config_name = config_name[:-3]\n",
    "# config_name = \"mac_config\"\n",
    "\n",
    "exec(f\"import hps_configs.{config_name} as config\")"
   ]
  },
  {
   "cell_type": "code",
   "execution_count": 6,
   "metadata": {},
   "outputs": [],
   "source": [
    "# Training Spec.\n",
    "GENE_POOL = config.main\n",
    "TOTAL_GEN = 20\n",
    "POP_SIZE = 30\n",
    "IGNORE_SET = (\n",
    "    \"PERIODS\", \"ORDER\", \"TRAIN_RATIO\", \"VAL_RATIO\", \"num_outputs\", \"num_inputs\", \"report_periods\",\n",
    "    \"tensorboard_path\", \"model_path\", \"fig_path\"\n",
    ")"
   ]
  },
  {
   "cell_type": "code",
   "execution_count": 7,
   "metadata": {},
   "outputs": [],
   "source": [
    "def eval_net_wrapper(param):\n",
    "    return control.eval_net(\n",
    "        model=stacked_lstm.StackedLSTM,\n",
    "        param=param,\n",
    "        file_dir=FILE_DIR,\n",
    "        metric=\"mse_val\",\n",
    "        smooth_metric=0.05\n",
    "    )"
   ]
  },
  {
   "cell_type": "code",
   "execution_count": 8,
   "metadata": {},
   "outputs": [],
   "source": [
    "# Create the Optimizer.\n",
    "optimizer = tuner.GeneticTuner(\n",
    "    gene_pool=config.main,\n",
    "    pop_size=POP_SIZE,\n",
    "    eval_func=eval_net_wrapper,\n",
    "    mode=\"min\",\n",
    "    retain=0.3,\n",
    "    shot_prob=0.05,\n",
    "    mutate_prob=0.15,\n",
    "    verbose=False,\n",
    "    ignore=IGNORE_SET\n",
    ")"
   ]
  },
  {
   "cell_type": "code",
   "execution_count": 9,
   "metadata": {},
   "outputs": [],
   "source": [
    "start_time = datetime.datetime.now()"
   ]
  },
  {
   "cell_type": "code",
   "execution_count": 10,
   "metadata": {
    "scrolled": false
   },
   "outputs": [
    {
     "name": "stdout",
     "output_type": "stream",
     "text": [
      "Generation: [0/20]\n",
      "Evaluating the initial population.\n",
      " ############################## Evaluating... [30/30, 100.00%] Current Net: size=(64, 64, 128, 128), ep=300, lr= 0.0100000\n",
      "Best fitted entity validatiton MSE:  0.0229891        \n",
      "Worst fitted entity validation MSE:  290.7239075\n",
      "Generation: [1/20]\n",
      " ############################## Evaluating... [30/30, 100.00%] Current Net: size=(118, 213), ep=300, lr= 1.0520 lr= 1.0095\n",
      "Best fitted entity validatiton MSE:  0.0236641        \n",
      "Worst fitted entity validation MSE:  6893.8906250\n",
      "Generation: [2/20]\n",
      " ############################## Evaluating... [30/30, 100.00%] Current Net: size=(64, 64), ep=300, lr= 0.028077lr= 0.0171\n",
      "Best fitted entity validatiton MSE:  0.0239720        \n",
      "Worst fitted entity validation MSE:  23628.9316406\n",
      "Generation: [3/20]\n",
      " ############################### Evaluating... [31/31, 100.00%] Current Net: size=(83, 152), ep=364, lr= 0.02281 1.0189215\n",
      "Best fitted entity validatiton MSE:  0.0245002        \n",
      "Worst fitted entity validation MSE:  61122.8945312\n",
      "Generation: [4/20]\n",
      " ############################### Evaluating... [31/31, 100.00%] Current Net: size=(70, 140), ep=330, lr= 0.02713\n",
      "Best fitted entity validatiton MSE:  0.0236010        \n",
      "Worst fitted entity validation MSE:  0.9456183\n",
      "Generation: [5/20]\n",
      " ############################### Evaluating... [31/31, 100.00%] Current Net: size=(87, 106), ep=300, lr= 1.03171\n",
      "Best fitted entity validatiton MSE:  0.0231504        \n",
      "Worst fitted entity validation MSE:  2.2142382\n",
      "Generation: [6/20]\n",
      " ############################## Evaluating... [30/30, 100.00%] Current Net: size=(47, 51), ep=300, lr= 0.01366\n",
      "Best fitted entity validatiton MSE:  0.0233816        \n",
      "Worst fitted entity validation MSE:  0.1506371\n",
      "Generation: [7/20]\n",
      " ############################## Evaluating... [30/30, 100.00%] Current Net: size=(69, 60), ep=300, lr= 0.01298\n",
      "Best fitted entity validatiton MSE:  0.0235756        \n",
      "Worst fitted entity validation MSE:  3.7050543\n",
      "Generation: [8/20]\n",
      " ############################## Evaluating... [30/30, 100.00%] Current Net: size=(87, 119), ep=429, lr= 0.01250\n",
      "Best fitted entity validatiton MSE:  0.0222983        \n",
      "Worst fitted entity validation MSE:  0.0535299\n",
      "Generation: [9/20]\n",
      " ############################## Evaluating... [30/30, 100.00%] Current Net: size=(191, 103), ep=429, lr= 0.01464\n",
      "Best fitted entity validatiton MSE:  0.0231497        \n",
      "Worst fitted entity validation MSE:  0.0364949\n",
      "Generation: [10/20]\n",
      " ############################## Evaluating... [30/30, 100.00%] Current Net: size=(91, 108), ep=300, lr= 0.01347\n",
      "Best fitted entity validatiton MSE:  0.0231272        \n",
      "Worst fitted entity validation MSE:  0.0725264\n",
      "Generation: [11/20]\n",
      " ############################## Evaluating... [30/30, 100.00%] Current Net: size=(86, 102), ep=300, lr= 0.01390\n",
      "Best fitted entity validatiton MSE:  0.0231076        \n",
      "Worst fitted entity validation MSE:  1.6458446\n",
      "Generation: [12/20]\n",
      " ############################## Evaluating... [30/30, 100.00%] Current Net: size=(121, 80), ep=300, lr= 0.01406\n",
      "Best fitted entity validatiton MSE:  0.0233790        \n",
      "Worst fitted entity validation MSE:  0.0450699\n",
      "Generation: [13/20]\n",
      " ############################### Evaluating... [31/31, 100.00%] Current Net: size=(78, 109), ep=429, lr= 0.01390\n",
      "Best fitted entity validatiton MSE:  0.0232580        \n",
      "Worst fitted entity validation MSE:  0.0454183\n",
      "Generation: [14/20]\n",
      " ############################### Evaluating... [31/31, 100.00%] Current Net: size=(77, 110), ep=553, lr= 0.01370\n",
      "Best fitted entity validatiton MSE:  0.0232143        \n",
      "Worst fitted entity validation MSE:  0.0456150\n",
      "Generation: [15/20]\n",
      " ############################## Evaluating... [30/30, 100.00%] Current Net: size=(117, 138), ep=429, lr= 0.0138\n",
      "Best fitted entity validatiton MSE:  0.0234858        \n",
      "Worst fitted entity validation MSE:  8.6225204\n",
      "Generation: [16/20]\n",
      " ############################### Evaluating... [31/31, 100.00%] Current Net: size=(119, 134), ep=429, lr= 0.0139\n",
      "Best fitted entity validatiton MSE:  0.0236670        \n",
      "Worst fitted entity validation MSE:  2.2393301\n",
      "Generation: [17/20]\n",
      " ############################### Evaluating... [31/31, 100.00%] Current Net: size=(121, 138), ep=429, lr= 0.0138\n",
      "Best fitted entity validatiton MSE:  0.0225051        \n",
      "Worst fitted entity validation MSE:  0.0369672\n",
      "Generation: [18/20]\n",
      " ############################### Evaluating... [31/31, 100.00%] Current Net: size=(118, 138), ep=429, lr= 0.0139\n",
      "Best fitted entity validatiton MSE:  0.0235592        \n",
      "Worst fitted entity validation MSE:  0.1594164\n",
      "Generation: [19/20]\n",
      " ############################### Evaluating... [31/31, 100.00%] Current Net: size=(59, 193), ep=217, lr= 0.01399\n",
      "Best fitted entity validatiton MSE:  0.0235386        \n",
      "Worst fitted entity validation MSE:  74.2786407\n",
      "Generation: [20/20]\n",
      " ############################## Evaluating... [30/30, 100.00%] Current Net: size=(117, 139), ep=735, lr= 0.0139\n",
      "Best fitted entity validatiton MSE:  0.0235229        \n",
      "Worst fitted entity validation MSE:  3.0038230\n",
      "Final:\n",
      "\n",
      "Best fitted entity validatiton MSE:  0.0235229        \n",
      "Worst fitted entity validation MSE:  3.0038230\n"
     ]
    }
   ],
   "source": [
    "elite = control.train_op(\n",
    "    optimizer=optimizer,\n",
    "    total_gen=TOTAL_GEN,\n",
    "    elite=0.5\n",
    ")"
   ]
  },
  {
   "cell_type": "code",
   "execution_count": 11,
   "metadata": {
    "scrolled": true
   },
   "outputs": [
    {
     "name": "stdout",
     "output_type": "stream",
     "text": [
      "Time taken: 1:10:53.201275\n"
     ]
    }
   ],
   "source": [
    "end_time = datetime.datetime.now()\n",
    "print(f\"Time taken: {end_time - start_time}\")"
   ]
  },
  {
   "cell_type": "code",
   "execution_count": 12,
   "metadata": {},
   "outputs": [
    {
     "name": "stdout",
     "output_type": "stream",
     "text": [
      "Best found:\n",
      "({'PERIODS': 1, 'ORDER': 1, 'LAGS': 6, 'TRAIN_RATIO': 0.8, 'VAL_RATIO': 0.1, 'epochs': 735, 'num_inputs': 1, 'num_outputs': 1, 'num_time_steps': 6, 'num_neurons': (118, 136), 'learning_rate': 0.01387512538671118, 'clip_grad': None, 'report_periods': 10, 'tensorboard_path': '/home/ec2-user/ec2_hps/2018DEC21_01/tensorboard/', 'model_path': '/home/ec2-user/ec2_hps/2018DEC21_01/saved_models/', 'fig_path': '/home/ec2-user/ec2_hps/2018DEC21_01/model_figs/'}, 0.023522917181253433)\n"
     ]
    }
   ],
   "source": [
    "# Report\n",
    "print(\"Best found:\")\n",
    "print(list(elite.values())[-1][0])"
   ]
  },
  {
   "cell_type": "code",
   "execution_count": 13,
   "metadata": {},
   "outputs": [
    {
     "data": {
      "image/png": "[encoded data removed]",
      "text/plain": [
       "<Figure size 432x288 with 1 Axes>"
      ]
     },
     "metadata": {},
     "output_type": "display_data"
    }
   ],
   "source": [
    "plt.close()\n",
    "plt.style.use('seaborn-dark')\n",
    "plt.title(\"The Elite Group\")\n",
    "plt.plot([\n",
    "    elite_gp[0][1] \n",
    "    for elite_gp in list(elite.values())\n",
    "    ]\n",
    ")\n",
    "plt.plot([\n",
    "    np.mean([x[1] for x in elite_gp])\n",
    "    for elite_gp in list(elite.values())\n",
    "    ]\n",
    ")\n",
    "plt.plot([\n",
    "    elite_gp[-1][1] \n",
    "    for elite_gp in list(elite.values())]\n",
    ")\n",
    "plt.legend(\n",
    "    [\"Best Perform. val.mse\", \"Average val. mse\", \"Worst Perform. val.mse\"],\n",
    "    loc=\"best\"\n",
    ")\n",
    "plt.show()"
   ]
  },
  {
   "cell_type": "code",
   "execution_count": null,
   "metadata": {},
   "outputs": [],
   "source": []
  }
 ],
 "metadata": {
  "kernelspec": {
   "display_name": "Python 3",
   "language": "python",
   "name": "python3"
  },
  "language_info": {
   "codemirror_mode": {
    "name": "ipython",
    "version": 3
   },
   "file_extension": ".py",
   "mimetype": "text/x-python",
   "name": "python",
   "nbconvert_exporter": "python",
   "pygments_lexer": "ipython3",
   "version": "3.6.5"
  }
 },
 "nbformat": 4,
 "nbformat_minor": 2
}
