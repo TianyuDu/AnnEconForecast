{
 "cells": [
  {
   "cell_type": "markdown",
   "metadata": {},
   "source": [
    "### Hyper-parameter Tunning with Genetic Algorithm\n",
    "#### Created: Dec. 29 2018"
   ]
  },
  {
   "cell_type": "code",
   "execution_count": 1,
   "metadata": {},
   "outputs": [],
   "source": [
    "from pprint import pprint\n",
    "import matplotlib.pyplot as plt\n",
    "import datetime\n",
    "import os"
   ]
  },
  {
   "cell_type": "code",
   "execution_count": 2,
   "metadata": {},
   "outputs": [],
   "source": [
    "import sys\n",
    "sys.path.append(\"../\")\n",
    "# If this notebook file is not placed under in /notebook/ directory,\n",
    "# adding directory \"../\" might not correly add the project directory.\n",
    "# If adding \"../\" does not solve the importing problem, we need to setup \n",
    "# the directory mannually.\n",
    "try:\n",
    "    import constants\n",
    "except ModuleNotFoundError:\n",
    "    core_dir = input(\"Directory of core files >>> \")\n",
    "    if not core_dir.endswith(\"/\"):\n",
    "        core_dir += \"/\"\n",
    "    sys.path.append(core_dir)\n",
    "    import constants"
   ]
  },
  {
   "cell_type": "code",
   "execution_count": 3,
   "metadata": {},
   "outputs": [],
   "source": [
    "import core.genetic.control as control\n",
    "import core.genetic.tuner as tuner\n",
    "import core.models.stacked_lstm as stacked_lstm"
   ]
  },
  {
   "cell_type": "code",
   "execution_count": 4,
   "metadata": {},
   "outputs": [
    {
     "name": "stdout",
     "output_type": "stream",
     "text": [
      "Dataset paths saved:\n",
      "{'a': '/Users/tianyudu/Documents/Academics/EconForecasting/AnnEconForecast/data/UNRATE.csv',\n",
      " 'b': '/home/ec2-user/AnnEconForecast/data/UNRATE.csv',\n",
      " 'c': '/home/ec2-user/AnnEconForecast/data/DEXCAUS.csv'}\n",
      "Select Dataset >>> b\n",
      "Dataset chosen: /home/ec2-user/AnnEconForecast/data/UNRATE.csv\n"
     ]
    }
   ],
   "source": [
    "# Load dataset.\n",
    "print(\"Dataset paths saved:\")\n",
    "pprint(constants.DATA_DIR)\n",
    "choice = None\n",
    "while choice is None or choice not in constants.DATA_DIR.keys():\n",
    "    if choice is not None:\n",
    "        print(\"Invalid data location received, try again...\")\n",
    "    choice = input(\"Select Dataset >>> \")\n",
    "FILE_DIR = constants.DATA_DIR[choice]\n",
    "print(f\"Dataset chosen: {FILE_DIR}\")"
   ]
  },
  {
   "cell_type": "code",
   "execution_count": 5,
   "metadata": {},
   "outputs": [
    {
     "name": "stdout",
     "output_type": "stream",
     "text": [
      "Avaiable configuration files found: \n",
      "\t__pycache__\n",
      "\tec2_config.py\n",
      "\tmac_config.py\n",
      "\t.ipynb_checkpoints\n",
      "\tec2_lite_config.py\n",
      "\ttemplate.py\n",
      "Select config file >>> ec2_config\n"
     ]
    }
   ],
   "source": [
    "# Load configuration.\n",
    "print(\"Avaiable configuration files found: \")\n",
    "for cf in os.listdir(\"../hps_configs\"):\n",
    "    print(\"\\t\" + cf)\n",
    "\n",
    "config_name = input(\"Select config file >>> \")\n",
    "if config_name.endswith(\".py\"):\n",
    "    config_name = config_name[:-3]\n",
    "# config_name = \"mac_config\"\n",
    "\n",
    "exec(f\"import hps_configs.{config_name} as config\")"
   ]
  },
  {
   "cell_type": "code",
   "execution_count": 6,
   "metadata": {},
   "outputs": [],
   "source": [
    "# Training Spec.\n",
    "GENE_POOL = config.main\n",
    "TOTAL_GEN = 5\n",
    "POP_SIZE = 10\n",
    "IGNORE_SET = (\n",
    "    \"PERIODS\", \"ORDER\", \"TRAIN_RATIO\", \"VAL_RATIO\", \"num_outputs\", \"num_inputs\", \"report_periods\",\n",
    "    \"tensorboard_path\", \"model_path\", \"fig_path\"\n",
    ")"
   ]
  },
  {
   "cell_type": "code",
   "execution_count": 7,
   "metadata": {},
   "outputs": [],
   "source": [
    "def eval_net_wrapper(param):\n",
    "    return control.eval_net(\n",
    "        model=stacked_lstm.StackedLSTM,\n",
    "        param=param,\n",
    "        file_dir=FILE_DIR,\n",
    "        metric=\"mse_val\",\n",
    "        smooth_metric=0.05\n",
    "    )"
   ]
  },
  {
   "cell_type": "code",
   "execution_count": 8,
   "metadata": {},
   "outputs": [],
   "source": [
    "# Create the Optimizer.\n",
    "optimizer = tuner.GeneticTuner(\n",
    "    gene_pool=config.main,\n",
    "    pop_size=POP_SIZE,\n",
    "    eval_func=eval_net_wrapper,\n",
    "    mode=\"min\",\n",
    "    retain=0.5,\n",
    "    shot_prob=0.05,\n",
    "    mutate_prob=0.05,\n",
    "    verbose=False,\n",
    "    ignore=IGNORE_SET\n",
    ")"
   ]
  },
  {
   "cell_type": "code",
   "execution_count": 9,
   "metadata": {},
   "outputs": [],
   "source": [
    "start_time = datetime.datetime.now()"
   ]
  },
  {
   "cell_type": "code",
   "execution_count": null,
   "metadata": {},
   "outputs": [
    {
     "name": "stdout",
     "output_type": "stream",
     "text": [
      "Generation: [0/5]\n",
      "Evaluating the initial population.\n",
      " #######--- Evaluating... [7/10,  70.00%] Current Net: size=(128, 256), ep=500, lr= 0.0030000300"
     ]
    }
   ],
   "source": [
    "elite = control.train_op(\n",
    "    optimizer=optimizer,\n",
    "    total_gen=TOTAL_GEN,\n",
    "    elite=0.5\n",
    ")"
   ]
  },
  {
   "cell_type": "code",
   "execution_count": null,
   "metadata": {
    "scrolled": true
   },
   "outputs": [],
   "source": [
    "end_time = datetime.datetime.now()\n",
    "print(f\"Time taken: {end_time - start_time}\")"
   ]
  },
  {
   "cell_type": "code",
   "execution_count": null,
   "metadata": {},
   "outputs": [],
   "source": [
    "# Report\n",
    "print(\"Best found:\")\n",
    "print(list(elite.values())[-1][0])"
   ]
  },
  {
   "cell_type": "code",
   "execution_count": null,
   "metadata": {},
   "outputs": [],
   "source": [
    "plt.close()\n",
    "plt.style.use('seaborn-dark')\n",
    "plt.title(\"The Elite Group\")\n",
    "plt.plot([\n",
    "    elite_gp[0][1] \n",
    "    for elite_gp in list(elite.values())])\n",
    "plt.plot([\n",
    "    elite_gp[-1][1] \n",
    "    for elite_gp in list(elite.values())])\n",
    "plt.legend(\n",
    "    [\"Best Perform. Val MSE\", \"Worst Perform. Val MSE\"],\n",
    "    loc=\"best\"\n",
    ")\n",
    "plt.show()"
   ]
  },
  {
   "cell_type": "code",
   "execution_count": null,
   "metadata": {},
   "outputs": [],
   "source": []
  }
 ],
 "metadata": {
  "kernelspec": {
   "display_name": "Python 3",
   "language": "python",
   "name": "python3"
  },
  "language_info": {
   "codemirror_mode": {
    "name": "ipython",
    "version": 3
   },
   "file_extension": ".py",
   "mimetype": "text/x-python",
   "name": "python",
   "nbconvert_exporter": "python",
   "pygments_lexer": "ipython3",
   "version": "3.6.5"
  }
 },
 "nbformat": 4,
 "nbformat_minor": 2
}
