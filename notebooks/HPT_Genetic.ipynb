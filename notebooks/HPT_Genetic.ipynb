{
 "cells": [
  {
   "cell_type": "markdown",
   "metadata": {},
   "source": [
    "# Hyper-parameter Tunning with Genetic Algorithm\n",
    "### An Example on Tunning Hyper-Parameters for LSTM Time Series Forecasting\n",
    "\n",
    "> Tianyu Du, Dec. 31, 2018\n",
    "\n",
    "In this notebook, we will use `GeneticTuner` to generate hyper-parameter sets and find a HP set minimizes the MSE loss on validation set."
   ]
  },
  {
   "cell_type": "code",
   "execution_count": 1,
   "metadata": {},
   "outputs": [],
   "source": [
    "from pprint import pprint\n",
    "import matplotlib.pyplot as plt\n",
    "import numpy as np\n",
    "import datetime\n",
    "import os"
   ]
  },
  {
   "cell_type": "markdown",
   "metadata": {},
   "source": [
    "### Add the project home directory"
   ]
  },
  {
   "cell_type": "code",
   "execution_count": 2,
   "metadata": {},
   "outputs": [],
   "source": [
    "import sys\n",
    "sys.path.append(\"../\")\n",
    "# If this notebook file is not placed under in /notebook/ directory,\n",
    "# adding directory \"../\" might not correly add the project directory.\n",
    "# If adding \"../\" does not solve the importing problem, we need to setup \n",
    "# the directory mannually.\n",
    "try:\n",
    "    import constants\n",
    "except ModuleNotFoundError:\n",
    "    core_dir = input(\"Directory of core files >>> \")\n",
    "    if not core_dir.endswith(\"/\"):\n",
    "        core_dir += \"/\"\n",
    "    sys.path.append(core_dir)\n",
    "    import constants"
   ]
  },
  {
   "cell_type": "markdown",
   "metadata": {},
   "source": [
    "### Load essential control packages."
   ]
  },
  {
   "cell_type": "code",
   "execution_count": 3,
   "metadata": {},
   "outputs": [],
   "source": [
    "import core.genetic.control as control\n",
    "import core.genetic.tuner as tuner"
   ]
  },
  {
   "cell_type": "markdown",
   "metadata": {},
   "source": [
    "### Load the LSTM RNN to train."
   ]
  },
  {
   "cell_type": "code",
   "execution_count": 4,
   "metadata": {},
   "outputs": [],
   "source": [
    "import core.models.stacked_lstm as stacked_lstm"
   ]
  },
  {
   "cell_type": "markdown",
   "metadata": {},
   "source": [
    "### Configuration.\n",
    "### i) Dataset\n",
    "Use *absolute* path instead of a relative one."
   ]
  },
  {
   "cell_type": "code",
   "execution_count": 5,
   "metadata": {},
   "outputs": [],
   "source": [
    "# FILE_DIR = \"/Users/tianyudu/Documents/Academics/EconForecasting/AnnEconForecast/data/UNRATE.csv\"\n",
    "FILE_DIR = \"/home/ec2-user/AnnEconForecast/data/UNRATE.csv\""
   ]
  },
  {
   "cell_type": "markdown",
   "metadata": {},
   "source": [
    "### ii) The Initial Genetic Pool\n",
    "* **Fixed Genetic Bits**: Use a *single value* to represent a fixed gene bit, each individual in the <u>initial population</u> will have the same gene on those bits.\n",
    "\n",
    "* **Flexiable Genetic Bits**: Use a *list* to represent a flexiable gene bit, each indivudal in the <u>initial population</u> takes a random element from that list as their own gene value at that bit."
   ]
  },
  {
   "cell_type": "code",
   "execution_count": 6,
   "metadata": {},
   "outputs": [],
   "source": [
    "GENE_POOL = {\n",
    "    # ======== Data Pre-processing Parameter ========\n",
    "    \"PERIODS\": 1,\n",
    "    \"ORDER\": 1,\n",
    "    \"LAGS\": [3, 6, 9, 12],\n",
    "    \"TRAIN_RATIO\": 0.8,\n",
    "    \"VAL_RATIO\": 0.1,\n",
    "    # ======== Model Training Parameter ========\n",
    "    \"epochs\": [50*x for x in range(1, 21)],\n",
    "    \"num_inputs\": 1,\n",
    "    \"num_outputs\": 1,\n",
    "    \"num_time_steps\": None,  # num_time_steps is identical to LAGS\n",
    "    \"num_neurons\": [\n",
    "        [64] * 2,\n",
    "        [64] * 3,\n",
    "        [64] * 4,\n",
    "        [128] * 2,\n",
    "        [128] * 3,\n",
    "        [128] * 4,\n",
    "        [256] * 2,\n",
    "        [256] * 3,\n",
    "        [256] * 4,\n",
    "        [512] * 2,\n",
    "        [512] * 3,\n",
    "        [512] * 4,\n",
    "        [1024] * 2,\n",
    "        [1024] * 3,\n",
    "        [1024] * 4\n",
    "        \n",
    "    ],\n",
    "    \"learning_rate\": [\n",
    "        0.1,\n",
    "        0.03,\n",
    "        0.01\n",
    "    ],\n",
    "    \"clip_grad\": [None, 50.0, 100.0, 500.0],\n",
    "    \"report_periods\": 10\n",
    "}\n"
   ]
  },
  {
   "cell_type": "markdown",
   "metadata": {},
   "source": [
    "### iii) Evoluation\n",
    "* `TOTAL_GEN`: The total number of generations to evolve.\n",
    "* `POP_SIZE`: After the selection and breeding phases in each round of evolving, the population size will be mained to this size.\n",
    "* `RETAIN`: The proportion of population to be retained after selection.\n",
    "* `SHOT_PROB`: The probability that one individual not selected based on its fittness score to be retained to the next generation.\n",
    "* `MUTATE_PROB`: The probability to be mutated.\n",
    "* `IGNORE_SET`: The set of genetic bits to be skipped during mutation and cross-over phases."
   ]
  },
  {
   "cell_type": "code",
   "execution_count": 7,
   "metadata": {},
   "outputs": [],
   "source": [
    "# Training Spec.\n",
    "TOTAL_GEN = 10\n",
    "POP_SIZE = 10\n",
    "RETAIN = 0.5\n",
    "SHOT_PROB = 0.1\n",
    "MUTATE_PROB = 0.05\n",
    "IGNORE_SET = (\n",
    "    \"PERIODS\", \"ORDER\", \"TRAIN_RATIO\", \"VAL_RATIO\", \"num_outputs\", \"num_inputs\", \"report_periods\"\n",
    ")"
   ]
  },
  {
   "cell_type": "code",
   "execution_count": 8,
   "metadata": {},
   "outputs": [],
   "source": [
    "def eval_net_wrapper(param):\n",
    "    return control.eval_net(\n",
    "        model=stacked_lstm.StackedLSTM,\n",
    "        param=param,\n",
    "        file_dir=FILE_DIR,\n",
    "        metric=\"mse_val\",\n",
    "        smooth_metric=0.05\n",
    "    )"
   ]
  },
  {
   "cell_type": "code",
   "execution_count": 9,
   "metadata": {},
   "outputs": [],
   "source": [
    "# Create the Optimizer.\n",
    "optimizer = tuner.GeneticTuner(\n",
    "    gene_pool=GENE_POOL,\n",
    "    pop_size=POP_SIZE,\n",
    "    eval_func=eval_net_wrapper,\n",
    "    mode=\"min\",\n",
    "    retain=RETAIN,\n",
    "    shot_prob=SHOT_PROB,\n",
    "    mutate_prob=MUTATE_PROB,\n",
    "    verbose=False,\n",
    "    ignore=IGNORE_SET\n",
    ")"
   ]
  },
  {
   "cell_type": "markdown",
   "metadata": {},
   "source": [
    "### Specify the directory to save elite chromosomes (parameter sets)."
   ]
  },
  {
   "cell_type": "code",
   "execution_count": 10,
   "metadata": {},
   "outputs": [],
   "source": [
    "# save = \"/Users/tianyudu/Downloads/gen\"\n",
    "save = \"/home/ec2-user/ga\""
   ]
  },
  {
   "cell_type": "code",
   "execution_count": 12,
   "metadata": {
    "scrolled": false
   },
   "outputs": [
    {
     "name": "stdout",
     "output_type": "stream",
     "text": [
      "Generation: [0/10]\n",
      "Evaluating the initial population.\n",
      " ##-------- Evaluating... [2/10,  20.00%] Current Net: size=[1024, 1024], ep=240, lr= 0.0300100"
     ]
    },
    {
     "name": "stderr",
     "output_type": "stream",
     "text": [
      "/home/ec2-user/anaconda3/envs/tensorflow_p36/lib/python3.6/site-packages/numpy/core/fromnumeric.py:2957: RuntimeWarning: Mean of empty slice.\n",
      "  out=out, **kwargs)\n",
      "/home/ec2-user/anaconda3/envs/tensorflow_p36/lib/python3.6/site-packages/numpy/core/_methods.py:80: RuntimeWarning: invalid value encountered in double_scalars\n",
      "  ret = ret.dtype.type(ret / rcount)\n"
     ]
    },
    {
     "name": "stdout",
     "output_type": "stream",
     "text": [
      " ########## Evaluating... [10/10, 100.00%] Current Net: size=[512, 512], ep=60, lr= 0.1000000 0.1000\n",
      "Best fitted entity validatiton MSE:  0.0318716        \n",
      "Worst fitted entity validation MSE:  1.1303544\n",
      "Generation: [1/10]\n",
      " ########### Evaluating... [11/11, 100.00%] Current Net: size=[1024, 1024], ep=240, lr= 0.08393151000\n",
      "Best fitted entity validatiton MSE:  0.0282139        \n",
      "Worst fitted entity validation MSE:  123.7931900\n",
      "Time taken: 0:01:00.667802\n",
      "Generation: [2/10]\n",
      " ########### Evaluating... [11/11, 100.00%] Current Net: size=[256, 256, 128], ep=0, lr= 0.10000.10000\n",
      "Best fitted entity validatiton MSE:  0.0299064        \n",
      "Worst fitted entity validation MSE:  nan\n",
      "Time taken: 0:00:51.193867\n",
      "Generation: [3/10]\n",
      " ########## Evaluating... [10/10, 100.00%] Current Net: size=[1024, 1024], ep=150, lr= 0.0298541.0804\n",
      "Best fitted entity validatiton MSE:  0.0309756        \n",
      "Worst fitted entity validation MSE:  0.1498127\n",
      "Time taken: 0:01:20.073769\n",
      "Generation: [4/10]\n",
      " ########### Evaluating... [11/11, 100.00%] Current Net: size=[1024, 1024], ep=240, lr= 0.0329= 0.0386\n",
      "Best fitted entity validatiton MSE:  0.0276534        \n",
      "Worst fitted entity validation MSE:  129.4791107\n",
      "Time taken: 0:01:43.150616\n",
      "Generation: [5/10]\n",
      " ########### Evaluating... [11/11, 100.00%] Current Net: size=[512, 512, 512, 512], ep=210, lr= 0.1000\n",
      "Best fitted entity validatiton MSE:  0.0363657        \n",
      "Worst fitted entity validation MSE:  nan\n",
      "Time taken: 0:00:59.757792\n",
      "Generation: [6/10]\n",
      " ########## Evaluating... [10/10, 100.00%] Current Net: size=[128, 256, 256], ep=148, lr= 0.08551000\n",
      "Best fitted entity validatiton MSE:  0.0316129        \n",
      "Worst fitted entity validation MSE:  0.0285641\n",
      "Time taken: 0:00:35.369504\n",
      "Generation: [7/10]\n",
      " ########## Evaluating... [10/10, 100.00%] Current Net: size=[512, 512, 512, 512], ep=135, lr= 1.2326\n",
      "Best fitted entity validatiton MSE:  0.0257401        \n",
      "Worst fitted entity validation MSE:  0.0442717\n",
      "Time taken: 0:00:40.412254\n",
      "Generation: [8/10]\n",
      " ########### Evaluating... [11/11, 100.00%] Current Net: size=[256, 256, 256], ep=86, lr= 0.2000.1000\n",
      "Best fitted entity validatiton MSE:  0.0377010        \n",
      "Worst fitted entity validation MSE:  0.0377601\n",
      "Time taken: 0:00:48.330486\n",
      "Generation: [9/10]\n",
      " ########## Evaluating... [10/10, 100.00%] Current Net: size=[1541, 514], ep=148, lr= 0.8049050.1000\n",
      "Best fitted entity validatiton MSE:  0.0349711        \n",
      "Worst fitted entity validation MSE:  2407.5898438\n",
      "Time taken: 0:01:16.740599\n",
      "Generation: [10/10]\n",
      " ########## Evaluating... [10/10, 100.00%] Current Net: size=[1541, 514], ep=148, lr= 0.3603540.1000\n",
      "Best fitted entity validatiton MSE:  0.0358468        \n",
      "Worst fitted entity validation MSE:  0.8496825\n",
      "Time taken: 0:01:18.537372\n",
      "Final:\n",
      "\n",
      "Best fitted entity validatiton MSE:  0.0358468        \n",
      "Worst fitted entity validation MSE:  0.8496825\n"
     ]
    }
   ],
   "source": [
    "start_time = datetime.datetime.now()\n",
    "elite = control.train_op(\n",
    "    optimizer=optimizer,\n",
    "    total_gen=TOTAL_GEN,\n",
    "    elite=0.5,\n",
    "    write_to_disk=save\n",
    ")\n",
    "end_time = datetime.datetime.now()\n",
    "print(f\"Time taken: {end_time - start_time}\")"
   ]
  },
  {
   "cell_type": "markdown",
   "metadata": {},
   "source": [
    "### The Result.\n",
    "#### Here is the best-performing chromosome in the latest generation."
   ]
  },
  {
   "cell_type": "code",
   "execution_count": 14,
   "metadata": {
    "scrolled": true
   },
   "outputs": [
    {
     "name": "stdout",
     "output_type": "stream",
     "text": [
      "{'LAGS': 9,\n",
      " 'ORDER': 1,\n",
      " 'PERIODS': 1,\n",
      " 'TRAIN_RATIO': 0.8,\n",
      " 'VAL_RATIO': 0.1,\n",
      " 'clip_grad': None,\n",
      " 'epochs': 148,\n",
      " 'learning_rate': 0.360321600530805,\n",
      " 'num_inputs': 1,\n",
      " 'num_neurons': [1541, 514],\n",
      " 'num_outputs': 1,\n",
      " 'num_time_steps': 9,\n",
      " 'report_periods': 10}\n",
      "Validation Set MSE: 0.03584679216146469\n"
     ]
    }
   ],
   "source": [
    "(best, score) = list(elite.values())[-1][0]\n",
    "pprint(best)\n",
    "print(\"Validation Set MSE: \" + str(score))"
   ]
  },
  {
   "cell_type": "markdown",
   "metadata": {},
   "source": [
    "### Visualize the Progress\n",
    "#### We plot the highest, average and lowest *validation set mse loss* in each generation."
   ]
  },
  {
   "cell_type": "code",
   "execution_count": 17,
   "metadata": {},
   "outputs": [
    {
     "data": {
      "image/png": "[encoded data removed]",
      "text/plain": [
       "<Figure size 1152x576 with 1 Axes>"
      ]
     },
     "metadata": {},
     "output_type": "display_data"
    }
   ],
   "source": [
    "plt.close()\n",
    "plt.figure(figsize=(16, 8))\n",
    "plt.style.use('seaborn-dark')\n",
    "plt.title(\"The Elite Group val. mse (lower better)\")\n",
    "plt.plot([\n",
    "    elite_gp[0][1] \n",
    "    for elite_gp in list(elite.values())\n",
    "    ]\n",
    ")\n",
    "plt.plot([\n",
    "    np.mean([x[1] for x in elite_gp])\n",
    "    for elite_gp in list(elite.values())\n",
    "    ]\n",
    ")\n",
    "plt.plot([\n",
    "    elite_gp[-1][1] \n",
    "    for elite_gp in list(elite.values())]\n",
    ")\n",
    "plt.legend(\n",
    "    [\"Best Perform. val.mse\", \"Average val. mse\", \"Worst Perform. val.mse\"],\n",
    "    loc=\"best\"\n",
    ")\n",
    "# plt.ylim(0, 0.1)\n",
    "plt.xlabel(\"Generation\")\n",
    "plt.xticks(range(TOTAL_GEN))\n",
    "plt.grid(True)\n",
    "\n",
    "plt.show()"
   ]
  },
  {
   "cell_type": "code",
   "execution_count": null,
   "metadata": {},
   "outputs": [],
   "source": []
  }
 ],
 "metadata": {
  "kernelspec": {
   "display_name": "Python 3",
   "language": "python",
   "name": "python3"
  },
  "language_info": {
   "codemirror_mode": {
    "name": "ipython",
    "version": 3
   },
   "file_extension": ".py",
   "mimetype": "text/x-python",
   "name": "python",
   "nbconvert_exporter": "python",
   "pygments_lexer": "ipython3",
   "version": "3.6.5"
  }
 },
 "nbformat": 4,
 "nbformat_minor": 2
}
