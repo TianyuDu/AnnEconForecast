{
 "cells": [
  {
   "cell_type": "markdown",
   "metadata": {},
   "source": [
    "### Hyper-parameter Tunning with Genetic Algorithm\n",
    "#### Created: Dec. 29 2018"
   ]
  },
  {
   "cell_type": "code",
   "execution_count": 1,
   "metadata": {},
   "outputs": [],
   "source": [
    "from pprint import pprint\n",
    "import matplotlib.pyplot as plt\n",
    "import datetime\n",
    "import os"
   ]
  },
  {
   "cell_type": "code",
   "execution_count": 2,
   "metadata": {},
   "outputs": [],
   "source": [
    "import sys\n",
    "sys.path.append(\"../\")\n",
    "# If this notebook file is not placed under in /notebook/ directory,\n",
    "# adding directory \"../\" might not correly add the project directory.\n",
    "# If adding \"../\" does not solve the importing problem, we need to setup \n",
    "# the directory mannually.\n",
    "try:\n",
    "    import constants\n",
    "except ModuleNotFoundError:\n",
    "    core_dir = input(\"Directory of core files >>> \")\n",
    "    if not core_dir.endswith(\"/\"):\n",
    "        core_dir += \"/\"\n",
    "    sys.path.append(core_dir)\n",
    "    import constants"
   ]
  },
  {
   "cell_type": "code",
   "execution_count": 3,
   "metadata": {},
   "outputs": [],
   "source": [
    "import core.genetic.control as control\n",
    "import core.genetic.tuner as tuner\n",
    "import core.models.stacked_lstm as stacked_lstm"
   ]
  },
  {
   "cell_type": "code",
   "execution_count": 4,
   "metadata": {},
   "outputs": [
    {
     "name": "stdout",
     "output_type": "stream",
     "text": [
      "Dataset paths saved:\n",
      "{'a': '/Users/tianyudu/Documents/Academics/EconForecasting/AnnEconForecast/data/UNRATE.csv',\n",
      " 'b': '/home/ec2-user/AnnEconForecast/data/UNRATE.csv',\n",
      " 'c': '/home/ec2-user/AnnEconForecast/data/DEXCAUS.csv'}\n",
      "Select Dataset >>> b\n",
      "Dataset chosen: /home/ec2-user/AnnEconForecast/data/UNRATE.csv\n"
     ]
    }
   ],
   "source": [
    "# Load dataset.\n",
    "print(\"Dataset paths saved:\")\n",
    "pprint(constants.DATA_DIR)\n",
    "choice = None\n",
    "while choice is None or choice not in constants.DATA_DIR.keys():\n",
    "    if choice is not None:\n",
    "        print(\"Invalid data location received, try again...\")\n",
    "    choice = input(\"Select Dataset >>> \")\n",
    "FILE_DIR = constants.DATA_DIR[choice]\n",
    "print(f\"Dataset chosen: {FILE_DIR}\")"
   ]
  },
  {
   "cell_type": "code",
   "execution_count": 5,
   "metadata": {},
   "outputs": [
    {
     "name": "stdout",
     "output_type": "stream",
     "text": [
      "Avaiable configuration files found: \n",
      "\t__pycache__\n",
      "\tec2_config.py\n",
      "\tmac_config.py\n",
      "\t.ipynb_checkpoints\n",
      "\tec2_lite_config.py\n",
      "\ttemplate.py\n",
      "Select config file >>> ec2_lite_config\n"
     ]
    }
   ],
   "source": [
    "# Load configuration.\n",
    "print(\"Avaiable configuration files found: \")\n",
    "for cf in os.listdir(\"../hps_configs\"):\n",
    "    print(\"\\t\" + cf)\n",
    "\n",
    "config_name = input(\"Select config file >>> \")\n",
    "if config_name.endswith(\".py\"):\n",
    "    config_name = config_name[:-3]\n",
    "# config_name = \"mac_config\"\n",
    "\n",
    "exec(f\"import hps_configs.{config_name} as config\")"
   ]
  },
  {
   "cell_type": "code",
   "execution_count": 6,
   "metadata": {},
   "outputs": [],
   "source": [
    "# Training Spec.\n",
    "GENE_POOL = config.main\n",
    "TOTAL_GEN = 5\n",
    "POP_SIZE = 10\n",
    "IGNORE_SET = (\n",
    "    \"PERIODS\", \"ORDER\", \"TRAIN_RATIO\", \"VAL_RATIO\", \"num_outputs\", \"num_inputs\", \"report_periods\",\n",
    "    \"tensorboard_path\", \"model_path\", \"fig_path\"\n",
    ")"
   ]
  },
  {
   "cell_type": "code",
   "execution_count": 7,
   "metadata": {},
   "outputs": [],
   "source": [
    "def eval_net_wrapper(param):\n",
    "    return control.eval_net(\n",
    "        model=stacked_lstm.StackedLSTM,\n",
    "        param=param,\n",
    "        file_dir=FILE_DIR,\n",
    "        metric=\"mse_val\",\n",
    "        smooth_metric=0.05\n",
    "    )"
   ]
  },
  {
   "cell_type": "code",
   "execution_count": 8,
   "metadata": {},
   "outputs": [],
   "source": [
    "# Create the Optimizer.\n",
    "optimizer = tuner.GeneticTuner(\n",
    "    gene_pool=config.main,\n",
    "    pop_size=POP_SIZE,\n",
    "    eval_func=eval_net_wrapper,\n",
    "    mode=\"min\",\n",
    "    retain=0.5,\n",
    "    shot_prob=0.05,\n",
    "    mutate_prob=0.05,\n",
    "    verbose=False,\n",
    "    ignore=IGNORE_SET\n",
    ")"
   ]
  },
  {
   "cell_type": "code",
   "execution_count": 9,
   "metadata": {},
   "outputs": [],
   "source": [
    "start_time = datetime.datetime.now()"
   ]
  },
  {
   "cell_type": "code",
   "execution_count": 10,
   "metadata": {},
   "outputs": [
    {
     "name": "stdout",
     "output_type": "stream",
     "text": [
      "Generation: [0/5]\n",
      "Evaluating the initial population.\n",
      " #--------- Evaluating... [1/10,  10.00%]\n",
      " ##-------- Evaluating... [2/10,  20.00%]lr= 0.0300\n",
      " ###------- Evaluating... [3/10,  30.00%], lr= 0.0100\n",
      " ####------ Evaluating... [4/10,  40.00%] 0.0100\n",
      " #####----- Evaluating... [5/10,  50.00%] lr= 0.0100\n",
      " ######---- Evaluating... [6/10,  60.00%] 0.0100\n",
      " #######--- Evaluating... [7/10,  70.00%]r= 0.0100\n",
      " ########-- Evaluating... [8/10,  80.00%] lr= 0.0030\n",
      " #########- Evaluating... [9/10,  90.00%] lr= 0.0030\n",
      " ########## Evaluating... [10/10, 100.00%] 0.0030\n",
      "Current Net: size=(128, 256), ep=500, lr= 0.0030\n",
      "Best fitted entity validatiton MSE:  0.0237705        \n",
      "Worst fitted entity validation MSE:  0.0371916\n",
      "Generation: [1/5]\n",
      " #---------- Evaluating... [1/11,   9.09%]\n",
      " ##--------- Evaluating... [2/11,  18.18%]= 0.0100\n",
      " ###-------- Evaluating... [3/11,  27.27%]0.0030\n",
      " ####------- Evaluating... [4/11,  36.36%]lr= 1.0058\n",
      " #####------ Evaluating... [5/11,  45.45%] 0.0030\n",
      " ######----- Evaluating... [6/11,  54.55%]0.0100\n",
      " #######---- Evaluating... [7/11,  63.64%]lr= 0.0052\n",
      " ########--- Evaluating... [8/11,  72.73%]0.0078\n",
      " #########-- Evaluating... [9/11,  81.82%]0.0031\n",
      " ##########- Evaluating... [10/11,  90.91%]r= 0.0099\n",
      " ########### Evaluating... [11/11, 100.00%]0083\n",
      "Current Net: size=[128, 256], ep=500, lr= 0.0047\n",
      "Best fitted entity validatiton MSE:  0.0236559        \n",
      "Worst fitted entity validation MSE:  218.7046051\n",
      "Generation: [2/5]\n",
      " #---------- Evaluating... [1/11,   9.09%]\n",
      " ##--------- Evaluating... [2/11,  18.18%]= 0.0100\n",
      " ###-------- Evaluating... [3/11,  27.27%]0.0030\n",
      " ####------- Evaluating... [4/11,  36.36%]1.0094\n",
      " #####------ Evaluating... [5/11,  45.45%]1.0035\n",
      " ######----- Evaluating... [6/11,  54.55%].0078\n",
      " #######---- Evaluating... [7/11,  63.64%]0.0040\n",
      " ########--- Evaluating... [8/11,  72.73%]0.0038\n",
      " #########-- Evaluating... [9/11,  81.82%]1.0071\n",
      " ##########- Evaluating... [10/11,  90.91%].0042\n",
      " ########### Evaluating... [11/11, 100.00%].0042\n",
      "Current Net: size=[128, 256], ep=500, lr= 0.0041\n",
      "Best fitted entity validatiton MSE:  0.0227563        \n",
      "Worst fitted entity validation MSE:  251.3586273\n",
      "Generation: [3/5]\n",
      " #---------- Evaluating... [1/11,   9.09%]\n",
      " ##--------- Evaluating... [2/11,  18.18%]0.0041\n",
      " ###-------- Evaluating... [3/11,  27.27%]0.0030\n",
      " ####------- Evaluating... [4/11,  36.36%] 0.0042\n",
      " #####------ Evaluating... [5/11,  45.45%]1.0019\n",
      " ######----- Evaluating... [6/11,  54.55%]1.0079\n",
      " #######---- Evaluating... [7/11,  63.64%]0.0042\n",
      " ########--- Evaluating... [8/11,  72.73%]0.0042\n",
      " #########-- Evaluating... [9/11,  81.82%]0.0042\n",
      " ##########- Evaluating... [10/11,  90.91%].0041\n",
      " ########### Evaluating... [11/11, 100.00%].0040\n",
      "Current Net: size=[128, 256], ep=500, lr= 0.0040\n",
      "Best fitted entity validatiton MSE:  0.0236694        \n",
      "Worst fitted entity validation MSE:  913.5993042\n",
      "Generation: [4/5]\n",
      " #---------- Evaluating... [1/11,   9.09%]\n",
      " ##--------- Evaluating... [2/11,  18.18%]0.0040\n",
      " ###-------- Evaluating... [3/11,  27.27%]0.0040\n",
      " ####------- Evaluating... [4/11,  36.36%]0.0042\n",
      " #####------ Evaluating... [5/11,  45.45%]0.0030\n",
      " ######----- Evaluating... [6/11,  54.55%]0.0042\n",
      " #######---- Evaluating... [7/11,  63.64%]0.0042\n",
      " ########--- Evaluating... [8/11,  72.73%]0.0042\n",
      " #########-- Evaluating... [9/11,  81.82%]0.0042\n",
      " ##########- Evaluating... [10/11,  90.91%].0042\n",
      " ########### Evaluating... [11/11, 100.00%].0042\n",
      "Current Net: size=[128, 256], ep=500, lr= 0.0042\n",
      "Best fitted entity validatiton MSE:  0.0238315        \n",
      "Worst fitted entity validation MSE:  0.0257892\n",
      "Generation: [5/5]\n",
      " #---------- Evaluating... [1/11,   9.09%]\n",
      " ##--------- Evaluating... [2/11,  18.18%].0042\n",
      " ###-------- Evaluating... [3/11,  27.27%]0.0042\n",
      " ####------- Evaluating... [4/11,  36.36%]0.0042\n",
      " #####------ Evaluating... [5/11,  45.45%]0.0042\n",
      " ######----- Evaluating... [6/11,  54.55%]0.0030\n",
      " #######---- Evaluating... [7/11,  63.64%]0.0042\n",
      " ########--- Evaluating... [8/11,  72.73%]0.0042\n",
      " #########-- Evaluating... [9/11,  81.82%]0.0042\n",
      " ##########- Evaluating... [10/11,  90.91%].0042\n",
      " ########### Evaluating... [11/11, 100.00%].0042\n",
      "Current Net: size=[128, 256], ep=258, lr= 0.0042\n",
      "Best fitted entity validatiton MSE:  0.0227689        \n",
      "Worst fitted entity validation MSE:  0.0341803\n",
      "Final:\n",
      "\n",
      "Best fitted entity validatiton MSE:  0.0227689        \n",
      "Worst fitted entity validation MSE:  0.0341803\n"
     ]
    }
   ],
   "source": [
    "elite = control.train_op(\n",
    "    optimizer=optimizer,\n",
    "    total_gen=TOTAL_GEN,\n",
    "    elite=0.5\n",
    ")"
   ]
  },
  {
   "cell_type": "code",
   "execution_count": 11,
   "metadata": {
    "scrolled": true
   },
   "outputs": [
    {
     "name": "stdout",
     "output_type": "stream",
     "text": [
      "Time taken: 0:06:04.017001\n"
     ]
    }
   ],
   "source": [
    "end_time = datetime.datetime.now()\n",
    "print(f\"Time taken: {end_time - start_time}\")"
   ]
  },
  {
   "cell_type": "code",
   "execution_count": 12,
   "metadata": {},
   "outputs": [
    {
     "data": {
      "text/plain": [
       "({'PERIODS': 1,\n",
       "  'ORDER': 1,\n",
       "  'LAGS': 5,\n",
       "  'TRAIN_RATIO': 0.8,\n",
       "  'VAL_RATIO': 0.1,\n",
       "  'epochs': 500,\n",
       "  'num_inputs': 1,\n",
       "  'num_outputs': 1,\n",
       "  'num_time_steps': 5,\n",
       "  'num_neurons': [66, 330],\n",
       "  'learning_rate': 0.004223078586367626,\n",
       "  'clip_grad': None,\n",
       "  'report_periods': 10,\n",
       "  'tensorboard_path': '/home/ec2-user/ec2_hps/2018DEC21_01/tensorboard/',\n",
       "  'model_path': '/home/ec2-user/ec2_hps/2018DEC21_01/saved_models/',\n",
       "  'fig_path': '/home/ec2-user/ec2_hps/2018DEC21_01/model_figs/'},\n",
       " 0.022768879309296608)"
      ]
     },
     "execution_count": 12,
     "metadata": {},
     "output_type": "execute_result"
    }
   ],
   "source": [
    "list(elite.values())[-1][0]"
   ]
  },
  {
   "cell_type": "code",
   "execution_count": 15,
   "metadata": {},
   "outputs": [
    {
     "data": {
      "image/png": "[encoded data removed]",
      "text/plain": [
       "<Figure size 432x288 with 1 Axes>"
      ]
     },
     "metadata": {},
     "output_type": "display_data"
    }
   ],
   "source": [
    "plt.close()\n",
    "plt.style.use('seaborn-dark')\n",
    "plt.title(\"The Elite Group\")\n",
    "plt.plot([\n",
    "    elite_gp[0][1] \n",
    "    for elite_gp in list(elite.values())])\n",
    "plt.plot([\n",
    "    elite_gp[-1][1] \n",
    "    for elite_gp in list(elite.values())])\n",
    "plt.legend(\n",
    "    [\"Best Perform. Val MSE\", \"Worst Perform. Val MSE\"],\n",
    "    loc=\"best\"\n",
    ")\n",
    "plt.show()"
   ]
  },
  {
   "cell_type": "code",
   "execution_count": null,
   "metadata": {},
   "outputs": [],
   "source": []
  }
 ],
 "metadata": {
  "kernelspec": {
   "display_name": "Python 3",
   "language": "python",
   "name": "python3"
  },
  "language_info": {
   "codemirror_mode": {
    "name": "ipython",
    "version": 3
   },
   "file_extension": ".py",
   "mimetype": "text/x-python",
   "name": "python",
   "nbconvert_exporter": "python",
   "pygments_lexer": "ipython3",
   "version": "3.6.5"
  }
 },
 "nbformat": 4,
 "nbformat_minor": 2
}
