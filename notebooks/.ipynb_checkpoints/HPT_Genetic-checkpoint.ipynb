{
 "cells": [
  {
   "cell_type": "markdown",
   "metadata": {},
   "source": [
    "# Hyper-parameter Tunning with Genetic Algorithm\n",
    "#### Created: Dec. 29 2018\n",
    "Use this notebook to run hyper parameter tuning with genetic algorithm."
   ]
  },
  {
   "cell_type": "code",
   "execution_count": 1,
   "metadata": {},
   "outputs": [],
   "source": [
    "from pprint import pprint\n",
    "import matplotlib.pyplot as plt\n",
    "import numpy as np\n",
    "import datetime\n",
    "import os"
   ]
  },
  {
   "cell_type": "code",
   "execution_count": 2,
   "metadata": {},
   "outputs": [],
   "source": [
    "import sys\n",
    "sys.path.append(\"../\")\n",
    "# If this notebook file is not placed under in /notebook/ directory,\n",
    "# adding directory \"../\" might not correly add the project directory.\n",
    "# If adding \"../\" does not solve the importing problem, we need to setup \n",
    "# the directory mannually.\n",
    "try:\n",
    "    import constants\n",
    "except ModuleNotFoundError:\n",
    "    core_dir = input(\"Directory of core files >>> \")\n",
    "    if not core_dir.endswith(\"/\"):\n",
    "        core_dir += \"/\"\n",
    "    sys.path.append(core_dir)\n",
    "    import constants"
   ]
  },
  {
   "cell_type": "markdown",
   "metadata": {},
   "source": [
    "### Load essential control packages."
   ]
  },
  {
   "cell_type": "code",
   "execution_count": null,
   "metadata": {},
   "outputs": [],
   "source": [
    "import core.genetic.control as control\n",
    "import core.genetic.tuner as tuner"
   ]
  },
  {
   "cell_type": "markdown",
   "metadata": {},
   "source": [
    "### Here is the type of neural network you wish to tune"
   ]
  },
  {
   "cell_type": "code",
   "execution_count": 3,
   "metadata": {},
   "outputs": [],
   "source": [
    "import core.models.stacked_lstm as stacked_lstm"
   ]
  },
  {
   "cell_type": "markdown",
   "metadata": {},
   "source": [
    "### Load the dataset from local file.\n",
    "Use *absolute* path instead of a relative one."
   ]
  },
  {
   "cell_type": "code",
   "execution_count": 4,
   "metadata": {},
   "outputs": [
    {
     "name": "stdout",
     "output_type": "stream",
     "text": [
      "Dataset paths saved:\n",
      "{'a': '/Users/tianyudu/Documents/Academics/EconForecasting/AnnEconForecast/data/UNRATE.csv',\n",
      " 'b': '/home/ec2-user/AnnEconForecast/data/UNRATE.csv',\n",
      " 'c': '/home/ec2-user/AnnEconForecast/data/DEXCAUS.csv'}\n",
      "Select Dataset >>> a\n",
      "Dataset chosen: /Users/tianyudu/Documents/Academics/EconForecasting/AnnEconForecast/data/UNRATE.csv\n"
     ]
    }
   ],
   "source": [
    "# Load dataset.\n",
    "print(\"Dataset paths saved:\")\n",
    "pprint(constants.DATA_DIR)\n",
    "choice = None\n",
    "while choice is None or choice not in constants.DATA_DIR.keys():\n",
    "    if choice is not None:\n",
    "        print(\"Invalid data location received, try again...\")\n",
    "    choice = input(\"Select Dataset >>> \")\n",
    "FILE_DIR = constants.DATA_DIR[choice]\n",
    "print(f\"Dataset chosen: {FILE_DIR}\")"
   ]
  },
  {
   "cell_type": "code",
   "execution_count": 5,
   "metadata": {},
   "outputs": [
    {
     "name": "stdout",
     "output_type": "stream",
     "text": [
      "Avaiable configuration files found: \n",
      "\tmac_lite_config.py\n",
      "\tec2_config.py\n",
      "\t__pycache__\n",
      "\tec2_lite_config.py\n",
      "\tmac_config.py\n",
      "\ttemplate.py\n",
      "Select config file >>> mac_lite_config\n"
     ]
    }
   ],
   "source": [
    "# Load configuration.\n",
    "print(\"Avaiable configuration files found: \")\n",
    "for cf in os.listdir(\"../hps_configs\"):\n",
    "    print(\"\\t\" + cf)\n",
    "\n",
    "config_name = input(\"Select config file >>> \")\n",
    "if config_name.endswith(\".py\"):\n",
    "    config_name = config_name[:-3]\n",
    "# config_name = \"mac_config\"\n",
    "\n",
    "exec(f\"import hps_configs.{config_name} as config\")"
   ]
  },
  {
   "cell_type": "code",
   "execution_count": 6,
   "metadata": {},
   "outputs": [],
   "source": [
    "# Training Spec.\n",
    "GENE_POOL = config.main\n",
    "TOTAL_GEN = 3\n",
    "POP_SIZE = 10\n",
    "IGNORE_SET = (\n",
    "    \"PERIODS\", \"ORDER\", \"TRAIN_RATIO\", \"VAL_RATIO\", \"num_outputs\", \"num_inputs\", \"report_periods\",\n",
    "    \"tensorboard_path\", \"model_path\", \"fig_path\"\n",
    ")"
   ]
  },
  {
   "cell_type": "code",
   "execution_count": 7,
   "metadata": {},
   "outputs": [],
   "source": [
    "def eval_net_wrapper(param):\n",
    "    return control.eval_net(\n",
    "        model=stacked_lstm.StackedLSTM,\n",
    "        param=param,\n",
    "        file_dir=FILE_DIR,\n",
    "        metric=\"mse_val\",\n",
    "        smooth_metric=0.05\n",
    "    )"
   ]
  },
  {
   "cell_type": "code",
   "execution_count": 8,
   "metadata": {},
   "outputs": [],
   "source": [
    "# Create the Optimizer.\n",
    "optimizer = tuner.GeneticTuner(\n",
    "    gene_pool=config.main,\n",
    "    pop_size=POP_SIZE,\n",
    "    eval_func=eval_net_wrapper,\n",
    "    mode=\"min\",\n",
    "    retain=0.6,\n",
    "    shot_prob=0.1,\n",
    "    mutate_prob=0.7,\n",
    "    verbose=False,\n",
    "    ignore=IGNORE_SET\n",
    ")"
   ]
  },
  {
   "cell_type": "code",
   "execution_count": 9,
   "metadata": {},
   "outputs": [],
   "source": [
    "start_time = datetime.datetime.now()"
   ]
  },
  {
   "cell_type": "code",
   "execution_count": 10,
   "metadata": {
    "scrolled": false
   },
   "outputs": [
    {
     "name": "stdout",
     "output_type": "stream",
     "text": [
      "Generation: [0/3]\n",
      "Evaluating the initial population.\n",
      " ########## Evaluating... [10/10, 100.00%] Current Net: size=[16, 32], ep=4, lr= 0.01003001000\n",
      "Best fitted entity validatiton MSE:  0.0526742        \n",
      "Worst fitted entity validation MSE:  1.2418854\n",
      "Generation: [1/3]\n",
      " ########### Evaluating... [11/11, 100.00%] Current Net: size=[16, 39], ep=4, lr= 1.00960300000\n",
      "Best fitted entity validatiton MSE:  0.0416978        \n",
      "Worst fitted entity validation MSE:  4795.3574219\n",
      "File directory specified not found. trying to create a new one.\n",
      "File directory specified not found. trying to create a new one.\n",
      "File directory specified not found. trying to create a new one.\n",
      "File directory specified not found. trying to create a new one.\n",
      "File directory specified not found. trying to create a new one.\n",
      "Time taken: 0:00:16.642661\n",
      "Generation: [2/3]\n",
      " ########## Evaluating... [10/10, 100.00%] Current Net: size=[30, 63], ep=12, lr= 2.23761.1102\n",
      "Best fitted entity validatiton MSE:  0.4580263        \n",
      "Worst fitted entity validation MSE:  16509.6738281\n",
      "File directory specified not found. trying to create a new one.\n",
      "File directory specified not found. trying to create a new one.\n",
      "File directory specified not found. trying to create a new one.\n",
      "File directory specified not found. trying to create a new one.\n",
      "File directory specified not found. trying to create a new one.\n",
      "Time taken: 0:00:18.445913\n",
      "Generation: [3/3]\n",
      " ########## Evaluating... [10/10, 100.00%] Current Net: size=[59, 76], ep=12, lr= 1.873635\n",
      "Best fitted entity validatiton MSE:  0.0456961        \n",
      "Worst fitted entity validation MSE:  46326.6093750\n",
      "File directory specified not found. trying to create a new one.\n",
      "File directory specified not found. trying to create a new one.\n",
      "File directory specified not found. trying to create a new one.\n",
      "File directory specified not found. trying to create a new one.\n",
      "File directory specified not found. trying to create a new one.\n",
      "Time taken: 0:00:21.661892\n",
      "Final:\n",
      "\n",
      "Best fitted entity validatiton MSE:  0.0456961        \n",
      "Worst fitted entity validation MSE:  46326.6093750\n"
     ]
    }
   ],
   "source": [
    "elite = control.train_op(\n",
    "    optimizer=optimizer,\n",
    "    total_gen=TOTAL_GEN,\n",
    "    elite=0.5,\n",
    "    write_to_disk=\"/Users/tianyudu/Downloads/gen\"\n",
    ")"
   ]
  },
  {
   "cell_type": "code",
   "execution_count": 11,
   "metadata": {
    "scrolled": true
   },
   "outputs": [
    {
     "name": "stdout",
     "output_type": "stream",
     "text": [
      "Time taken: 0:01:12.849865\n"
     ]
    }
   ],
   "source": [
    "end_time = datetime.datetime.now()\n",
    "print(f\"Time taken: {end_time - start_time}\")"
   ]
  },
  {
   "cell_type": "code",
   "execution_count": 12,
   "metadata": {},
   "outputs": [
    {
     "name": "stdout",
     "output_type": "stream",
     "text": [
      "Best found:\n",
      "({'PERIODS': 1, 'ORDER': 1, 'LAGS': 7, 'TRAIN_RATIO': 0.8, 'VAL_RATIO': 0.1, 'epochs': 13, 'num_inputs': 1, 'num_outputs': 1, 'num_time_steps': 7, 'num_neurons': [19, 16], 'learning_rate': 1.2379279902231834, 'clip_grad': None, 'report_periods': 10, 'tensorboard_path': '?/tensorboard/', 'model_path': '?/saved_models/', 'fig_path': '?/model_figs/'}, 0.04569614678621292)\n"
     ]
    }
   ],
   "source": [
    "# Report\n",
    "print(\"Best found:\")\n",
    "print(list(elite.values())[-1][0])"
   ]
  },
  {
   "cell_type": "code",
   "execution_count": 13,
   "metadata": {},
   "outputs": [
    {
     "data": {
      "image/png": "[encoded data removed]",
      "text/plain": [
       "<Figure size 432x288 with 1 Axes>"
      ]
     },
     "metadata": {},
     "output_type": "display_data"
    }
   ],
   "source": [
    "plt.close()\n",
    "plt.style.use('seaborn-dark')\n",
    "plt.title(\"The Elite Group\")\n",
    "plt.plot([\n",
    "    elite_gp[0][1] \n",
    "    for elite_gp in list(elite.values())\n",
    "    ]\n",
    ")\n",
    "plt.plot([\n",
    "    np.mean([x[1] for x in elite_gp])\n",
    "    for elite_gp in list(elite.values())\n",
    "    ]\n",
    ")\n",
    "plt.plot([\n",
    "    elite_gp[-1][1] \n",
    "    for elite_gp in list(elite.values())]\n",
    ")\n",
    "plt.legend(\n",
    "    [\"Best Perform. val.mse\", \"Average val. mse\", \"Worst Perform. val.mse\"],\n",
    "    loc=\"best\"\n",
    ")\n",
    "plt.show()"
   ]
  },
  {
   "cell_type": "code",
   "execution_count": null,
   "metadata": {},
   "outputs": [],
   "source": []
  }
 ],
 "metadata": {
  "kernelspec": {
   "display_name": "Python 3",
   "language": "python",
   "name": "python3"
  },
  "language_info": {
   "codemirror_mode": {
    "name": "ipython",
    "version": 3
   },
   "file_extension": ".py",
   "mimetype": "text/x-python",
   "name": "python",
   "nbconvert_exporter": "python",
   "pygments_lexer": "ipython3",
   "version": "3.6.5"
  }
 },
 "nbformat": 4,
 "nbformat_minor": 2
}
