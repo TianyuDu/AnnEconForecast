{
 "cells": [
  {
   "cell_type": "markdown",
   "metadata": {},
   "source": [
    "### Hyper-parameter Tunning with Genetic Algorithm\n",
    "#### Created: Dec. 29 2018"
   ]
  },
  {
   "cell_type": "code",
   "execution_count": 1,
   "metadata": {},
   "outputs": [],
   "source": [
    "from pprint import pprint\n",
    "import matplotlib.pyplot as plt\n",
    "import numpy as np\n",
    "import datetime\n",
    "import os"
   ]
  },
  {
   "cell_type": "code",
   "execution_count": 2,
   "metadata": {},
   "outputs": [],
   "source": [
    "import sys\n",
    "sys.path.append(\"../\")\n",
    "# If this notebook file is not placed under in /notebook/ directory,\n",
    "# adding directory \"../\" might not correly add the project directory.\n",
    "# If adding \"../\" does not solve the importing problem, we need to setup \n",
    "# the directory mannually.\n",
    "try:\n",
    "    import constants\n",
    "except ModuleNotFoundError:\n",
    "    core_dir = input(\"Directory of core files >>> \")\n",
    "    if not core_dir.endswith(\"/\"):\n",
    "        core_dir += \"/\"\n",
    "    sys.path.append(core_dir)\n",
    "    import constants"
   ]
  },
  {
   "cell_type": "code",
   "execution_count": 3,
   "metadata": {},
   "outputs": [],
   "source": [
    "import core.genetic.control as control\n",
    "import core.genetic.tuner as tuner\n",
    "import core.models.stacked_lstm as stacked_lstm"
   ]
  },
  {
   "cell_type": "code",
   "execution_count": 4,
   "metadata": {},
   "outputs": [
    {
     "name": "stdout",
     "output_type": "stream",
     "text": [
      "Dataset paths saved:\n",
      "{'a': '/Users/tianyudu/Documents/Academics/EconForecasting/AnnEconForecast/data/UNRATE.csv',\n",
      " 'b': '/home/ec2-user/AnnEconForecast/data/UNRATE.csv',\n",
      " 'c': '/home/ec2-user/AnnEconForecast/data/DEXCAUS.csv'}\n",
      "Select Dataset >>> b\n",
      "Dataset chosen: /home/ec2-user/AnnEconForecast/data/UNRATE.csv\n"
     ]
    }
   ],
   "source": [
    "# Load dataset.\n",
    "print(\"Dataset paths saved:\")\n",
    "pprint(constants.DATA_DIR)\n",
    "choice = None\n",
    "while choice is None or choice not in constants.DATA_DIR.keys():\n",
    "    if choice is not None:\n",
    "        print(\"Invalid data location received, try again...\")\n",
    "    choice = input(\"Select Dataset >>> \")\n",
    "FILE_DIR = constants.DATA_DIR[choice]\n",
    "print(f\"Dataset chosen: {FILE_DIR}\")"
   ]
  },
  {
   "cell_type": "code",
   "execution_count": 5,
   "metadata": {},
   "outputs": [
    {
     "name": "stdout",
     "output_type": "stream",
     "text": [
      "Avaiable configuration files found: \n",
      "\t__pycache__\n",
      "\tec2_config.py\n",
      "\tmac_config.py\n",
      "\t.ipynb_checkpoints\n",
      "\tec2_lite_config.py\n",
      "\ttemplate.py\n",
      "Select config file >>> ec2_config\n"
     ]
    }
   ],
   "source": [
    "# Load configuration.\n",
    "print(\"Avaiable configuration files found: \")\n",
    "for cf in os.listdir(\"../hps_configs\"):\n",
    "    print(\"\\t\" + cf)\n",
    "\n",
    "config_name = input(\"Select config file >>> \")\n",
    "if config_name.endswith(\".py\"):\n",
    "    config_name = config_name[:-3]\n",
    "# config_name = \"mac_config\"\n",
    "\n",
    "exec(f\"import hps_configs.{config_name} as config\")"
   ]
  },
  {
   "cell_type": "code",
   "execution_count": 6,
   "metadata": {},
   "outputs": [],
   "source": [
    "# Training Spec.\n",
    "GENE_POOL = config.main\n",
    "TOTAL_GEN = 20\n",
    "POP_SIZE = 20\n",
    "IGNORE_SET = (\n",
    "    \"PERIODS\", \"ORDER\", \"TRAIN_RATIO\", \"VAL_RATIO\", \"num_outputs\", \"num_inputs\", \"report_periods\",\n",
    "    \"tensorboard_path\", \"model_path\", \"fig_path\"\n",
    ")"
   ]
  },
  {
   "cell_type": "code",
   "execution_count": 7,
   "metadata": {},
   "outputs": [],
   "source": [
    "def eval_net_wrapper(param):\n",
    "    return control.eval_net(\n",
    "        model=stacked_lstm.StackedLSTM,\n",
    "        param=param,\n",
    "        file_dir=FILE_DIR,\n",
    "        metric=\"mse_val\",\n",
    "        smooth_metric=0.05\n",
    "    )"
   ]
  },
  {
   "cell_type": "code",
   "execution_count": 8,
   "metadata": {},
   "outputs": [],
   "source": [
    "# Create the Optimizer.\n",
    "optimizer = tuner.GeneticTuner(\n",
    "    gene_pool=config.main,\n",
    "    pop_size=POP_SIZE,\n",
    "    eval_func=eval_net_wrapper,\n",
    "    mode=\"min\",\n",
    "    retain=0.5,\n",
    "    shot_prob=0.05,\n",
    "    mutate_prob=0.05,\n",
    "    verbose=False,\n",
    "    ignore=IGNORE_SET\n",
    ")"
   ]
  },
  {
   "cell_type": "code",
   "execution_count": 9,
   "metadata": {},
   "outputs": [],
   "source": [
    "start_time = datetime.datetime.now()"
   ]
  },
  {
   "cell_type": "code",
   "execution_count": 10,
   "metadata": {},
   "outputs": [
    {
     "name": "stdout",
     "output_type": "stream",
     "text": [
      "Generation: [0/20]\n",
      "Evaluating the initial population.\n",
      " #################### Evaluating... [20/20, 100.00%] Current Net: size=(128, 256), ep=300, lr= 0.00300.03000\n",
      "Best fitted entity validatiton MSE:  0.0254901        \n",
      "Worst fitted entity validation MSE:  37.5490036\n",
      "Generation: [1/20]\n",
      " #################### Evaluating... [20/20, 100.00%] Current Net: size=(128, 256), ep=150, lr= 0.0068 0.0062\n",
      "Best fitted entity validatiton MSE:  0.0243099        \n",
      "Worst fitted entity validation MSE:  4.2304950\n",
      "Generation: [2/20]\n",
      " #################### Evaluating... [20/20, 100.00%] Current Net: size=(128, 256), ep=150, lr= 0.0100.01990\n",
      "Best fitted entity validatiton MSE:  0.0255668        \n",
      "Worst fitted entity validation MSE:  16.5851498\n",
      "Generation: [3/20]\n",
      " #################### Evaluating... [20/20, 100.00%] Current Net: size=(128, 256), ep=500, lr= 0.02260.0100\n",
      "Best fitted entity validatiton MSE:  0.0238571        \n",
      "Worst fitted entity validation MSE:  0.0318039\n",
      "Generation: [4/20]\n",
      " #################### Evaluating... [20/20, 100.00%] Current Net: size=(128, 256), ep=150, lr= 1.0085\n",
      "Best fitted entity validatiton MSE:  0.0243967        \n",
      "Worst fitted entity validation MSE:  3491.3359375\n",
      "Generation: [5/20]\n",
      " ##################### Evaluating... [21/21, 100.00%] Current Net: size=(128, 256), ep=115, lr= 0.0085\n",
      "Best fitted entity validatiton MSE:  0.0233131        \n",
      "Worst fitted entity validation MSE:  1316.1762695\n",
      "Generation: [6/20]\n",
      " #################### Evaluating... [20/20, 100.00%] Current Net: size=(128, 256), ep=115, lr= 0.0084\n",
      "Best fitted entity validatiton MSE:  0.0235535        \n",
      "Worst fitted entity validation MSE:  2188.9216309\n",
      "Generation: [7/20]\n",
      " #################### Evaluating... [20/20, 100.00%] Current Net: size=(128, 256), ep=150, lr= 1.0071\n",
      "Best fitted entity validatiton MSE:  0.0241033        \n",
      "Worst fitted entity validation MSE:  0.0865812\n",
      "Generation: [8/20]\n",
      " #################### Evaluating... [20/20, 100.00%] Current Net: size=(128, 256), ep=500, lr= 0.0109\n",
      "Best fitted entity validatiton MSE:  0.0230759        \n",
      "Worst fitted entity validation MSE:  435.9764404\n",
      "Generation: [9/20]\n",
      " #################### Evaluating... [20/20, 100.00%] Current Net: size=(128, 256), ep=302, lr= 0.0062\n",
      "Best fitted entity validatiton MSE:  0.0232586        \n",
      "Worst fitted entity validation MSE:  0.0342235\n",
      "Generation: [10/20]\n",
      " ##################### Evaluating... [21/21, 100.00%] Current Net: size=(258, 514), ep=302, lr= 1.00420\n",
      "Best fitted entity validatiton MSE:  0.0227779        \n",
      "Worst fitted entity validation MSE:  78890.2578125\n",
      "Generation: [11/20]\n",
      " ##################### Evaluating... [21/21, 100.00%] Current Net: size=(128, 256), ep=500, lr= 0.0105\n",
      "Best fitted entity validatiton MSE:  0.0242747        \n",
      "Worst fitted entity validation MSE:  1920.3522949\n",
      "Generation: [12/20]\n",
      " ##################### Evaluating... [21/21, 100.00%] Current Net: size=(128, 256), ep=500, lr= 0.0083\n",
      "Best fitted entity validatiton MSE:  0.0229758        \n",
      "Worst fitted entity validation MSE:  444.7773132\n",
      "Generation: [13/20]\n",
      " #################### Evaluating... [20/20, 100.00%] Current Net: size=(128, 256), ep=500, lr= 1.0073\n",
      "Best fitted entity validatiton MSE:  0.0224050        \n",
      "Worst fitted entity validation MSE:  1727.9251709\n",
      "Generation: [14/20]\n",
      " #################### Evaluating... [20/20, 100.00%] Current Net: size=(128, 256), ep=500, lr= 0.0092\n",
      "Best fitted entity validatiton MSE:  0.0228544        \n",
      "Worst fitted entity validation MSE:  273.1632385\n",
      "Generation: [15/20]\n",
      " #################### Evaluating... [20/20, 100.00%] Current Net: size=(128, 256), ep=663, lr= 0.0094\n",
      "Best fitted entity validatiton MSE:  0.0233633        \n",
      "Worst fitted entity validation MSE:  1576.4090576\n",
      "Generation: [16/20]\n",
      " #################### Evaluating... [20/20, 100.00%] Current Net: size=(128, 256), ep=500, lr= 1.0188\n",
      "Best fitted entity validatiton MSE:  0.0233114        \n",
      "Worst fitted entity validation MSE:  0.0358474\n",
      "Generation: [17/20]\n",
      " ##################### Evaluating... [21/21, 100.00%] Current Net: size=(66, 198), ep=500, lr= 0.01008\n",
      "Best fitted entity validatiton MSE:  0.0211729        \n",
      "Worst fitted entity validation MSE:  0.0443787\n",
      "Generation: [18/20]\n",
      " ##################### Evaluating... [21/21, 100.00%] Current Net: size=(126, 255), ep=500, lr= 0.00904\n",
      "Best fitted entity validatiton MSE:  0.0229496        \n",
      "Worst fitted entity validation MSE:  0.0365050\n",
      "Generation: [19/20]\n",
      " ##################### Evaluating... [21/21, 100.00%] Current Net: size=(110, 303), ep=500, lr= 0.0089\n",
      "Best fitted entity validatiton MSE:  0.0226871        \n",
      "Worst fitted entity validation MSE:  0.1920632\n",
      "Generation: [20/20]\n",
      " ##################### Evaluating... [21/21, 100.00%] Current Net: size=(76, 238), ep=500, lr= 0.009692\n",
      "Best fitted entity validatiton MSE:  0.0218939        \n",
      "Worst fitted entity validation MSE:  1.2521241\n",
      "Final:\n",
      "\n",
      "Best fitted entity validatiton MSE:  0.0218939        \n",
      "Worst fitted entity validation MSE:  1.2521241\n"
     ]
    }
   ],
   "source": [
    "elite = control.train_op(\n",
    "    optimizer=optimizer,\n",
    "    total_gen=TOTAL_GEN,\n",
    "    elite=0.5\n",
    ")"
   ]
  },
  {
   "cell_type": "code",
   "execution_count": 11,
   "metadata": {
    "scrolled": true
   },
   "outputs": [
    {
     "name": "stdout",
     "output_type": "stream",
     "text": [
      "Time taken: 0:46:48.809537\n"
     ]
    }
   ],
   "source": [
    "end_time = datetime.datetime.now()\n",
    "print(f\"Time taken: {end_time - start_time}\")"
   ]
  },
  {
   "cell_type": "code",
   "execution_count": 12,
   "metadata": {},
   "outputs": [
    {
     "name": "stdout",
     "output_type": "stream",
     "text": [
      "Best found:\n",
      "({'PERIODS': 1, 'ORDER': 1, 'LAGS': 5, 'TRAIN_RATIO': 0.8, 'VAL_RATIO': 0.1, 'epochs': 500, 'num_inputs': 1, 'num_outputs': 1, 'num_time_steps': 5, 'num_neurons': (94, 225), 'learning_rate': 0.009794101837580605, 'clip_grad': None, 'report_periods': 10, 'tensorboard_path': '/home/ec2-user/ec2_hps/2018DEC21_01/tensorboard/', 'model_path': '/home/ec2-user/ec2_hps/2018DEC21_01/saved_models/', 'fig_path': '/home/ec2-user/ec2_hps/2018DEC21_01/model_figs/'}, 0.02189386822283268)\n"
     ]
    }
   ],
   "source": [
    "# Report\n",
    "print(\"Best found:\")\n",
    "print(list(elite.values())[-1][0])"
   ]
  },
  {
   "cell_type": "code",
   "execution_count": 13,
   "metadata": {},
   "outputs": [
    {
     "data": {
      "image/png": "[encoded data removed]",
      "text/plain": [
       "<Figure size 432x288 with 1 Axes>"
      ]
     },
     "metadata": {},
     "output_type": "display_data"
    }
   ],
   "source": [
    "plt.close()\n",
    "plt.style.use('seaborn-dark')\n",
    "plt.title(\"The Elite Group\")\n",
    "plt.plot([\n",
    "    elite_gp[0][1] \n",
    "    for elite_gp in list(elite.values())\n",
    "    ]\n",
    ")\n",
    "plt.plot([\n",
    "    np.mean([x[1] for x in elite_gp])\n",
    "    for elite_gp in list(elite.values())\n",
    "    ]\n",
    ")\n",
    "plt.plot([\n",
    "    elite_gp[-1][1] \n",
    "    for elite_gp in list(elite.values())]\n",
    ")\n",
    "plt.legend(\n",
    "    [\"Best Perform. val.mse\", \"Average val. mse\", \"Worst Perform. val.mse\"],\n",
    "    loc=\"best\"\n",
    ")\n",
    "plt.show()"
   ]
  },
  {
   "cell_type": "code",
   "execution_count": null,
   "metadata": {},
   "outputs": [],
   "source": []
  }
 ],
 "metadata": {
  "kernelspec": {
   "display_name": "Python 3",
   "language": "python",
   "name": "python3"
  },
  "language_info": {
   "codemirror_mode": {
    "name": "ipython",
    "version": 3
   },
   "file_extension": ".py",
   "mimetype": "text/x-python",
   "name": "python",
   "nbconvert_exporter": "python",
   "pygments_lexer": "ipython3",
   "version": "3.6.5"
  }
 },
 "nbformat": 4,
 "nbformat_minor": 2
}
