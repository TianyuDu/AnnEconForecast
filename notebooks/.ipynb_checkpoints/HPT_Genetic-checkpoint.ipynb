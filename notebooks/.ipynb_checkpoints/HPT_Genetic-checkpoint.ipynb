{
 "cells": [
  {
   "cell_type": "markdown",
   "metadata": {},
   "source": [
    "### Hyper-parameter Tunning with Genetic Algorithm\n",
    "#### Created: Dec. 29 2018"
   ]
  },
  {
   "cell_type": "code",
   "execution_count": 1,
   "metadata": {},
   "outputs": [],
   "source": [
    "from pprint import pprint\n",
    "import datetime\n",
    "import os"
   ]
  },
  {
   "cell_type": "code",
   "execution_count": 2,
   "metadata": {},
   "outputs": [],
   "source": [
    "import sys\n",
    "sys.path.append(\"../\")\n",
    "# If this notebook file is not placed under in /notebook/ directory,\n",
    "# adding directory \"../\" might not correly add the project directory.\n",
    "# If adding \"../\" does not solve the importing problem, we need to setup \n",
    "# the directory mannually.\n",
    "try:\n",
    "    import constants\n",
    "except ModuleNotFoundError:\n",
    "    core_dir = input(\"Directory of core files >>> \")\n",
    "    if not core_dir.endswith(\"/\"):\n",
    "        core_dir += \"/\"\n",
    "    sys.path.append(core_dir)\n",
    "    import constants"
   ]
  },
  {
   "cell_type": "code",
   "execution_count": 3,
   "metadata": {},
   "outputs": [],
   "source": [
    "import core.genetic.control as control\n",
    "import core.genetic.tuner as tuner\n",
    "import core.models.stacked_lstm as stacked_lstm"
   ]
  },
  {
   "cell_type": "code",
   "execution_count": 4,
   "metadata": {},
   "outputs": [
    {
     "name": "stdout",
     "output_type": "stream",
     "text": [
      "Dataset paths saved:\n",
      "{'a': '/Users/tianyudu/Documents/Academics/EconForecasting/AnnEconForecast/data/UNRATE.csv',\n",
      " 'b': '/home/ec2-user/AnnEconForecast/data/UNRATE.csv',\n",
      " 'c': '/home/ec2-user/AnnEconForecast/data/DEXCAUS.csv'}\n",
      "Select Dataset >>> b\n",
      "Dataset chosen: /home/ec2-user/AnnEconForecast/data/UNRATE.csv\n"
     ]
    }
   ],
   "source": [
    "# Load dataset.\n",
    "print(\"Dataset paths saved:\")\n",
    "pprint(constants.DATA_DIR)\n",
    "choice = None\n",
    "while choice is None or choice not in constants.DATA_DIR.keys():\n",
    "    if choice is not None:\n",
    "        print(\"Invalid data location received, try again...\")\n",
    "    choice = input(\"Select Dataset >>> \")\n",
    "FILE_DIR = constants.DATA_DIR[choice]\n",
    "print(f\"Dataset chosen: {FILE_DIR}\")"
   ]
  },
  {
   "cell_type": "code",
   "execution_count": 5,
   "metadata": {},
   "outputs": [
    {
     "name": "stdout",
     "output_type": "stream",
     "text": [
      "Avaiable configuration files found: \n",
      "\tec2_config.py\n",
      "\tmac_config.py\n",
      "Select config file >>> ec2_config\n"
     ]
    }
   ],
   "source": [
    "# Load configuration.\n",
    "print(\"Avaiable configuration files found: \")\n",
    "for cf in os.listdir(\"../hps_configs\"):\n",
    "    if cf.endswith(\"config.py\"):\n",
    "        print(\"\\t\" + cf)\n",
    "\n",
    "config_name = input(\"Select config file >>> \")\n",
    "if config_name.endswith(\".py\"):\n",
    "    config_name = config_name[:-3]\n",
    "# config_name = \"mac_config\"\n",
    "\n",
    "exec(f\"import hps_configs.{config_name} as config\")"
   ]
  },
  {
   "cell_type": "code",
   "execution_count": 6,
   "metadata": {},
   "outputs": [],
   "source": [
    "# Training Spec.\n",
    "GENE_POOL = config.main\n",
    "TOTAL_GEN = 5\n",
    "POP_SIZE = 10\n",
    "IGNORE_SET = (\n",
    "    \"PERIODS\", \"ORDER\", \"TRAIN_RATIO\", \"VAL_RATIO\", \"num_outputs\", \"num_inputs\", \"report_periods\",\n",
    "    \"tensorboard_path\", \"model_path\", \"fig_path\"\n",
    ")"
   ]
  },
  {
   "cell_type": "code",
   "execution_count": 7,
   "metadata": {},
   "outputs": [],
   "source": [
    "def eval_net_wrapper(param):\n",
    "    return control.eval_net(\n",
    "        model=stacked_lstm.StackedLSTM,\n",
    "        param=param,\n",
    "        file_dir=FILE_DIR,\n",
    "        metric=\"mse_val\",\n",
    "        smooth_metric=0.05\n",
    "    )"
   ]
  },
  {
   "cell_type": "code",
   "execution_count": 8,
   "metadata": {},
   "outputs": [],
   "source": [
    "# Create the Optimizer.\n",
    "optimizer = tuner.GeneticTuner(\n",
    "    gene_pool=config.main,\n",
    "    pop_size=POP_SIZE,\n",
    "    eval_func=eval_net_wrapper,\n",
    "    mode=\"min\",\n",
    "    retain=0.5,\n",
    "    shot_prob=0.05,\n",
    "    mutate_prob=0.05,\n",
    "    verbose=False,\n",
    "    ignore=IGNORE_SET\n",
    ")"
   ]
  },
  {
   "cell_type": "code",
   "execution_count": 9,
   "metadata": {},
   "outputs": [],
   "source": [
    "start_time = datetime.datetime.now()"
   ]
  },
  {
   "cell_type": "code",
   "execution_count": 10,
   "metadata": {},
   "outputs": [
    {
     "name": "stdout",
     "output_type": "stream",
     "text": [
      "Generation: [0/5]\n",
      "Evaluating the initial population.\n",
      " #################### Eval. net: (128, 256, 512), max_ep = 300 [10/10, 100.00%]]\n",
      "Best fitted entity validatiton MSE:  0.0324056        \n",
      "Worst fitted entity validation MSE:  0.0574129\n",
      "Generation: [1/5]\n",
      " #################### Eval. net: [465, 801, 1447], max_ep = 150 [11/11, 100.00%]\n",
      "Best fitted entity validatiton MSE:  0.0318834        \n",
      "Worst fitted entity validation MSE:  0.0428142\n",
      "Generation: [2/5]\n",
      " #################### Eval. net: (256, 512), max_ep = 150 [11/11, 100.00%]0.91%]\n",
      "Best fitted entity validatiton MSE:  0.0305768        \n",
      "Worst fitted entity validation MSE:  0.0267708\n",
      "Generation: [3/5]\n",
      " #################### Eval. net: [407, 531, 2045], max_ep = 150 [11/11, 100.00%]\n",
      "Best fitted entity validatiton MSE:  0.0267315        \n",
      "Worst fitted entity validation MSE:  316943.5937500\n",
      "Generation: [4/5]\n",
      " #################### Eval. net: [140, 223, 398], max_ep = 150 [11/11, 100.00%]%]\n",
      "Best fitted entity validatiton MSE:  0.0384071        \n",
      "Worst fitted entity validation MSE:  0.0260936\n",
      "Generation: [5/5]\n",
      " #################### Eval. net: [433, 618, 779], max_ep = 300 [11/11, 100.00%]]\n",
      "Best fitted entity validatiton MSE:  0.0349842        \n",
      "Worst fitted entity validation MSE:  0.0256918\n",
      "Final:\n",
      "\n",
      "Best fitted entity validatiton MSE:  0.0349842        \n",
      "Worst fitted entity validation MSE:  0.0256918\n"
     ]
    }
   ],
   "source": [
    "elite = control.train_op(\n",
    "    optimizer=optimizer,\n",
    "    total_gen=TOTAL_GEN,\n",
    "    elite=0.5\n",
    ")"
   ]
  },
  {
   "cell_type": "code",
   "execution_count": 11,
   "metadata": {
    "scrolled": true
   },
   "outputs": [
    {
     "name": "stdout",
     "output_type": "stream",
     "text": [
      "Time taken: 0:11:30.187700\n"
     ]
    }
   ],
   "source": [
    "end_time = datetime.datetime.now()\n",
    "print(f\"Time taken: {end_time - start_time}\")"
   ]
  },
  {
   "cell_type": "code",
   "execution_count": 20,
   "metadata": {},
   "outputs": [],
   "source": [
    "list(elite.values())[-1]"
   ]
  },
  {
   "cell_type": "code",
   "execution_count": 24,
   "metadata": {},
   "outputs": [
    {
     "data": {
      "text/plain": [
       "[({'PERIODS': 1,\n",
       "   'ORDER': 1,\n",
       "   'LAGS': 6,\n",
       "   'TRAIN_RATIO': 0.8,\n",
       "   'VAL_RATIO': 0.1,\n",
       "   'epochs': 300,\n",
       "   'num_inputs': 1,\n",
       "   'num_outputs': 1,\n",
       "   'num_time_steps': 6,\n",
       "   'num_neurons': [433, 618, 779],\n",
       "   'learning_rate': 0.003,\n",
       "   'clip_grad': 10,\n",
       "   'report_periods': 10,\n",
       "   'tensorboard_path': '/home/ec2-user/ec2_hps/2018DEC21_01/tensorboard/',\n",
       "   'model_path': '/home/ec2-user/ec2_hps/2018DEC21_01/saved_models/',\n",
       "   'fig_path': '/home/ec2-user/ec2_hps/2018DEC21_01/model_figs/'},\n",
       "  0.025487640872597694),\n",
       " ({'PERIODS': 1,\n",
       "   'ORDER': 1,\n",
       "   'LAGS': 6,\n",
       "   'TRAIN_RATIO': 0.8,\n",
       "   'VAL_RATIO': 0.1,\n",
       "   'epochs': 150,\n",
       "   'num_inputs': 1,\n",
       "   'num_outputs': 1,\n",
       "   'num_time_steps': 6,\n",
       "   'num_neurons': (512, 1024, 2048),\n",
       "   'learning_rate': 0.003,\n",
       "   'clip_grad': 50,\n",
       "   'report_periods': 10,\n",
       "   'tensorboard_path': '/home/ec2-user/ec2_hps/2018DEC21_01/tensorboard/',\n",
       "   'model_path': '/home/ec2-user/ec2_hps/2018DEC21_01/saved_models/',\n",
       "   'fig_path': '/home/ec2-user/ec2_hps/2018DEC21_01/model_figs/'},\n",
       "  0.0260582584887743),\n",
       " ({'PERIODS': 1,\n",
       "   'ORDER': 1,\n",
       "   'LAGS': 6,\n",
       "   'TRAIN_RATIO': 0.8,\n",
       "   'VAL_RATIO': 0.1,\n",
       "   'epochs': 150,\n",
       "   'num_inputs': 1,\n",
       "   'num_outputs': 1,\n",
       "   'num_time_steps': 6,\n",
       "   'num_neurons': (128, 256, 512),\n",
       "   'learning_rate': 0.01,\n",
       "   'clip_grad': 50,\n",
       "   'report_periods': 10,\n",
       "   'tensorboard_path': '/home/ec2-user/ec2_hps/2018DEC21_01/tensorboard/',\n",
       "   'model_path': '/home/ec2-user/ec2_hps/2018DEC21_01/saved_models/',\n",
       "   'fig_path': '/home/ec2-user/ec2_hps/2018DEC21_01/model_figs/'},\n",
       "  0.02709827944636345),\n",
       " ({'PERIODS': 1,\n",
       "   'ORDER': 1,\n",
       "   'LAGS': 3,\n",
       "   'TRAIN_RATIO': 0.8,\n",
       "   'VAL_RATIO': 0.1,\n",
       "   'epochs': 150,\n",
       "   'num_inputs': 1,\n",
       "   'num_outputs': 1,\n",
       "   'num_time_steps': 3,\n",
       "   'num_neurons': (512, 1024, 2048),\n",
       "   'learning_rate': 0.03,\n",
       "   'clip_grad': 12,\n",
       "   'report_periods': 10,\n",
       "   'tensorboard_path': '/home/ec2-user/ec2_hps/2018DEC21_01/tensorboard/',\n",
       "   'model_path': '/home/ec2-user/ec2_hps/2018DEC21_01/saved_models/',\n",
       "   'fig_path': '/home/ec2-user/ec2_hps/2018DEC21_01/model_figs/'},\n",
       "  0.029352331534028053),\n",
       " ({'PERIODS': 1,\n",
       "   'ORDER': 1,\n",
       "   'LAGS': 3,\n",
       "   'TRAIN_RATIO': 0.8,\n",
       "   'VAL_RATIO': 0.1,\n",
       "   'epochs': 150,\n",
       "   'num_inputs': 1,\n",
       "   'num_outputs': 1,\n",
       "   'num_time_steps': 3,\n",
       "   'num_neurons': [512, 1024, 2048],\n",
       "   'learning_rate': 0.014034807013046857,\n",
       "   'clip_grad': 12,\n",
       "   'report_periods': 10,\n",
       "   'tensorboard_path': '/home/ec2-user/ec2_hps/2018DEC21_01/tensorboard/',\n",
       "   'model_path': '/home/ec2-user/ec2_hps/2018DEC21_01/saved_models/',\n",
       "   'fig_path': '/home/ec2-user/ec2_hps/2018DEC21_01/model_figs/'},\n",
       "  0.03111984208226204),\n",
       " ({'PERIODS': 1,\n",
       "   'ORDER': 1,\n",
       "   'LAGS': 6,\n",
       "   'TRAIN_RATIO': 0.8,\n",
       "   'VAL_RATIO': 0.1,\n",
       "   'epochs': 150,\n",
       "   'num_inputs': 1,\n",
       "   'num_outputs': 1,\n",
       "   'num_time_steps': 6,\n",
       "   'num_neurons': [512, 1024, 2048],\n",
       "   'learning_rate': 0.018965192986953143,\n",
       "   'clip_grad': 50,\n",
       "   'report_periods': 10,\n",
       "   'tensorboard_path': '/home/ec2-user/ec2_hps/2018DEC21_01/tensorboard/',\n",
       "   'model_path': '/home/ec2-user/ec2_hps/2018DEC21_01/saved_models/',\n",
       "   'fig_path': '/home/ec2-user/ec2_hps/2018DEC21_01/model_figs/'},\n",
       "  0.03159068524837494),\n",
       " ({'PERIODS': 1,\n",
       "   'ORDER': 1,\n",
       "   'LAGS': 6,\n",
       "   'TRAIN_RATIO': 0.8,\n",
       "   'VAL_RATIO': 0.1,\n",
       "   'epochs': 150,\n",
       "   'num_inputs': 1,\n",
       "   'num_outputs': 1,\n",
       "   'num_time_steps': 6,\n",
       "   'num_neurons': (256, 512),\n",
       "   'learning_rate': 0.017724231556675043,\n",
       "   'clip_grad': None,\n",
       "   'report_periods': 10,\n",
       "   'tensorboard_path': '/home/ec2-user/ec2_hps/2018DEC21_01/tensorboard/',\n",
       "   'model_path': '/home/ec2-user/ec2_hps/2018DEC21_01/saved_models/',\n",
       "   'fig_path': '/home/ec2-user/ec2_hps/2018DEC21_01/model_figs/'},\n",
       "  0.04683402180671692),\n",
       " ({'PERIODS': 1,\n",
       "   'ORDER': 1,\n",
       "   'LAGS': 11,\n",
       "   'TRAIN_RATIO': 0.8,\n",
       "   'VAL_RATIO': 0.1,\n",
       "   'epochs': 77,\n",
       "   'num_inputs': 1,\n",
       "   'num_outputs': 1,\n",
       "   'num_time_steps': 11,\n",
       "   'num_neurons': (256, 512),\n",
       "   'learning_rate': 0.01,\n",
       "   'clip_grad': None,\n",
       "   'report_periods': 10,\n",
       "   'tensorboard_path': '/home/ec2-user/ec2_hps/2018DEC21_01/tensorboard/',\n",
       "   'model_path': '/home/ec2-user/ec2_hps/2018DEC21_01/saved_models/',\n",
       "   'fig_path': '/home/ec2-user/ec2_hps/2018DEC21_01/model_figs/'},\n",
       "  0.16587400436401367),\n",
       " ({'PERIODS': 1,\n",
       "   'ORDER': 1,\n",
       "   'LAGS': 6,\n",
       "   'TRAIN_RATIO': 0.8,\n",
       "   'VAL_RATIO': 0.1,\n",
       "   'epochs': 77,\n",
       "   'num_inputs': 1,\n",
       "   'num_outputs': 1,\n",
       "   'num_time_steps': 6,\n",
       "   'num_neurons': [512, 1024, 2048],\n",
       "   'learning_rate': 0.0112409614302781,\n",
       "   'clip_grad': 50,\n",
       "   'report_periods': 10,\n",
       "   'tensorboard_path': '/home/ec2-user/ec2_hps/2018DEC21_01/tensorboard/',\n",
       "   'model_path': '/home/ec2-user/ec2_hps/2018DEC21_01/saved_models/',\n",
       "   'fig_path': '/home/ec2-user/ec2_hps/2018DEC21_01/model_figs/'},\n",
       "  0.245666041970253),\n",
       " ({'PERIODS': 1,\n",
       "   'ORDER': 1,\n",
       "   'LAGS': 12,\n",
       "   'TRAIN_RATIO': 0.8,\n",
       "   'VAL_RATIO': 0.1,\n",
       "   'epochs': 300,\n",
       "   'num_inputs': 1,\n",
       "   'num_outputs': 1,\n",
       "   'num_time_steps': 12,\n",
       "   'num_neurons': (204, 131, 271),\n",
       "   'learning_rate': 1.0055198751584866,\n",
       "   'clip_grad': 10,\n",
       "   'report_periods': 10,\n",
       "   'tensorboard_path': '/home/ec2-user/ec2_hps/2018DEC21_01/tensorboard/',\n",
       "   'model_path': '/home/ec2-user/ec2_hps/2018DEC21_01/saved_models/',\n",
       "   'fig_path': '/home/ec2-user/ec2_hps/2018DEC21_01/model_figs/'},\n",
       "  4795.64404296875),\n",
       " ({'PERIODS': 1,\n",
       "   'ORDER': 1,\n",
       "   'LAGS': 12,\n",
       "   'TRAIN_RATIO': 0.8,\n",
       "   'VAL_RATIO': 0.1,\n",
       "   'epochs': 150,\n",
       "   'num_inputs': 1,\n",
       "   'num_outputs': 1,\n",
       "   'num_time_steps': 12,\n",
       "   'num_neurons': [283, 537, 1540],\n",
       "   'learning_rate': 1.0055198751584866,\n",
       "   'clip_grad': 50,\n",
       "   'report_periods': 10,\n",
       "   'tensorboard_path': '/home/ec2-user/ec2_hps/2018DEC21_01/tensorboard/',\n",
       "   'model_path': '/home/ec2-user/ec2_hps/2018DEC21_01/saved_models/',\n",
       "   'fig_path': '/home/ec2-user/ec2_hps/2018DEC21_01/model_figs/'},\n",
       "  16043.2724609375)]"
      ]
     },
     "execution_count": 24,
     "metadata": {},
     "output_type": "execute_result"
    }
   ],
   "source": []
  },
  {
   "cell_type": "code",
   "execution_count": null,
   "metadata": {},
   "outputs": [],
   "source": []
  }
 ],
 "metadata": {
  "kernelspec": {
   "display_name": "Python 3",
   "language": "python",
   "name": "python3"
  },
  "language_info": {
   "codemirror_mode": {
    "name": "ipython",
    "version": 3
   },
   "file_extension": ".py",
   "mimetype": "text/x-python",
   "name": "python",
   "nbconvert_exporter": "python",
   "pygments_lexer": "ipython3",
   "version": "3.6.5"
  }
 },
 "nbformat": 4,
 "nbformat_minor": 2
}
