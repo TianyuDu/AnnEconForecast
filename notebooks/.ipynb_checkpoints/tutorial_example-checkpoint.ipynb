{
 "cells": [
  {
   "cell_type": "code",
   "execution_count": 1,
   "metadata": {},
   "outputs": [],
   "source": [
    "import numpy as np\n",
    "import tensorflow as tf\n",
    "n_inputs = 4\n",
    "n_neurons = 6\n",
    "n_timesteps = 2\n",
    "## The data is a sequence of a number from 0 to 9 and divided into three batches of data.\n",
    "## Data \n",
    "X_batch = np.array([\n",
    "        [[0, 1, 2, 5], [9, 8, 7, 4]], # Batch 1\n",
    "        [[3, 4, 5, 2], [0, 0, 0, 0]], # Batch 2\n",
    "        [[6, 7, 8, 5], [6, 5, 4, 2]], # Batch 3\n",
    "    ])"
   ]
  },
  {
   "cell_type": "code",
   "execution_count": 28,
   "metadata": {},
   "outputs": [],
   "source": [
    "tf.reset_default_graph()\n",
    "X = tf.placeholder(tf.float32, [None, n_timesteps, n_inputs])"
   ]
  },
  {
   "cell_type": "code",
   "execution_count": 32,
   "metadata": {},
   "outputs": [],
   "source": [
    "basic_cell = tf.contrib.rnn.BasicRNNCell(num_units=n_neurons)"
   ]
  },
  {
   "cell_type": "code",
   "execution_count": 33,
   "metadata": {},
   "outputs": [],
   "source": [
    "outputs, states = tf.nn.dynamic_rnn(basic_cell, X, dtype=tf.float32)"
   ]
  },
  {
   "cell_type": "code",
   "execution_count": 34,
   "metadata": {},
   "outputs": [
    {
     "name": "stdout",
     "output_type": "stream",
     "text": [
      "[[ 0.9999892  -0.99997103  0.34582123  0.9999905  -0.99999994  0.92930496]\n",
      " [-0.6357938  -0.44919583  0.88279986 -0.8375365  -0.45702013 -0.15238999]\n",
      " [ 0.99539393 -0.9986669   0.7023478   0.99714154 -0.9999748   0.5874308 ]]\n"
     ]
    }
   ],
   "source": [
    "## Define the network\n",
    "init = tf.global_variables_initializer()\n",
    "with tf.Session() as sess:\n",
    "    init.run()\n",
    "    outputs_val = outputs.eval(feed_dict={X: X_batch})\n",
    "    states_eval = states.eval(feed_dict={X: X_batch})\n",
    "    print(states_eval)"
   ]
  },
  {
   "cell_type": "code",
   "execution_count": 27,
   "metadata": {},
   "outputs": [
    {
     "name": "stdout",
     "output_type": "stream",
     "text": [
      "(3, 6)\n",
      "(3, 2, 6)\n"
     ]
    }
   ],
   "source": [
    "print(states_eval.shape)\n",
    "print(outputs_val.shape)"
   ]
  },
  {
   "cell_type": "code",
   "execution_count": 36,
   "metadata": {},
   "outputs": [
    {
     "data": {
      "text/plain": [
       "2016-08-31   -57.114781\n",
       "2016-09-30   -56.832114\n",
       "2016-10-31   -64.522782\n",
       "2016-11-30   -57.057210\n",
       "2016-12-31   -41.863538\n",
       "Freq: M, dtype: float64"
      ]
     },
     "execution_count": 36,
     "metadata": {},
     "output_type": "execute_result"
    }
   ],
   "source": [
    "# To plot pretty figures\n",
    "%matplotlib inline\n",
    "import matplotlib\n",
    "import matplotlib.pyplot as plt\n",
    "import pandas as pd\n",
    "def create_ts(start = '2001', n = 201, freq = 'M'):\n",
    "    rng = pd.date_range(start=start, periods=n, freq=freq)\n",
    "    ts = pd.Series(np.random.uniform(-18, 18, size=len(rng)), rng).cumsum()\n",
    "    return ts\n",
    "ts= create_ts(start = '2001', n = 192, freq = 'M')\n",
    "ts.tail(5)"
   ]
  },
  {
   "cell_type": "code",
   "execution_count": null,
   "metadata": {},
   "outputs": [],
   "source": []
  }
 ],
 "metadata": {
  "kernelspec": {
   "display_name": "Python 3",
   "language": "python",
   "name": "python3"
  },
  "language_info": {
   "codemirror_mode": {
    "name": "ipython",
    "version": 3
   },
   "file_extension": ".py",
   "mimetype": "text/x-python",
   "name": "python",
   "nbconvert_exporter": "python",
   "pygments_lexer": "ipython3",
   "version": "3.6.5"
  }
 },
 "nbformat": 4,
 "nbformat_minor": 2
}
