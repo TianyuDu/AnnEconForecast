{
 "cells": [
  {
   "cell_type": "code",
   "execution_count": 1,
   "metadata": {},
   "outputs": [
    {
     "name": "stderr",
     "output_type": "stream",
     "text": [
      "/Library/Frameworks/Python.framework/Versions/3.6/lib/python3.6/site-packages/requests/__init__.py:91: RequestsDependencyWarning: urllib3 (1.24.1) or chardet (3.0.4) doesn't match a supported version!\n",
      "  RequestsDependencyWarning)\n"
     ]
    }
   ],
   "source": [
    "\"\"\"\n",
    "This notebook is used for model hyper-parameter searching.\n",
    "Also, if this can also be used as a baseline training script.\n",
    "\"\"\"\n",
    "import os\n",
    "import numpy as np\n",
    "import pandas as pd\n",
    "import tensorflow as tf\n",
    "import sklearn\n",
    "from sklearn.model_selection import train_test_split\n",
    "from sklearn.preprocessing import StandardScaler\n",
    "import matplotlib\n",
    "import matplotlib.pyplot as plt\n",
    "from pprint import pprint\n",
    "from typing import Dict, List"
   ]
  },
  {
   "cell_type": "code",
   "execution_count": 2,
   "metadata": {},
   "outputs": [],
   "source": [
    "import sys\n",
    "sys.path.append(\"../\")\n",
    "# If this notebook file is not placed under in /notebook/ directory,\n",
    "# adding directory \"../\" might not correly add the project directory.\n",
    "# If adding \"../\" does not solve the importing problem, we need to setup \n",
    "# the directory mannually.\n",
    "try:\n",
    "    import constants\n",
    "except ModuleNotFoundError:\n",
    "    core_dir = input(\"Directory of core files >>> \")\n",
    "    if not core_dir.endswith(\"/\"):\n",
    "        core_dir += \"/\"\n",
    "    sys.path.append(core_dir)\n",
    "    import constants"
   ]
  },
  {
   "cell_type": "code",
   "execution_count": 3,
   "metadata": {},
   "outputs": [],
   "source": [
    "from core.tools.metrics import *\n",
    "import core.tools.visualize as visualize\n",
    "from core.tools.time_series import *\n",
    "from core.tools.data_import import *\n",
    "import core.tools.rnn_prepare as rnn_prepare\n",
    "import core.tools.param_set_generator as param_set_generator\n",
    "\n",
    "import core.models.stacked_lstm as stacked_lstm\n",
    "\n",
    "import core.training.hps_methods as hps_methods"
   ]
  },
  {
   "cell_type": "code",
   "execution_count": 4,
   "metadata": {},
   "outputs": [
    {
     "name": "stdout",
     "output_type": "stream",
     "text": [
      "{'a': '/Users/tianyudu/Documents/Academics/EconForecasting/AnnEconForecast/data/UNRATE.csv',\n",
      " 'b': '/home/ec2-user/AnnEconForecast/data/UNRATE.csv',\n",
      " 'c': '/home/ec2-user/AnnEconForecast/data/DEXCAUS.csv'}\n",
      "Dataset chosen: /Users/tianyudu/Documents/Academics/EconForecasting/AnnEconForecast/data/UNRATE.csv\n",
      "Avaiable configuration files found: \n",
      "\tsample_config.py\n",
      "\tec2_config.py\n",
      "\tmac_config.py\n"
     ]
    }
   ],
   "source": [
    "# data preparation phase.\n",
    "pprint(constants.DATA_DIR)\n",
    "# choice = None\n",
    "# while choice is None or choice not in constants.DATA_DIR.keys():\n",
    "#     if choice is not None:\n",
    "#         print(\"Invalid data location received, try again...\")\n",
    "#     choice = input(\"Select Dataset >>> \")\n",
    "choice = \"a\"\n",
    "\n",
    "FILE_DIR = constants.DATA_DIR[choice]\n",
    "\n",
    "print(f\"Dataset chosen: {FILE_DIR}\")\n",
    "\n",
    "print(\"Avaiable configuration files found: \")\n",
    "for cf in os.listdir(\"../hps_configs\"):\n",
    "    if cf.endswith(\"config.py\"):\n",
    "        print(\"\\t\" + cf)\n",
    "\n",
    "# config_name = input(\"Select config file >>> \")\n",
    "config_name = \"mac_config\"\n",
    "if config_name.endswith(\".py\"):\n",
    "    config_name = config_name[:-3]\n",
    "\n",
    "exec(f\"import hps_configs.{config_name} as config\")\n",
    "\n",
    "# print(\"Reading configuration file...\")\n",
    "# for att in dir(config):\n",
    "#     if att.endswith(\"_config\"):\n",
    "#         print(f\"\\tLoading: {att}\")\n",
    "#         exec(f\"globals().update(config.{att})\")"
   ]
  },
  {
   "cell_type": "code",
   "execution_count": 6,
   "metadata": {},
   "outputs": [
    {
     "name": "stdout",
     "output_type": "stream",
     "text": [
      "Total number of parameter sets generated: 3\n"
     ]
    }
   ],
   "source": [
    "parameter_collection = param_set_generator.gen_hparam_set(config.main)"
   ]
  },
  {
   "cell_type": "code",
   "execution_count": 7,
   "metadata": {},
   "outputs": [
    {
     "name": "stdout",
     "output_type": "stream",
     "text": [
      "{'LAGS': 12,\n",
      " 'ORDER': 1,\n",
      " 'PERIODS': 1,\n",
      " 'TRAIN_RATIO': 0.8,\n",
      " 'VAL_RATIO': 0.1,\n",
      " 'clip_grad': None,\n",
      " 'epochs': 150,\n",
      " 'fig_path': '/Users/tianyudu/Desktop/sample_model/model_figs/num_neurons=(32, '\n",
      "             '64)-learning_rate=0.1',\n",
      " 'hparam_str': 'num_neurons=(32, 64)-learning_rate=0.1',\n",
      " 'learning_rate': 0.1,\n",
      " 'model_path': '/Users/tianyudu/Desktop/sample_model/saved_models/num_neurons=(32, '\n",
      "               '64)-learning_rate=0.1',\n",
      " 'num_inputs': 1,\n",
      " 'num_neurons': (32, 64),\n",
      " 'num_outputs': 1,\n",
      " 'num_time_steps': 12,\n",
      " 'report_periods': 10,\n",
      " 'tensorboard_dir': '/Users/tianyudu/Desktop/sample_model/tensorboard/num_neurons=(32, '\n",
      "                    '64)-learning_rate=0.1'}\n"
     ]
    }
   ],
   "source": [
    "pprint(parameter_collection[1])"
   ]
  },
  {
   "cell_type": "code",
   "execution_count": 8,
   "metadata": {},
   "outputs": [],
   "source": [
    "# Check here."
   ]
  },
  {
   "cell_type": "code",
   "execution_count": 9,
   "metadata": {
    "scrolled": false
   },
   "outputs": [
    {
     "name": "stdout",
     "output_type": "stream",
     "text": [
      "================================================================\n",
      "Executing hyper-parameter searching session [0/2]...\n",
      "Session Config:\n",
      "\tnum_neurons=(16, 32)\n",
      "\tlearning_rate=0.1\n"
     ]
    },
    {
     "ename": "AttributeError",
     "evalue": "module 'hps_configs.mac_config' has no attribute 'dp_config'",
     "output_type": "error",
     "traceback": [
      "\u001b[0;31m---------------------------------------------------------------------------\u001b[0m",
      "\u001b[0;31mAttributeError\u001b[0m                            Traceback (most recent call last)",
      "\u001b[0;32m<ipython-input-9-1d9bc168781f>\u001b[0m in \u001b[0;36m<module>\u001b[0;34m()\u001b[0m\n\u001b[1;32m      6\u001b[0m     hps_methods.individual_train(\n\u001b[1;32m      7\u001b[0m         \u001b[0mmodel_param\u001b[0m\u001b[0;34m=\u001b[0m\u001b[0mparam\u001b[0m\u001b[0;34m,\u001b[0m\u001b[0;34m\u001b[0m\u001b[0m\n\u001b[0;32m----> 8\u001b[0;31m         \u001b[0mdata_param\u001b[0m\u001b[0;34m=\u001b[0m\u001b[0mconfig\u001b[0m\u001b[0;34m.\u001b[0m\u001b[0mdp_config\u001b[0m\u001b[0;34m,\u001b[0m\u001b[0;34m\u001b[0m\u001b[0m\n\u001b[0m\u001b[1;32m      9\u001b[0m         \u001b[0mexec_core\u001b[0m\u001b[0;34m=\u001b[0m\u001b[0mstacked_lstm\u001b[0m\u001b[0;34m.\u001b[0m\u001b[0mexec_core\u001b[0m\u001b[0;34m,\u001b[0m\u001b[0;34m\u001b[0m\u001b[0m\n\u001b[1;32m     10\u001b[0m         \u001b[0mfile_dir\u001b[0m\u001b[0;34m=\u001b[0m\u001b[0mFILE_DIR\u001b[0m\u001b[0;34m\u001b[0m\u001b[0m\n",
      "\u001b[0;31mAttributeError\u001b[0m: module 'hps_configs.mac_config' has no attribute 'dp_config'"
     ]
    }
   ],
   "source": [
    "for (i, param) in enumerate(parameter_collection):\n",
    "    print(\"================================================================\")\n",
    "    print(f\"Executing hyper-parameter searching session [{i}/{len(parameter_collection) - 1}]...\")\n",
    "    print(\"Session Config:\\n\\t\" + param[\"hparam_str\"].replace(\"-\", \"\\n\\t\"))\n",
    "    start = datetime.now()\n",
    "    hps_methods.individual_train(\n",
    "        param=param\n",
    "        exec_core=stacked_lstm.exec_core,\n",
    "        file_dir=FILE_DIR\n",
    "    )\n",
    "    print(f\"Time taken for session [{i}]: {str(datetime.now() - start)}.\")\n",
    "print(\"Done.\")"
   ]
  },
  {
   "cell_type": "code",
   "execution_count": null,
   "metadata": {},
   "outputs": [],
   "source": []
  }
 ],
 "metadata": {
  "kernelspec": {
   "display_name": "Python 3",
   "language": "python",
   "name": "python3"
  },
  "language_info": {
   "codemirror_mode": {
    "name": "ipython",
    "version": 3
   },
   "file_extension": ".py",
   "mimetype": "text/x-python",
   "name": "python",
   "nbconvert_exporter": "python",
   "pygments_lexer": "ipython3",
   "version": "3.6.5"
  }
 },
 "nbformat": 4,
 "nbformat_minor": 2
}
