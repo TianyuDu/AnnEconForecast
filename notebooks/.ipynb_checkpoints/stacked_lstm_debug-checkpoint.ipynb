{
 "cells": [
  {
   "cell_type": "code",
   "execution_count": null,
   "metadata": {},
   "outputs": [],
   "source": [
    "param = {'LAGS': 6,\n",
    " 'ORDER': 1,\n",
    " 'PERIODS': 1,\n",
    " 'TRAIN_RATIO': 0.8,\n",
    " 'VAL_RATIO': 0.1,\n",
    " 'clip_grad': None,\n",
    " 'epochs': 150,\n",
    " 'fig_path': '/Volumes/Intel/debug/model_figs/',\n",
    " 'learning_rate': 0.1,\n",
    " 'model_path': '/Volumes/Intel/debug/saved_models/',\n",
    " 'num_inputs': 1,\n",
    " 'num_neurons': (16, 32),\n",
    " 'num_outputs': 1,\n",
    " 'num_time_steps': None,\n",
    " 'report_periods': 10,\n",
    " 'tensorboard_path': '/Volumes/Intel/debug/tensorboard/'}"
   ]
  }
 ],
 "metadata": {
  "kernelspec": {
   "display_name": "Python 3",
   "language": "python",
   "name": "python3"
  },
  "language_info": {
   "codemirror_mode": {
    "name": "ipython",
    "version": 3
   },
   "file_extension": ".py",
   "mimetype": "text/x-python",
   "name": "python",
   "nbconvert_exporter": "python",
   "pygments_lexer": "ipython3",
   "version": "3.6.5"
  }
 },
 "nbformat": 4,
 "nbformat_minor": 2
}
