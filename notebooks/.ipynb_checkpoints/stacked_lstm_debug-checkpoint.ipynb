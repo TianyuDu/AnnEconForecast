{
 "cells": [
  {
   "cell_type": "code",
   "execution_count": 1,
   "metadata": {},
   "outputs": [
    {
     "name": "stderr",
     "output_type": "stream",
     "text": [
      "/Library/Frameworks/Python.framework/Versions/3.6/lib/python3.6/site-packages/requests/__init__.py:91: RequestsDependencyWarning: urllib3 (1.24.1) or chardet (3.0.4) doesn't match a supported version!\n",
      "  RequestsDependencyWarning)\n"
     ]
    }
   ],
   "source": [
    "import numpy as np\n",
    "import tensorflow as tf\n",
    "import sys\n",
    "from pprint import pprint\n",
    "sys.path.append(\"../\")"
   ]
  },
  {
   "cell_type": "code",
   "execution_count": 6,
   "metadata": {},
   "outputs": [],
   "source": [
    "import core.models.stacked_lstm as stacked_lstm\n",
    "import core.tools.rnn_prepare as rnn_prepare"
   ]
  },
  {
   "cell_type": "code",
   "execution_count": 3,
   "metadata": {},
   "outputs": [],
   "source": [
    "# Parameter for testing.\n",
    "param = {'LAGS': 6,\n",
    " 'ORDER': 1,\n",
    " 'PERIODS': 1,\n",
    " 'TRAIN_RATIO': 0.8,\n",
    " 'VAL_RATIO': 0.1,\n",
    " 'clip_grad': None,\n",
    " 'epochs': 150,\n",
    " 'fig_path': '/Volumes/Intel/debug/model_figs/',\n",
    " 'learning_rate': 0.1,\n",
    " 'model_path': '/Volumes/Intel/debug/saved_models/',\n",
    " 'num_inputs': 1,\n",
    " 'num_neurons': (16, 32),\n",
    " 'num_outputs': 1,\n",
    " 'num_time_steps': None,\n",
    " 'report_periods': 10,\n",
    " 'tensorboard_path': '/Volumes/Intel/debug/tensorboard/'}"
   ]
  },
  {
   "cell_type": "code",
   "execution_count": 4,
   "metadata": {},
   "outputs": [],
   "source": [
    "ckpts = [50, 100, -1]"
   ]
  },
  {
   "cell_type": "code",
   "execution_count": 5,
   "metadata": {},
   "outputs": [
    {
     "name": "stdout",
     "output_type": "stream",
     "text": [
      "Building the computational graph...\n",
      "Building data IO tensors...\n",
      "Feature(input) tensor is built, shape=(?, 6, 1)\n",
      "Label(output) tensor is built, shape=(?, 1)\n",
      "Building the recurrent structure...\n",
      "Multi-layer LSTM structure is built: neurons=(16, 32).\n",
      "(dynamic_rnn) rnn_outputs shape=(?, 6, 32).\n",
      "Recurrent structure is built, the stacked output shape=(?, 192)\n",
      "Building the output layer...\n",
      "Output weight tensor is built, shape=(192, 1)\n",
      "Output bias tensor is built, shape=(1,)\n",
      "Prediction tensor is built, shape=(?, 1)\n",
      "\f",
      "Summaries on tensors are added to tensorboard.\n",
      "Building model preformance metrics...\n",
      "Loss tensors are built.\n",
      "Summaries on losses are added to tensorbard.\n",
      "Building the optimizer...\n",
      "\tNote: no gradient clipping is applied.                    \n",
      "\tIf possible gradient exploding detected (e.g. nan loss),                     try use clip_grad.\n",
      "\tThe complete computational graph is built.\n",
      "The graph is built.\n"
     ]
    }
   ],
   "source": [
    "model = stacked_lstm.StackedLSTM(\n",
    "    param=param,\n",
    "    prediction_checkpoints=ckpts,\n",
    "    verbose=True\n",
    ")"
   ]
  },
  {
   "cell_type": "code",
   "execution_count": 9,
   "metadata": {},
   "outputs": [],
   "source": [
    "file_dir = \"/Users/tianyudu/Documents/Academics/EconForecasting/AnnEconForecast/data/UNRATE.csv\""
   ]
  },
  {
   "cell_type": "code",
   "execution_count": 15,
   "metadata": {},
   "outputs": [
    {
     "name": "stdout",
     "output_type": "stream",
     "text": [
      "Dataset loaded.    \n",
      "\tIndex type: datetime64[ns]    \n",
      "\tData type: float64\n",
      "StandardScaler applied, scaling based on the first 679 observations.\n",
      "Total 842 observations generated.\n",
      "Note: shape format: (num_obs, time_steps, num_inputs/outputs)\n",
      "X shape = (842, 6, 1), y shape = (842, 1, 1)\n",
      "Training and testing set generated,        \n",
      "X_train shape: (672, 6, 1)        \n",
      "y_train shape: (672, 1)        \n",
      "X_test shape: (85, 6, 1)        \n",
      "y_test shape: (85, 1)        \n",
      "X_validation shape: (85, 6, 1)        \n",
      "y_validation shape: (85, 1)\n"
     ]
    }
   ],
   "source": [
    "df_ready = rnn_prepare.prepare_dataset(\n",
    "    file_dir=file_dir,\n",
    "    periods=param[\"PERIODS\"],\n",
    "    order=param[\"ORDER\"],\n",
    "    remove=None,\n",
    "    verbose=False\n",
    ")\n",
    "\n",
    "# Split dataset.\n",
    "(X_train, X_val, X_test,\n",
    " y_train, y_val, y_test) = rnn_prepare.split_dataset(\n",
    "    raw=df_ready,\n",
    "    train_ratio=param[\"TRAIN_RATIO\"],\n",
    "    val_ratio=param[\"VAL_RATIO\"],\n",
    "    lags=param[\"LAGS\"]\n",
    ")\n",
    "\n",
    "# The gross dataset excluding the test set.\n",
    "# Excluding the test set for isolation purpose.\n",
    "data_feed = {\n",
    "    \"X_train\": X_train,\n",
    "    \"X_val\": X_val,\n",
    "    \"y_train\": y_train,\n",
    "    \"y_val\": y_val,\n",
    "}"
   ]
  },
  {
   "cell_type": "code",
   "execution_count": 19,
   "metadata": {},
   "outputs": [
    {
     "data": {
      "text/plain": [
       "<tf.Operation 'OPTIMIZER/OPTIMIZER' type=NoOp>"
      ]
     },
     "execution_count": 19,
     "metadata": {},
     "output_type": "execute_result"
    }
   ],
   "source": [
    "ret_pack = model.fit(data=data_feed, ret=\"all\")"
   ]
  },
  {
   "cell_type": "code",
   "execution_count": null,
   "metadata": {},
   "outputs": [],
   "source": []
  }
 ],
 "metadata": {
  "kernelspec": {
   "display_name": "Python 3",
   "language": "python",
   "name": "python3"
  },
  "language_info": {
   "codemirror_mode": {
    "name": "ipython",
    "version": 3
   },
   "file_extension": ".py",
   "mimetype": "text/x-python",
   "name": "python",
   "nbconvert_exporter": "python",
   "pygments_lexer": "ipython3",
   "version": "3.6.5"
  }
 },
 "nbformat": 4,
 "nbformat_minor": 2
}
