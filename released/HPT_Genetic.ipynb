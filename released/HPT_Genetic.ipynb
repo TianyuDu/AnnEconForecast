{
 "cells": [
  {
   "cell_type": "markdown",
   "metadata": {},
   "source": [
    "# Hyper-parameter Tunning with Genetic Algorithm\n",
    "### An Example on Tunning Hyper-Parameters for LSTM Time Series Forecasting\n",
    "\n",
    "> Tianyu Du, Dec. 31, 2018\n",
    "\n",
    "In this notebook, we will use `GeneticTuner` to generate hyper-parameter sets and find a HP set minimizes the MSE loss on validation set."
   ]
  },
  {
   "cell_type": "code",
   "execution_count": 1,
   "metadata": {},
   "outputs": [],
   "source": [
    "from pprint import pprint\n",
    "import matplotlib.pyplot as plt\n",
    "import numpy as np\n",
    "import datetime\n",
    "import os"
   ]
  },
  {
   "cell_type": "markdown",
   "metadata": {},
   "source": [
    "### Add the project home directory"
   ]
  },
  {
   "cell_type": "code",
   "execution_count": 3,
   "metadata": {},
   "outputs": [],
   "source": [
    "import sys\n",
    "sys.path.append(\"../\")\n",
    "# If this notebook file is not placed under in /notebook/ directory,\n",
    "# adding directory \"../\" might not correly add the project directory.\n",
    "# If adding \"../\" does not solve the importing problem, we need to setup \n",
    "# the directory mannually.\n",
    "try:\n",
    "    import constants\n",
    "except ModuleNotFoundError:\n",
    "    core_dir = input(\"Directory of core files >>> \")\n",
    "    if not core_dir.endswith(\"/\"):\n",
    "        core_dir += \"/\"\n",
    "    sys.path.append(core_dir)\n",
    "    import constants"
   ]
  },
  {
   "cell_type": "markdown",
   "metadata": {},
   "source": [
    "### Load essential control packages."
   ]
  },
  {
   "cell_type": "code",
   "execution_count": 4,
   "metadata": {},
   "outputs": [],
   "source": [
    "import core.genetic.control as control\n",
    "import core.genetic.tuner as tuner"
   ]
  },
  {
   "cell_type": "markdown",
   "metadata": {},
   "source": [
    "### Load the LSTM RNN to train."
   ]
  },
  {
   "cell_type": "code",
   "execution_count": 5,
   "metadata": {},
   "outputs": [],
   "source": [
    "import core.models.stacked_lstm as stacked_lstm"
   ]
  },
  {
   "cell_type": "markdown",
   "metadata": {},
   "source": [
    "### Configuration.\n",
    "### i) Dataset\n",
    "Use *absolute* path instead of a relative one."
   ]
  },
  {
   "cell_type": "code",
   "execution_count": 6,
   "metadata": {},
   "outputs": [],
   "source": [
    "FILE_DIR = \"/Users/tianyudu/Documents/Academics/EconForecasting/AnnEconForecast/data/UNRATE.csv\""
   ]
  },
  {
   "cell_type": "markdown",
   "metadata": {},
   "source": [
    "### ii) The Initial Genetic Pool\n",
    "* **Fixed Genetic Bits**: Use a *single value* to represent a fixed gene bit, each individual in the <u>initial population</u> will have the same gene on those bits.\n",
    "\n",
    "* **Flexiable Genetic Bits**: Use a *list* to represent a flexiable gene bit, each indivudal in the <u>initial population</u> takes a random element from that list as their own gene value at that bit."
   ]
  },
  {
   "cell_type": "code",
   "execution_count": 15,
   "metadata": {},
   "outputs": [],
   "source": [
    "GENE_POOL = {\n",
    "    # ======== Data Pre-processing Parameter ========\n",
    "    \"PERIODS\": 1,\n",
    "    \"ORDER\": 1,\n",
    "    \"LAGS\": [3, 6],\n",
    "    \"TRAIN_RATIO\": 0.8,\n",
    "    \"VAL_RATIO\": 0.1,\n",
    "    # ======== Model Training Parameter ========\n",
    "    \"epochs\": [3, 4, 5],\n",
    "    \"num_inputs\": 1,\n",
    "    \"num_outputs\": 1,\n",
    "    \"num_time_steps\": None,  # num_time_steps is identical to LAGS\n",
    "    \"num_neurons\": [\n",
    "        [16, 32],\n",
    "        [32, 64],\n",
    "        [16, 16, 32],\n",
    "        [16, 16, 32, 32]\n",
    "    ],\n",
    "    \"learning_rate\": [\n",
    "        0.1,\n",
    "        0.03,\n",
    "        0.01\n",
    "    ],\n",
    "    \"clip_grad\": None,\n",
    "    \"report_periods\": 10\n",
    "}\n"
   ]
  },
  {
   "cell_type": "markdown",
   "metadata": {},
   "source": [
    "### iii) Evoluation\n",
    "* `TOTAL_GEN`: The total number of generations to evolve.\n",
    "* `POP_SIZE`: After the selection and breeding phases in each round of evolving, the population size will be mained to this size.\n",
    "* `RETAIN`: The proportion of population to be retained after selection.\n",
    "* `SHOT_PROB`: The probability that one individual not selected based on its fittness score to be retained to the next generation.\n",
    "* `MUTATE_PROB`: The probability to be mutated.\n",
    "* `IGNORE_SET`: The set of genetic bits to be skipped during mutation and cross-over phases."
   ]
  },
  {
   "cell_type": "code",
   "execution_count": 16,
   "metadata": {},
   "outputs": [],
   "source": [
    "# Training Spec.\n",
    "TOTAL_GEN = 3\n",
    "POP_SIZE = 10\n",
    "RETAIN = 0.5\n",
    "SHOT_PROB = 0.1\n",
    "MUTATE_PROB = 0.05\n",
    "IGNORE_SET = (\n",
    "    \"PERIODS\", \"ORDER\", \"TRAIN_RATIO\", \"VAL_RATIO\", \"num_outputs\", \"num_inputs\", \"report_periods\"\n",
    ")"
   ]
  },
  {
   "cell_type": "code",
   "execution_count": 17,
   "metadata": {},
   "outputs": [],
   "source": [
    "def eval_net_wrapper(param):\n",
    "    return control.eval_net(\n",
    "        model=stacked_lstm.StackedLSTM,\n",
    "        param=param,\n",
    "        file_dir=FILE_DIR,\n",
    "        metric=\"mse_val\",\n",
    "        smooth_metric=0.05\n",
    "    )"
   ]
  },
  {
   "cell_type": "code",
   "execution_count": 18,
   "metadata": {},
   "outputs": [],
   "source": [
    "# Create the Optimizer.\n",
    "optimizer = tuner.GeneticTuner(\n",
    "    gene_pool=GENE_POOL,\n",
    "    pop_size=POP_SIZE,\n",
    "    eval_func=eval_net_wrapper,\n",
    "    mode=\"min\",\n",
    "    retain=RETAIN,\n",
    "    shot_prob=SHOT_PROB,\n",
    "    mutate_prob=MUTATE_PROB,\n",
    "    verbose=False,\n",
    "    ignore=IGNORE_SET\n",
    ")"
   ]
  },
  {
   "cell_type": "markdown",
   "metadata": {},
   "source": [
    "### Specify the directory to save elite chromosomes (parameter sets)."
   ]
  },
  {
   "cell_type": "code",
   "execution_count": 21,
   "metadata": {},
   "outputs": [],
   "source": [
    "save = \"/Users/tianyudu/Downloads/gen\""
   ]
  },
  {
   "cell_type": "code",
   "execution_count": 19,
   "metadata": {},
   "outputs": [],
   "source": [
    "start_time = datetime.datetime.now()"
   ]
  },
  {
   "cell_type": "code",
   "execution_count": 20,
   "metadata": {
    "scrolled": false
   },
   "outputs": [
    {
     "name": "stdout",
     "output_type": "stream",
     "text": [
      "Generation: [0/3]\n",
      "Evaluating the initial population.\n",
      " ########## Evaluating... [10/10, 100.00%] Current Net: size=[16, 16, 32], ep=3, lr= 0.0100100\n",
      "Best fitted entity validatiton MSE:  0.0256997        \n",
      "Worst fitted entity validation MSE:  0.5187203\n",
      "Generation: [1/3]\n",
      " ########### Evaluating... [11/11, 100.00%] Current Net: size=[23, 49], ep=3, lr= 0.0183\n",
      "Best fitted entity validatiton MSE:  0.0323585        \n",
      "Worst fitted entity validation MSE:  0.3477542\n",
      "Folder /Users/tianyudu/Downloads/gen/gen0/occupied, directly write to it.\n",
      "Time taken: 0:00:15.551538\n",
      "Generation: [2/3]\n",
      " ########## Evaluating... [10/10, 100.00%] Current Net: size=[18, 32], ep=4, lr= 0.0288\n",
      "Best fitted entity validatiton MSE:  0.0385235        \n",
      "Worst fitted entity validation MSE:  0.4607473\n",
      "Folder /Users/tianyudu/Downloads/gen/gen1/occupied, directly write to it.\n",
      "Time taken: 0:00:13.768377\n",
      "Generation: [3/3]\n",
      " ########## Evaluating... [10/10, 100.00%] Current Net: size=[20, 40], ep=4, lr= 0.0220\n",
      "Best fitted entity validatiton MSE:  0.0438580        \n",
      "Worst fitted entity validation MSE:  16.8994198\n",
      "Folder /Users/tianyudu/Downloads/gen/gen2/occupied, directly write to it.\n",
      "Time taken: 0:00:13.929691\n",
      "Final:\n",
      "\n",
      "Best fitted entity validatiton MSE:  0.0438580        \n",
      "Worst fitted entity validation MSE:  16.8994198\n"
     ]
    }
   ],
   "source": [
    "elite = control.train_op(\n",
    "    optimizer=optimizer,\n",
    "    total_gen=TOTAL_GEN,\n",
    "    elite=0.5,\n",
    "    write_to_disk=None\n",
    ")"
   ]
  },
  {
   "cell_type": "code",
   "execution_count": 22,
   "metadata": {
    "scrolled": true
   },
   "outputs": [
    {
     "name": "stdout",
     "output_type": "stream",
     "text": [
      "Time taken: 0:02:06.427207\n"
     ]
    }
   ],
   "source": [
    "end_time = datetime.datetime.now()\n",
    "print(f\"Time taken: {end_time - start_time}\")"
   ]
  },
  {
   "cell_type": "markdown",
   "metadata": {},
   "source": [
    "### The Result.\n",
    "#### The best performed individual in the last generation."
   ]
  },
  {
   "cell_type": "code",
   "execution_count": 30,
   "metadata": {
    "scrolled": true
   },
   "outputs": [
    {
     "name": "stdout",
     "output_type": "stream",
     "text": [
      "{'LAGS': 3,\n",
      " 'ORDER': 1,\n",
      " 'PERIODS': 1,\n",
      " 'TRAIN_RATIO': 0.8,\n",
      " 'VAL_RATIO': 0.1,\n",
      " 'clip_grad': None,\n",
      " 'epochs': 4,\n",
      " 'learning_rate': 0.01918072367906084,\n",
      " 'num_inputs': 1,\n",
      " 'num_neurons': [21, 39],\n",
      " 'num_outputs': 1,\n",
      " 'num_time_steps': 3,\n",
      " 'report_periods': 10}\n",
      "Validation Set MSE: 0.04385799542069435\n"
     ]
    }
   ],
   "source": [
    "(best, score) = list(elite.values())[-1][0]\n",
    "pprint(best)\n",
    "print(\"Validation Set MSE: \" + str(score))"
   ]
  },
  {
   "cell_type": "markdown",
   "metadata": {},
   "source": [
    "### Visualize the Progress\n",
    "#### We can plot the statistics on elite group in each generation."
   ]
  },
  {
   "cell_type": "code",
   "execution_count": 33,
   "metadata": {},
   "outputs": [
    {
     "data": {
      "image/png": "[encoded data removed]",
      "text/plain": [
       "<Figure size 432x288 with 1 Axes>"
      ]
     },
     "metadata": {},
     "output_type": "display_data"
    }
   ],
   "source": [
    "plt.close()\n",
    "plt.style.use('seaborn-dark')\n",
    "plt.title(\"The Elite Group\")\n",
    "plt.plot([\n",
    "    elite_gp[0][1] \n",
    "    for elite_gp in list(elite.values())\n",
    "    ]\n",
    ")\n",
    "plt.plot([\n",
    "    np.mean([x[1] for x in elite_gp])\n",
    "    for elite_gp in list(elite.values())\n",
    "    ]\n",
    ")\n",
    "plt.plot([\n",
    "    elite_gp[-1][1] \n",
    "    for elite_gp in list(elite.values())]\n",
    ")\n",
    "plt.legend(\n",
    "    [\"Best Perform. val.mse\", \"Average val. mse\", \"Worst Perform. val.mse\"],\n",
    "    loc=\"best\"\n",
    ")\n",
    "\n",
    "plt.xlabel(\"Generation\")\n",
    "plt.xticks(range(TOTAL_GEN))\n",
    "\n",
    "plt.show()"
   ]
  },
  {
   "cell_type": "code",
   "execution_count": null,
   "metadata": {},
   "outputs": [],
   "source": []
  }
 ],
 "metadata": {
  "kernelspec": {
   "display_name": "Python 3",
   "language": "python",
   "name": "python3"
  },
  "language_info": {
   "codemirror_mode": {
    "name": "ipython",
    "version": 3
   },
   "file_extension": ".py",
   "mimetype": "text/x-python",
   "name": "python",
   "nbconvert_exporter": "python",
   "pygments_lexer": "ipython3",
   "version": "3.6.5"
  }
 },
 "nbformat": 4,
 "nbformat_minor": 2
}
