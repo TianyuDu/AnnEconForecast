{
 "cells": [
  {
   "cell_type": "code",
   "execution_count": null,
   "metadata": {
    "collapsed": true
   },
   "outputs": [],
   "source": [
    "import sys\n",
    "sys.path.extend([\"../\"])\n",
    "from core.models.baseline_rnn import *\n",
    "%matplotlib inline\n",
    "import matplotlib.pyplot as plt"
   ]
  },
  {
   "cell_type": "code",
   "execution_count": null,
   "metadata": {},
   "outputs": [],
   "source": [
    "model = BaselineRnn(para=parameters, sequential_label=True)"
   ]
  },
  {
   "cell_type": "code",
   "execution_count": null,
   "metadata": {
    "collapsed": true
   },
   "outputs": [],
   "source": [
    "saver = tf.train.Saver()"
   ]
  },
  {
   "cell_type": "code",
   "execution_count": null,
   "metadata": {
    "collapsed": true
   },
   "outputs": [],
   "source": [
    "import sys\n",
    "sys.path.extend([\"../\"])\n",
    "from core.tools.data_import import *\n",
    "from core.tools.time_series import *"
   ]
  },
  {
   "cell_type": "code",
   "execution_count": null,
   "metadata": {
    "collapsed": true
   },
   "outputs": [],
   "source": [
    "# Pre-processing Parameters\n",
    "PERIODS = 1\n",
    "ORDER = 1\n",
    "LAGS = 24"
   ]
  },
  {
   "cell_type": "code",
   "execution_count": null,
   "metadata": {},
   "outputs": [],
   "source": [
    "df = load_dataset(UNRATE_DIR['GCE'])\n",
    "prepared_df = differencing(df, periods=PERIODS, order=ORDER)\n",
    "prepared_df.head()"
   ]
  },
  {
   "cell_type": "code",
   "execution_count": null,
   "metadata": {},
   "outputs": [],
   "source": [
    "X_raw, y_raw = gen_supervised_sequence(\n",
    "    prepared_df, LAGS, prepared_df.columns[0], sequential_label=True)"
   ]
  },
  {
   "cell_type": "code",
   "execution_count": null,
   "metadata": {},
   "outputs": [],
   "source": [
    "with tf.Session() as sess:\n",
    "    # Restore variables from disk.\n",
    "    saver.restore(sess, \"../model.ckpt\")\n",
    "    if model.SL:\n",
    "        gen_pred = lambda src: model.outputs.eval(feed_dict={model.X: src})[:,-1]\n",
    "    else:\n",
    "        gen_pred = lambda src: model.outputs.eval(feed_dict={model.X: src})\n",
    "    pred = gen_pred(X_raw)"
   ]
  },
  {
   "cell_type": "code",
   "execution_count": null,
   "metadata": {},
   "outputs": [],
   "source": [
    "if model.SL:\n",
    "    plt.plot(np.squeeze(pred[:,-1]))\n",
    "    plt.plot(np.squeeze(y_raw[:,-1]))\n",
    "else:\n",
    "    plt.plot(np.squeeze(pred))\n",
    "    plt.plot(np.squeeze(y_raw))\n",
    "plt.legend([\"Test Prediction\", \"Test Actual\"])"
   ]
  },
  {
   "cell_type": "code",
   "execution_count": null,
   "metadata": {},
   "outputs": [],
   "source": [
    "print(pred.shape)\n",
    "print(y_raw[:, -1].shape)\n",
    "print(len(y_raw))\n",
    "print(y_raw[:, -1][2])"
   ]
  },
  {
   "cell_type": "code",
   "execution_count": null,
   "metadata": {},
   "outputs": [],
   "source": [
    "# start with initial credibility\n",
    "cred = 1000\n",
    "for i in range(len(y_raw)):\n",
    "    if y_raw[i][0] * pred[i][0] >= 0:\n",
    "        # predicted the same sign\n",
    "        cred += 1\n",
    "    else:\n",
    "        cred -= 1\n",
    "print(cred)"
   ]
  },
  {
   "cell_type": "markdown",
   "metadata": {
    "collapsed": true
   },
   "source": [
    "## Using datapoint one day before"
   ]
  },
  {
   "cell_type": "code",
   "execution_count": null,
   "metadata": {},
   "outputs": [],
   "source": [
    "one_day_before_cred = 1000\n",
    "for i in range(len(y_raw) - 1):\n",
    "    if y_raw[i+1][0] * y_raw[i][0] >= 0:\n",
    "        # predicted the same sign\n",
    "        one_day_before_cred += 1\n",
    "    else:\n",
    "        one_day_before_cred -= 1"
   ]
  },
  {
   "cell_type": "code",
   "execution_count": null,
   "metadata": {
    "collapsed": true
   },
   "outputs": [],
   "source": []
  }
 ],
 "metadata": {
  "kernelspec": {
   "display_name": "Python 3",
   "language": "python",
   "name": "python3"
  },
  "language_info": {
   "codemirror_mode": {
    "name": "ipython",
    "version": 3
   },
   "file_extension": ".py",
   "mimetype": "text/x-python",
   "name": "python",
   "nbconvert_exporter": "python",
   "pygments_lexer": "ipython3",
   "version": "3.6.2"
  }
 },
 "nbformat": 4,
 "nbformat_minor": 2
}
