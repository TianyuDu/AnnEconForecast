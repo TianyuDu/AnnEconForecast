{
 "cells": [
  {
   "cell_type": "code",
   "execution_count": 12,
   "metadata": {},
   "outputs": [],
   "source": [
    "import numpy as np\n",
    "import pandas as pd\n",
    "import tensorflow as tf\n",
    "import sklearn\n",
    "from sklearn.model_selection import train_test_split\n",
    "from sklearn.preprocessing import StandardScaler\n",
    "import matplotlib\n",
    "import matplotlib.pyplot as plt\n",
    "from pprint import pprint"
   ]
  },
  {
   "cell_type": "code",
   "execution_count": 13,
   "metadata": {
    "scrolled": true
   },
   "outputs": [],
   "source": [
    "import constants\n",
    "from core.tools.metrics import *\n",
    "from core.models.stat_models import *\n",
    "from core.models.baseline_rnn import *\n",
    "from core.tools.visualize import *\n",
    "from core.tools.time_series import *\n",
    "from core.tools.data_import import *\n",
    "import core.models.baseline_lstm as baseline_lstm"
   ]
  },
  {
   "cell_type": "code",
   "execution_count": 14,
   "metadata": {},
   "outputs": [
    {
     "name": "stdout",
     "output_type": "stream",
     "text": [
      "{'0': '/Users/tianyudu/Documents/Academics/EconForecasting/AnnEconForecast/data/UNRATE.csv',\n",
      " '1': '/home/ec2-user/AnnEconForecast/data/UNRATE.csv',\n",
      " '2': '/home/ubuntu/AnnEconForecast/data/UNRATE.csv',\n",
      " '3': '/home/ec2-user/AnnEconForecast/data/DEXCAUS.csv'}\n",
      "Select Dataset >>> 0\n"
     ]
    }
   ],
   "source": [
    "# Avaiable datasets, loaded from constants.\n",
    "pprint(constants.DATA_DIR)\n",
    "choice = None\n",
    "while choice is None or choice not in constants.DATA_DIR.keys():\n",
    "    if choice is not None:\n",
    "        print(\"Invalid data location received, try again...\")\n",
    "    choice = input(\"Select Dataset >>> \")\n",
    "FILE_DIR = constants.DATA_DIR[choice]"
   ]
  },
  {
   "cell_type": "code",
   "execution_count": 15,
   "metadata": {},
   "outputs": [
    {
     "name": "stdout",
     "output_type": "stream",
     "text": [
      "Dataset chosen: \n",
      "/Users/tianyudu/Documents/Academics/EconForecasting/AnnEconForecast/data/UNRATE.csv\n"
     ]
    }
   ],
   "source": [
    "print(f\"Dataset chosen: \\n{FILE_DIR}\")"
   ]
  },
  {
   "cell_type": "code",
   "execution_count": 16,
   "metadata": {},
   "outputs": [],
   "source": [
    "# Pre-processing Parameters\n",
    "PERIODS = 1\n",
    "ORDER = 1\n",
    "LAGS = 12\n",
    "TRAIN_RATIO = 0.8"
   ]
  },
  {
   "cell_type": "code",
   "execution_count": 6,
   "metadata": {},
   "outputs": [],
   "source": [
    "# Neural Network Parameters\n",
    "NUM_TIME_STEPS = LAGS\n",
    "# Number of series used to predict. (including concurrent)\n",
    "NUM_INPUTS = 1\n",
    "NUM_OUTPUTS = 1\n",
    "NUM_NEURONS = 64\n",
    "# Number of output series\n",
    "LEARNING_RATE = 0.01\n",
    "EPOCHS = 50\n",
    "# Training Settings\n",
    "REPORT_PERIODS = 1\n",
    "TENSORBOARD_DIR = \"./tensorboard/test/1\""
   ]
  },
  {
   "cell_type": "code",
   "execution_count": null,
   "metadata": {},
   "outputs": [],
   "source": [
    "EXPERIMENT_NAME = \"test1\""
   ]
  },
  {
   "cell_type": "code",
   "execution_count": 7,
   "metadata": {},
   "outputs": [],
   "source": [
    "parameters = {\n",
    "    \"epochs\": 50,\n",
    "    \"num_time_steps\": LAGS,\n",
    "    \"num_inputs\": 1,\n",
    "    \"num_outputs\": 1,\n",
    "    \"num_neurons\": 64,\n",
    "    \"learning_rate\": 0.01,\n",
    "    \"report_periods\": 1,\n",
    "    \"tensorboard_dir\": f\"./tensorboard/{EXPERIMENT_NAME}\",\n",
    "    \"model_path\": f\"./saved_models/{EXPERIMENT_NAME}/my_model\"\n",
    "}"
   ]
  },
  {
   "cell_type": "code",
   "execution_count": 8,
   "metadata": {},
   "outputs": [
    {
     "name": "stdout",
     "output_type": "stream",
     "text": [
      "Dataset loaded.    \n",
      "\tIndex type: datetime64[ns]    \n",
      "\tData type: float64\n",
      "First few rows of dataset loaded:\n",
      "            UNRATE_period1_order1\n",
      "DATE                             \n",
      "1948-02-01                    0.4\n",
      "1948-03-01                    0.2\n",
      "1948-04-01                   -0.1\n",
      "1948-05-01                   -0.4\n",
      "1948-06-01                    0.1\n"
     ]
    }
   ],
   "source": [
    "prepared_df = baseline_lstm.prepare_dataset(\n",
    "    file_dir=FILE_DIR,\n",
    "    periods=PERIODS,\n",
    "    order=ORDER\n",
    ")"
   ]
  },
  {
   "cell_type": "code",
   "execution_count": 9,
   "metadata": {},
   "outputs": [
    {
     "name": "stdout",
     "output_type": "stream",
     "text": [
      "Total 836 observations generated.\n",
      "Note: shape format: (num_obs, time_steps, num_inputs/outputs)\n",
      "X shape = (836, 12, 1), y shape = (836, 1, 1)\n",
      "Training and testing set generated,        \n",
      "X_train shape: (601, 12, 1)        \n",
      "y_train shape: (601, 1)        \n",
      "X_test shape: (168, 12, 1)        \n",
      "y_test shape: (168, 1)        \n",
      "X_validation shape: (67, 12, 1)        \n",
      "y_validation shape: (67, 1)\n"
     ]
    }
   ],
   "source": [
    "# Normalize data\n",
    "(X_train, X_val, X_test,\n",
    " y_train, y_val, y_test) = baseline_lstm.normalize(\n",
    "    df=prepared_df,\n",
    "    train_ratio=TRAIN_RATIO,\n",
    "    lags=LAGS\n",
    ")"
   ]
  },
  {
   "cell_type": "code",
   "execution_count": 10,
   "metadata": {},
   "outputs": [],
   "source": [
    "data_collection = {\n",
    "    \"X_train\": X_train,\n",
    "    \"X_val\": X_val,\n",
    "    \"X_test\": X_test,\n",
    "    \"y_train\": y_train,\n",
    "    \"y_val\": y_val,\n",
    "    \"y_test\": y_test\n",
    "}"
   ]
  },
  {
   "cell_type": "code",
   "execution_count": 11,
   "metadata": {},
   "outputs": [
    {
     "name": "stdout",
     "output_type": "stream",
     "text": [
      "Resetting Tensorflow defalut graph...\n",
      "Note: no gradient clipping is applied.            \n",
      "If possible gradient exploding detected (e.g. nan loss), try use clip_grad.\n",
      "\n",
      "Iteration [0], Training MSE 8.7457380; Validation MSE 2.5190842\n",
      "\n",
      "Iteration [1], Training MSE 1.9148051; Validation MSE 0.5949066\n",
      "\n",
      "Iteration [2], Training MSE 2.3926480; Validation MSE 0.6389867\n",
      "\n",
      "Iteration [3], Training MSE 2.5115039; Validation MSE 0.7575181\n",
      "\n",
      "Iteration [4], Training MSE 2.0493028; Validation MSE 0.8778768\n",
      "\n",
      "Iteration [5], Training MSE 1.5330697; Validation MSE 0.8028672\n",
      "\n",
      "Iteration [6], Training MSE 1.1828499; Validation MSE 0.5913550\n",
      "\n",
      "Iteration [7], Training MSE 1.0797830; Validation MSE 0.4253694\n",
      "\n",
      "Iteration [8], Training MSE 1.1986334; Validation MSE 0.4244957\n",
      "\n",
      "Iteration [9], Training MSE 1.3692635; Validation MSE 0.5304330\n",
      "\n",
      "Iteration [10], Training MSE 1.3832579; Validation MSE 0.5723029\n",
      "\n",
      "Iteration [11], Training MSE 1.2277812; Validation MSE 0.4987364\n",
      "\n",
      "Iteration [12], Training MSE 1.0432258; Validation MSE 0.3935421\n",
      "\n",
      "Iteration [13], Training MSE 0.9425911; Validation MSE 0.3380537\n",
      "\n",
      "Iteration [14], Training MSE 0.9433917; Validation MSE 0.3462263\n",
      "\n",
      "Iteration [15], Training MSE 0.9960802; Validation MSE 0.3814972\n",
      "\n",
      "Iteration [16], Training MSE 1.0387878; Validation MSE 0.4005884\n",
      "\n",
      "Iteration [17], Training MSE 1.0396188; Validation MSE 0.3871337\n",
      "\n",
      "Iteration [18], Training MSE 1.0060349; Validation MSE 0.3555830\n",
      "\n",
      "Iteration [19], Training MSE 0.9655873; Validation MSE 0.3314466\n",
      "\n",
      "Iteration [20], Training MSE 0.9403802; Validation MSE 0.3292480\n",
      "\n",
      "Iteration [21], Training MSE 0.9338810; Validation MSE 0.3440622\n",
      "\n",
      "Iteration [22], Training MSE 0.9350130; Validation MSE 0.3594164\n",
      "\n",
      "Iteration [23], Training MSE 0.9315464; Validation MSE 0.3622721\n",
      "\n",
      "Iteration [24], Training MSE 0.9198641; Validation MSE 0.3517865\n",
      "\n",
      "Iteration [25], Training MSE 0.9046296; Validation MSE 0.3364070\n",
      "\n",
      "Iteration [26], Training MSE 0.8921836; Validation MSE 0.3249547\n",
      "\n",
      "Iteration [27], Training MSE 0.8851578; Validation MSE 0.3203566\n",
      "\n",
      "Iteration [28], Training MSE 0.8819952; Validation MSE 0.3197162\n",
      "\n",
      "Iteration [29], Training MSE 0.8798757; Validation MSE 0.3185453\n",
      "\n",
      "Iteration [30], Training MSE 0.8774725; Validation MSE 0.3147860\n",
      "\n",
      "Iteration [31], Training MSE 0.8753269; Validation MSE 0.3097898\n",
      "\n",
      "Iteration [32], Training MSE 0.8742536; Validation MSE 0.3063863\n",
      "\n",
      "Iteration [33], Training MSE 0.8737028; Validation MSE 0.3061800\n",
      "\n",
      "Iteration [34], Training MSE 0.8716800; Validation MSE 0.3082869\n",
      "\n",
      "Iteration [35], Training MSE 0.8663151; Validation MSE 0.3102855\n",
      "\n",
      "Iteration [36], Training MSE 0.8577207; Validation MSE 0.3103392\n",
      "\n",
      "Iteration [37], Training MSE 0.8484344; Validation MSE 0.3085954\n",
      "\n",
      "Iteration [38], Training MSE 0.8418879; Validation MSE 0.3067639\n",
      "\n",
      "Iteration [39], Training MSE 0.8400360; Validation MSE 0.3064561\n",
      "\n",
      "Iteration [40], Training MSE 0.8420165; Validation MSE 0.3078411\n",
      "\n",
      "Iteration [41], Training MSE 0.8448607; Validation MSE 0.3096814\n",
      "\n",
      "Iteration [42], Training MSE 0.8456351; Validation MSE 0.3105160\n",
      "\n",
      "Iteration [43], Training MSE 0.8433238; Validation MSE 0.3098461\n",
      "\n",
      "Iteration [44], Training MSE 0.8391159; Validation MSE 0.3083497\n",
      "\n",
      "Iteration [45], Training MSE 0.8351234; Validation MSE 0.3070999\n",
      "\n",
      "Iteration [46], Training MSE 0.8327231; Validation MSE 0.3065957\n",
      "\n",
      "Iteration [47], Training MSE 0.8317959; Validation MSE 0.3064544\n",
      "\n",
      "Iteration [48], Training MSE 0.8312350; Validation MSE 0.3059369\n",
      "\n",
      "Iteration [49], Training MSE 0.8300567; Validation MSE 0.3047273\n",
      "Saving the trained model...\n",
      "Time taken for [50] epochs:  0:00:05.764514\n",
      "Loss Summary:\n",
      "\tmae=0.5539829134941101\n",
      "\tmse=0.48085516691207886\n",
      "\trmse=0.6934372186660767\n",
      "\tmape=4.574934959411621\n"
     ]
    },
    {
     "data": {
      "text/plain": [
       "{'mae': 0.5539829, 'mse': 0.48085517, 'rmse': 0.6934372, 'mape': 4.574935}"
      ]
     },
     "execution_count": 11,
     "metadata": {},
     "output_type": "execute_result"
    }
   ],
   "source": [
    "# Run the model\n",
    "baseline_lstm.exec_core(\n",
    "    parameters=parameters,\n",
    "    data_collection=data_collection,\n",
    "    clip_grad=None\n",
    ")"
   ]
  },
  {
   "cell_type": "code",
   "execution_count": null,
   "metadata": {},
   "outputs": [],
   "source": []
  }
 ],
 "metadata": {
  "kernelspec": {
   "display_name": "Python 3",
   "language": "python",
   "name": "python3"
  },
  "language_info": {
   "codemirror_mode": {
    "name": "ipython",
    "version": 3
   },
   "file_extension": ".py",
   "mimetype": "text/x-python",
   "name": "python",
   "nbconvert_exporter": "python",
   "pygments_lexer": "ipython3",
   "version": "3.6.5"
  }
 },
 "nbformat": 4,
 "nbformat_minor": 2
}
