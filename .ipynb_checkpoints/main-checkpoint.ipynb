{
 "cells": [
  {
   "cell_type": "code",
   "execution_count": 1,
   "metadata": {},
   "outputs": [
    {
     "name": "stderr",
     "output_type": "stream",
     "text": [
      "/Library/Frameworks/Python.framework/Versions/3.6/lib/python3.6/site-packages/requests/__init__.py:91: RequestsDependencyWarning: urllib3 (1.24.1) or chardet (3.0.4) doesn't match a supported version!\n",
      "  RequestsDependencyWarning)\n"
     ]
    }
   ],
   "source": [
    "import numpy as np\n",
    "import pandas as pd\n",
    "import tensorflow as tf\n",
    "import sklearn\n",
    "from sklearn.model_selection import train_test_split\n",
    "from sklearn.preprocessing import StandardScaler\n",
    "import matplotlib\n",
    "import matplotlib.pyplot as plt\n",
    "from pprint import pprint"
   ]
  },
  {
   "cell_type": "code",
   "execution_count": 2,
   "metadata": {
    "scrolled": true
   },
   "outputs": [],
   "source": [
    "import constants\n",
    "from core.tools.metrics import *\n",
    "from core.models.stat_models import *\n",
    "from core.models.baseline_rnn import *\n",
    "from core.tools.visualize import *\n",
    "from core.tools.time_series import *\n",
    "from core.tools.data_import import *\n",
    "import core.models.baseline_lstm as baseline_lstm"
   ]
  },
  {
   "cell_type": "code",
   "execution_count": 3,
   "metadata": {},
   "outputs": [
    {
     "name": "stdout",
     "output_type": "stream",
     "text": [
      "{'0': '/Users/tianyudu/Documents/Academics/EconForecasting/AnnEconForecast/data/UNRATE.csv',\n",
      " '1': '/home/ec2-user/AnnEconForecast/data/UNRATE.csv',\n",
      " '2': '/home/ubuntu/AnnEconForecast/data/UNRATE.csv',\n",
      " '3': '/home/ec2-user/AnnEconForecast/data/DEXCAUS.csv'}\n",
      "Select Dataset >>> 0\n"
     ]
    }
   ],
   "source": [
    "# Avaiable datasets, loaded from constants.\n",
    "pprint(constants.DATA_DIR)\n",
    "choice = None\n",
    "while choice is None or choice not in constants.DATA_DIR.keys():\n",
    "    if choice is not None:\n",
    "        print(\"Invalid data location received, try again...\")\n",
    "    choice = input(\"Select Dataset >>> \")\n",
    "FILE_DIR = constants.DATA_DIR[choice]"
   ]
  },
  {
   "cell_type": "code",
   "execution_count": 4,
   "metadata": {},
   "outputs": [
    {
     "name": "stdout",
     "output_type": "stream",
     "text": [
      "Dataset chosen: \n",
      "/Users/tianyudu/Documents/Academics/EconForecasting/AnnEconForecast/data/UNRATE.csv\n"
     ]
    }
   ],
   "source": [
    "print(f\"Dataset chosen: \\n{FILE_DIR}\")"
   ]
  },
  {
   "cell_type": "code",
   "execution_count": 5,
   "metadata": {},
   "outputs": [],
   "source": [
    "# Pre-processing Parameters\n",
    "PERIODS = 1\n",
    "ORDER = 1\n",
    "LAGS = 12\n",
    "TRAIN_RATIO = 0.8"
   ]
  },
  {
   "cell_type": "code",
   "execution_count": 6,
   "metadata": {},
   "outputs": [],
   "source": [
    "# Neural Network Parameters\n",
    "NUM_TIME_STEPS = LAGS\n",
    "# Number of series used to predict. (including concurrent)\n",
    "NUM_INPUTS = 1\n",
    "NUM_OUTPUTS = 1\n",
    "NUM_NEURONS = 64\n",
    "# Number of output series\n",
    "LEARNING_RATE = 0.01\n",
    "EPOCHS = 50\n",
    "# Training Settings\n",
    "REPORT_PERIODS = 1\n",
    "TENSORBOARD_DIR = \"./tensorboard/test/1\""
   ]
  },
  {
   "cell_type": "code",
   "execution_count": 12,
   "metadata": {},
   "outputs": [],
   "source": [
    "parameters = {\n",
    "    \"epochs\": 50,\n",
    "    \"num_time_steps\": LAGS,\n",
    "    \"num_inputs\": 1,\n",
    "    \"num_outputs\": 1,\n",
    "    \"num_neurons\": 64,\n",
    "    \"learning_rate\": 0.01,\n",
    "    \"report_periods\": 1,\n",
    "    \"tensorboard_dir\": \"./tensorboard/test/1\",\n",
    "    \"model_path\": \"./saved_models/my_model\"\n",
    "}"
   ]
  },
  {
   "cell_type": "code",
   "execution_count": 13,
   "metadata": {},
   "outputs": [
    {
     "name": "stdout",
     "output_type": "stream",
     "text": [
      "Dataset loaded.    \n",
      "\tIndex type: datetime64[ns]    \n",
      "\tData type: float64\n",
      "First few rows of dataset loaded:\n",
      "            UNRATE_period1_order1\n",
      "DATE                             \n",
      "1948-02-01                    0.4\n",
      "1948-03-01                    0.2\n",
      "1948-04-01                   -0.1\n",
      "1948-05-01                   -0.4\n",
      "1948-06-01                    0.1\n"
     ]
    }
   ],
   "source": [
    "prepared_df = baseline_lstm.prepare_dataset(\n",
    "    file_dir=FILE_DIR,\n",
    "    periods=PERIODS,\n",
    "    order=ORDER\n",
    ")"
   ]
  },
  {
   "cell_type": "code",
   "execution_count": 14,
   "metadata": {},
   "outputs": [
    {
     "name": "stdout",
     "output_type": "stream",
     "text": [
      "Total 836 observations generated.\n",
      "Note: shape format: (num_obs, time_steps, num_inputs/outputs)\n",
      "X shape = (836, 12, 1), y shape = (836, 1, 1)\n",
      "Training and testing set generated,        \n",
      "X_train shape: (601, 12, 1)        \n",
      "y_train shape: (601, 1)        \n",
      "X_test shape: (168, 12, 1)        \n",
      "y_test shape: (168, 1)        \n",
      "X_validation shape: (67, 12, 1)        \n",
      "y_validation shape: (67, 1)\n"
     ]
    }
   ],
   "source": [
    "# Normalize data\n",
    "(X_train, X_val, X_test,\n",
    " y_train, y_val, y_test) = baseline_lstm.normalize(\n",
    "    df=prepared_df,\n",
    "    train_ratio=TRAIN_RATIO,\n",
    "    lags=LAGS\n",
    ")"
   ]
  },
  {
   "cell_type": "code",
   "execution_count": 15,
   "metadata": {},
   "outputs": [],
   "source": [
    "data_collection = {\n",
    "    \"X_train\": X_train,\n",
    "    \"X_val\": X_val,\n",
    "    \"X_test\": X_test,\n",
    "    \"y_train\": y_train,\n",
    "    \"y_val\": y_val,\n",
    "    \"y_test\": y_test\n",
    "}"
   ]
  },
  {
   "cell_type": "code",
   "execution_count": 16,
   "metadata": {},
   "outputs": [
    {
     "name": "stdout",
     "output_type": "stream",
     "text": [
      "Resetting Tensorflow defalut graph...\n",
      "Note: no gradient clipping is applied.            \n",
      "If possible gradient exploding detected (e.g. nan loss), try use clip_grad.\n",
      "\n",
      "Iteration [0], Training MSE 6.4230981; Validation MSE 2.1819363\n",
      "\n",
      "Iteration [1], Training MSE 2.0675678; Validation MSE 0.6930695\n",
      "\n",
      "Iteration [2], Training MSE 1.1798875; Validation MSE 0.4186676\n",
      "\n",
      "Iteration [3], Training MSE 1.7171856; Validation MSE 0.5228349\n",
      "\n",
      "Iteration [4], Training MSE 1.8130844; Validation MSE 0.5204770\n",
      "\n",
      "Iteration [5], Training MSE 1.4692353; Validation MSE 0.4463324\n",
      "\n",
      "Iteration [6], Training MSE 1.1333534; Validation MSE 0.3931374\n",
      "\n",
      "Iteration [7], Training MSE 1.0032420; Validation MSE 0.3805827\n",
      "\n",
      "Iteration [8], Training MSE 1.0441726; Validation MSE 0.3911622\n",
      "\n",
      "Iteration [9], Training MSE 1.1305251; Validation MSE 0.4046702\n",
      "\n",
      "Iteration [10], Training MSE 1.1627989; Validation MSE 0.4094870\n",
      "\n",
      "Iteration [11], Training MSE 1.1213968; Validation MSE 0.4022621\n",
      "\n",
      "Iteration [12], Training MSE 1.0413802; Validation MSE 0.3841227\n",
      "\n",
      "Iteration [13], Training MSE 0.9650143; Validation MSE 0.3594239\n",
      "\n",
      "Iteration [14], Training MSE 0.9170327; Validation MSE 0.3351033\n",
      "\n",
      "Iteration [15], Training MSE 0.9022716; Validation MSE 0.3179723\n",
      "\n",
      "Iteration [16], Training MSE 0.9121290; Validation MSE 0.3114592\n",
      "\n",
      "Iteration [17], Training MSE 0.9319611; Validation MSE 0.3141052\n",
      "\n",
      "Iteration [18], Training MSE 0.9473505; Validation MSE 0.3206846\n",
      "\n",
      "Iteration [19], Training MSE 0.9489293; Validation MSE 0.3253042\n",
      "\n",
      "Iteration [20], Training MSE 0.9348994; Validation MSE 0.3246246\n",
      "\n",
      "Iteration [21], Training MSE 0.9103751; Validation MSE 0.3192187\n",
      "\n",
      "Iteration [22], Training MSE 0.8839855; Validation MSE 0.3124380\n",
      "\n",
      "Iteration [23], Training MSE 0.8636107; Validation MSE 0.3079148\n",
      "\n",
      "Iteration [24], Training MSE 0.8533449; Validation MSE 0.3074952\n",
      "\n",
      "Iteration [25], Training MSE 0.8527578; Validation MSE 0.3106925\n",
      "\n",
      "Iteration [26], Training MSE 0.8581726; Validation MSE 0.3155403\n",
      "\n",
      "Iteration [27], Training MSE 0.8648387; Validation MSE 0.3199367\n",
      "\n",
      "Iteration [28], Training MSE 0.8688387; Validation MSE 0.3225760\n",
      "\n",
      "Iteration [29], Training MSE 0.8681007; Validation MSE 0.3231148\n",
      "\n",
      "Iteration [30], Training MSE 0.8625156; Validation MSE 0.3218179\n",
      "\n",
      "Iteration [31], Training MSE 0.8535056; Validation MSE 0.3191608\n",
      "\n",
      "Iteration [32], Training MSE 0.8433713; Validation MSE 0.3156705\n",
      "\n",
      "Iteration [33], Training MSE 0.8345539; Validation MSE 0.3119371\n",
      "\n",
      "Iteration [34], Training MSE 0.8288789; Validation MSE 0.3085763\n",
      "\n",
      "Iteration [35], Training MSE 0.8269612; Validation MSE 0.3060595\n",
      "\n",
      "Iteration [36], Training MSE 0.8280340; Validation MSE 0.3045369\n",
      "\n",
      "Iteration [37], Training MSE 0.8303399; Validation MSE 0.3038252\n",
      "\n",
      "Iteration [38], Training MSE 0.8319320; Validation MSE 0.3035932\n",
      "\n",
      "Iteration [39], Training MSE 0.8314908; Validation MSE 0.3036001\n",
      "\n",
      "Iteration [40], Training MSE 0.8287562; Validation MSE 0.3038055\n",
      "\n",
      "Iteration [41], Training MSE 0.8244203; Validation MSE 0.3042915\n",
      "\n",
      "Iteration [42], Training MSE 0.8196427; Validation MSE 0.3050987\n",
      "\n",
      "Iteration [43], Training MSE 0.8155105; Validation MSE 0.3061350\n",
      "\n",
      "Iteration [44], Training MSE 0.8126909; Validation MSE 0.3072228\n",
      "\n",
      "Iteration [45], Training MSE 0.8113307; Validation MSE 0.3082115\n",
      "\n",
      "Iteration [46], Training MSE 0.8111174; Validation MSE 0.3090335\n",
      "\n",
      "Iteration [47], Training MSE 0.8114222; Validation MSE 0.3096582\n",
      "\n",
      "Iteration [48], Training MSE 0.8115026; Validation MSE 0.3100202\n",
      "\n",
      "Iteration [49], Training MSE 0.8107611; Validation MSE 0.3100178\n",
      "Saving the trained model...\n"
     ]
    },
    {
     "ename": "TypeError",
     "evalue": "save() missing 1 required positional argument: 'save_path'",
     "output_type": "error",
     "traceback": [
      "\u001b[0;31m---------------------------------------------------------------------------\u001b[0m",
      "\u001b[0;31mTypeError\u001b[0m                                 Traceback (most recent call last)",
      "\u001b[0;32m<ipython-input-16-0541974e58f3>\u001b[0m in \u001b[0;36m<module>\u001b[0;34m()\u001b[0m\n\u001b[1;32m      3\u001b[0m     \u001b[0mparameters\u001b[0m\u001b[0;34m=\u001b[0m\u001b[0mparameters\u001b[0m\u001b[0;34m,\u001b[0m\u001b[0;34m\u001b[0m\u001b[0m\n\u001b[1;32m      4\u001b[0m     \u001b[0mdata_collection\u001b[0m\u001b[0;34m=\u001b[0m\u001b[0mdata_collection\u001b[0m\u001b[0;34m,\u001b[0m\u001b[0;34m\u001b[0m\u001b[0m\n\u001b[0;32m----> 5\u001b[0;31m     \u001b[0mclip_grad\u001b[0m\u001b[0;34m=\u001b[0m\u001b[0;32mNone\u001b[0m\u001b[0;34m\u001b[0m\u001b[0m\n\u001b[0m\u001b[1;32m      6\u001b[0m )\n",
      "\u001b[0;32m~/Documents/Academics/EconForecasting/AnnEconForecast/core/models/baseline_lstm.py\u001b[0m in \u001b[0;36mexec_core\u001b[0;34m(parameters, data_collection, clip_grad)\u001b[0m\n\u001b[1;32m    201\u001b[0m         \u001b[0;31m# p_val = pred.eval(feed_dict={X: X_val})\u001b[0m\u001b[0;34m\u001b[0m\u001b[0;34m\u001b[0m\u001b[0m\n\u001b[1;32m    202\u001b[0m         \u001b[0mprint\u001b[0m\u001b[0;34m(\u001b[0m\u001b[0;34m\"Saving the trained model...\"\u001b[0m\u001b[0;34m)\u001b[0m\u001b[0;34m\u001b[0m\u001b[0m\n\u001b[0;32m--> 203\u001b[0;31m         \u001b[0msaver\u001b[0m\u001b[0;34m.\u001b[0m\u001b[0msave\u001b[0m\u001b[0;34m(\u001b[0m\u001b[0msess\u001b[0m\u001b[0;34m,\u001b[0m \u001b[0mmodel_path\u001b[0m\u001b[0;34m)\u001b[0m\u001b[0;34m\u001b[0m\u001b[0m\n\u001b[0m\u001b[1;32m    204\u001b[0m     \u001b[0mprint\u001b[0m\u001b[0;34m(\u001b[0m\u001b[0;34mf\"Time taken for [{epochs}] epochs: \"\u001b[0m\u001b[0;34m,\u001b[0m \u001b[0mdatetime\u001b[0m\u001b[0;34m.\u001b[0m\u001b[0mnow\u001b[0m\u001b[0;34m(\u001b[0m\u001b[0;34m)\u001b[0m\u001b[0;34m-\u001b[0m\u001b[0mstart\u001b[0m\u001b[0;34m)\u001b[0m\u001b[0;34m\u001b[0m\u001b[0m\n\u001b[1;32m    205\u001b[0m     metric_test = merged_scores(\n",
      "\u001b[0;31mTypeError\u001b[0m: save() missing 1 required positional argument: 'save_path'"
     ]
    }
   ],
   "source": [
    "# Run the model\n",
    "baseline_lstm.exec_core(\n",
    "    parameters=parameters,\n",
    "    data_collection=data_collection,\n",
    "    clip_grad=None\n",
    ")"
   ]
  },
  {
   "cell_type": "code",
   "execution_count": null,
   "metadata": {},
   "outputs": [],
   "source": []
  }
 ],
 "metadata": {
  "kernelspec": {
   "display_name": "Python 3",
   "language": "python",
   "name": "python3"
  },
  "language_info": {
   "codemirror_mode": {
    "name": "ipython",
    "version": 3
   },
   "file_extension": ".py",
   "mimetype": "text/x-python",
   "name": "python",
   "nbconvert_exporter": "python",
   "pygments_lexer": "ipython3",
   "version": "3.6.5"
  }
 },
 "nbformat": 4,
 "nbformat_minor": 2
}
