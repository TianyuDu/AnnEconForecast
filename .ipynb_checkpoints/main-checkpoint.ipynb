{
 "cells": [
  {
   "cell_type": "code",
   "execution_count": 1,
   "metadata": {},
   "outputs": [
    {
     "name": "stderr",
     "output_type": "stream",
     "text": [
      "/Library/Frameworks/Python.framework/Versions/3.6/lib/python3.6/site-packages/requests/__init__.py:91: RequestsDependencyWarning: urllib3 (1.24.1) or chardet (3.0.4) doesn't match a supported version!\n",
      "  RequestsDependencyWarning)\n"
     ]
    }
   ],
   "source": [
    "import numpy as np\n",
    "import pandas as pd\n",
    "import tensorflow as tf\n",
    "import sklearn\n",
    "from sklearn.model_selection import train_test_split\n",
    "from sklearn.preprocessing import StandardScaler\n",
    "import matplotlib\n",
    "import matplotlib.pyplot as plt\n",
    "from pprint import pprint"
   ]
  },
  {
   "cell_type": "code",
   "execution_count": 2,
   "metadata": {
    "scrolled": true
   },
   "outputs": [],
   "source": [
    "import constants\n",
    "from core.tools.metrics import *\n",
    "from core.models.stat_models import *\n",
    "from core.models.baseline_rnn import *\n",
    "from core.tools.visualize import *\n",
    "from core.tools.time_series import *\n",
    "from core.tools.data_import import *\n",
    "import core.models.baseline_lstm as baseline_lstm"
   ]
  },
  {
   "cell_type": "code",
   "execution_count": 3,
   "metadata": {},
   "outputs": [
    {
     "name": "stdout",
     "output_type": "stream",
     "text": [
      "{'0': '/Users/tianyudu/Documents/Academics/EconForecasting/AnnEconForecast/data/UNRATE.csv',\n",
      " '1': '/home/ec2-user/AnnEconForecast/data/UNRATE.csv',\n",
      " '2': '/home/ubuntu/AnnEconForecast/data/UNRATE.csv',\n",
      " '3': '/home/ec2-user/AnnEconForecast/data/DEXCAUS.csv'}\n",
      "Select Dataset >>> 0\n"
     ]
    }
   ],
   "source": [
    "# Avaiable datasets, loaded from constants.\n",
    "pprint(constants.DATA_DIR)\n",
    "choice = None\n",
    "while choice is None or choice not in constants.DATA_DIR.keys():\n",
    "    if choice is not None:\n",
    "        print(\"Invalid data location received, try again...\")\n",
    "    choice = input(\"Select Dataset >>> \")\n",
    "FILE_DIR = constants.DATA_DIR[choice]"
   ]
  },
  {
   "cell_type": "code",
   "execution_count": 4,
   "metadata": {},
   "outputs": [
    {
     "name": "stdout",
     "output_type": "stream",
     "text": [
      "Dataset chosen: \n",
      "/Users/tianyudu/Documents/Academics/EconForecasting/AnnEconForecast/data/UNRATE.csv\n"
     ]
    }
   ],
   "source": [
    "print(f\"Dataset chosen: \\n{FILE_DIR}\")"
   ]
  },
  {
   "cell_type": "code",
   "execution_count": 5,
   "metadata": {},
   "outputs": [],
   "source": [
    "# Pre-processing Parameters\n",
    "PERIODS = 1\n",
    "ORDER = 1\n",
    "LAGS = 12\n",
    "TRAIN_RATIO = 0.8"
   ]
  },
  {
   "cell_type": "code",
   "execution_count": 6,
   "metadata": {},
   "outputs": [],
   "source": [
    "# Neural Network Parameters\n",
    "NUM_TIME_STEPS = LAGS\n",
    "# Number of series used to predict. (including concurrent)\n",
    "NUM_INPUTS = 1\n",
    "NUM_OUTPUTS = 1\n",
    "NUM_NEURONS = 64\n",
    "# Number of output series\n",
    "LEARNING_RATE = 0.01\n",
    "EPOCHS = 50\n",
    "# Training Settings\n",
    "REPORT_PERIODS = 1\n",
    "TENSORBOARD_DIR = \"./tensorboard/test/1\""
   ]
  },
  {
   "cell_type": "code",
   "execution_count": 12,
   "metadata": {},
   "outputs": [
    {
     "data": {
      "text/plain": [
       "8"
      ]
     },
     "execution_count": 12,
     "metadata": {},
     "output_type": "execute_result"
    }
   ],
   "source": [
    "parameters = {\n",
    "    \"epochs\": 50,\n",
    "    \"num_time_steps\": LAGS,\n",
    "    \"num_inputs\": 1,\n",
    "    \"num_outputs\": 1,\n",
    "    \"num_neurons\": 64,\n",
    "    \"learning_rate\": 0.01,\n",
    "    \"report_periods\": 1,\n",
    "    \"tensorboard_dir\": \"./tensorboard/test/1\"\n",
    "}"
   ]
  },
  {
   "cell_type": "code",
   "execution_count": 7,
   "metadata": {},
   "outputs": [
    {
     "name": "stdout",
     "output_type": "stream",
     "text": [
      "Dataset loaded.    \n",
      "\tIndex type: datetime64[ns]    \n",
      "\tData type: float64\n",
      "First few rows of dataset loaded:\n",
      "            UNRATE_period1_order1\n",
      "DATE                             \n",
      "1948-02-01                    0.4\n",
      "1948-03-01                    0.2\n",
      "1948-04-01                   -0.1\n",
      "1948-05-01                   -0.4\n",
      "1948-06-01                    0.1\n"
     ]
    }
   ],
   "source": [
    "prepared_df = baseline_lstm.prepare_dataset(\n",
    "    file_dir=FILE_DIR,\n",
    "    periods=PERIODS,\n",
    "    order=ORDER\n",
    ")"
   ]
  },
  {
   "cell_type": "code",
   "execution_count": 8,
   "metadata": {},
   "outputs": [
    {
     "name": "stdout",
     "output_type": "stream",
     "text": [
      "Total 836 observations generated.\n",
      "Note: shape format: (num_obs, time_steps, num_inputs/outputs)\n",
      "X shape = (836, 12, 1), y shape = (836, 1, 1)\n",
      "Training and testing set generated,        \n",
      "X_train shape: (601, 12, 1)        \n",
      "y_train shape: (601, 1)        \n",
      "X_test shape: (168, 12, 1)        \n",
      "y_test shape: (168, 1)        \n",
      "X_validation shape: (67, 12, 1)        \n",
      "y_validation shape: (67, 1)\n"
     ]
    }
   ],
   "source": [
    "# Normalize data\n",
    "(X_train, X_val, X_test,\n",
    " y_train, y_val, y_test) = baseline_lstm.normalize(\n",
    "    df=prepared_df,\n",
    "    train_ratio=TRAIN_RATIO,\n",
    "    lags=LAGS\n",
    ")"
   ]
  },
  {
   "cell_type": "code",
   "execution_count": 9,
   "metadata": {},
   "outputs": [],
   "source": [
    "data_collection = {\n",
    "    \"X_train\": X_train,\n",
    "    \"X_val\": X_val,\n",
    "    \"X_test\": X_test,\n",
    "    \"y_train\": y_train,\n",
    "    \"y_val\": y_val,\n",
    "    \"y_test\": y_test\n",
    "}"
   ]
  },
  {
   "cell_type": "code",
   "execution_count": 10,
   "metadata": {},
   "outputs": [
    {
     "name": "stdout",
     "output_type": "stream",
     "text": [
      "Resetting Tensorflow defalut graph...\n",
      "Note: no gradient clipping is applied.            \n",
      "If possible gradient exploding detected (e.g. nan loss), try use clip_grad.\n",
      "\n",
      "Iteration [0], Training MSE 3.3688972; Validation MSE 1.3199933\n",
      "\n",
      "Iteration [1], Training MSE 3.0712655; Validation MSE 0.8637946\n",
      "\n",
      "Iteration [2], Training MSE 1.9280287; Validation MSE 0.5594504\n",
      "\n",
      "Iteration [3], Training MSE 1.1122528; Validation MSE 0.4136369\n",
      "\n",
      "Iteration [4], Training MSE 1.2073007; Validation MSE 0.6260026\n",
      "\n",
      "Iteration [5], Training MSE 1.3842461; Validation MSE 0.7193491\n",
      "\n",
      "Iteration [6], Training MSE 1.3110825; Validation MSE 0.5857255\n",
      "\n",
      "Iteration [7], Training MSE 1.1198708; Validation MSE 0.4017738\n",
      "\n",
      "Iteration [8], Training MSE 0.9975752; Validation MSE 0.3262978\n",
      "\n",
      "Iteration [9], Training MSE 0.9960107; Validation MSE 0.3718212\n",
      "\n",
      "Iteration [10], Training MSE 1.0303591; Validation MSE 0.4234388\n",
      "\n",
      "Iteration [11], Training MSE 1.0297691; Validation MSE 0.4099090\n",
      "\n",
      "Iteration [12], Training MSE 1.0083833; Validation MSE 0.3699135\n",
      "\n",
      "Iteration [13], Training MSE 0.9946991; Validation MSE 0.3532910\n",
      "\n",
      "Iteration [14], Training MSE 0.9857670; Validation MSE 0.3610629\n",
      "\n",
      "Iteration [15], Training MSE 0.9663547; Validation MSE 0.3675151\n",
      "\n",
      "Iteration [16], Training MSE 0.9358939; Validation MSE 0.3573422\n",
      "\n",
      "Iteration [17], Training MSE 0.9092986; Validation MSE 0.3358967\n",
      "\n",
      "Iteration [18], Training MSE 0.9013137; Validation MSE 0.3179002\n",
      "\n",
      "Iteration [19], Training MSE 0.9128423; Validation MSE 0.3127725\n",
      "\n",
      "Iteration [20], Training MSE 0.9292073; Validation MSE 0.3176870\n",
      "\n",
      "Iteration [21], Training MSE 0.9322343; Validation MSE 0.3223408\n",
      "\n",
      "Iteration [22], Training MSE 0.9161103; Validation MSE 0.3201439\n",
      "\n",
      "Iteration [23], Training MSE 0.8907456; Validation MSE 0.3135384\n",
      "\n",
      "Iteration [24], Training MSE 0.8708884; Validation MSE 0.3091933\n",
      "\n",
      "Iteration [25], Training MSE 0.8643401; Validation MSE 0.3108247\n",
      "\n",
      "Iteration [26], Training MSE 0.8688050; Validation MSE 0.3168150\n",
      "\n",
      "Iteration [27], Training MSE 0.8762563; Validation MSE 0.3226838\n",
      "\n",
      "Iteration [28], Training MSE 0.8793110; Validation MSE 0.3248639\n",
      "\n",
      "Iteration [29], Training MSE 0.8752820; Validation MSE 0.3228124\n",
      "\n",
      "Iteration [30], Training MSE 0.8663841; Validation MSE 0.3185630\n",
      "\n",
      "Iteration [31], Training MSE 0.8570666; Validation MSE 0.3146836\n",
      "\n",
      "Iteration [32], Training MSE 0.8507596; Validation MSE 0.3123837\n",
      "\n",
      "Iteration [33], Training MSE 0.8481132; Validation MSE 0.3110742\n",
      "\n",
      "Iteration [34], Training MSE 0.8474981; Validation MSE 0.3094739\n",
      "\n",
      "Iteration [35], Training MSE 0.8468918; Validation MSE 0.3071224\n",
      "\n",
      "Iteration [36], Training MSE 0.8453895; Validation MSE 0.3048813\n",
      "\n",
      "Iteration [37], Training MSE 0.8432524; Validation MSE 0.3040461\n",
      "\n",
      "Iteration [38], Training MSE 0.8409627; Validation MSE 0.3050592\n",
      "\n",
      "Iteration [39], Training MSE 0.8385257; Validation MSE 0.3070755\n",
      "\n",
      "Iteration [40], Training MSE 0.8356401; Validation MSE 0.3086702\n",
      "\n",
      "Iteration [41], Training MSE 0.8323278; Validation MSE 0.3089483\n",
      "\n",
      "Iteration [42], Training MSE 0.8292276; Validation MSE 0.3081111\n",
      "\n",
      "Iteration [43], Training MSE 0.8271899; Validation MSE 0.3071000\n",
      "\n",
      "Iteration [44], Training MSE 0.8265056; Validation MSE 0.3067005\n",
      "\n",
      "Iteration [45], Training MSE 0.8264965; Validation MSE 0.3068857\n",
      "\n",
      "Iteration [46], Training MSE 0.8259435; Validation MSE 0.3069527\n",
      "\n",
      "Iteration [47], Training MSE 0.8240651; Validation MSE 0.3062913\n",
      "\n",
      "Iteration [48], Training MSE 0.8211740; Validation MSE 0.3050261\n",
      "\n",
      "Iteration [49], Training MSE 0.8183880; Validation MSE 0.3039130\n",
      "Time taken for [50] epochs:  0:00:06.500781\n",
      "Loss Summary:\n",
      "\tmae=0.5622802972793579\n",
      "\tmse=0.5026705861091614\n",
      "\trmse=0.7089926600456238\n",
      "\tmape=4.539637565612793\n"
     ]
    },
    {
     "data": {
      "text/plain": [
       "{'mae': 0.5622803, 'mse': 0.5026706, 'rmse': 0.70899266, 'mape': 4.5396376}"
      ]
     },
     "execution_count": 10,
     "metadata": {},
     "output_type": "execute_result"
    }
   ],
   "source": [
    "# Run the model\n",
    "baseline_lstm.exec_core(\n",
    "    parameters=parameters,\n",
    "    data_collection=data_collection,\n",
    "    clip_grad=None\n",
    ")"
   ]
  },
  {
   "cell_type": "code",
   "execution_count": null,
   "metadata": {},
   "outputs": [],
   "source": []
  }
 ],
 "metadata": {
  "kernelspec": {
   "display_name": "Python 3",
   "language": "python",
   "name": "python3"
  },
  "language_info": {
   "codemirror_mode": {
    "name": "ipython",
    "version": 3
   },
   "file_extension": ".py",
   "mimetype": "text/x-python",
   "name": "python",
   "nbconvert_exporter": "python",
   "pygments_lexer": "ipython3",
   "version": "3.6.5"
  }
 },
 "nbformat": 4,
 "nbformat_minor": 2
}
