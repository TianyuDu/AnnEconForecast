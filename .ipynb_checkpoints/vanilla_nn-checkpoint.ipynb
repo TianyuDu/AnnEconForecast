{
 "cells": [
  {
   "cell_type": "code",
   "execution_count": 1,
   "metadata": {},
   "outputs": [],
   "source": [
    "import numpy as np\n",
    "import pandas as pd\n",
    "import tensorflow as tf\n",
    "import sklearn\n",
    "import matplotlib\n",
    "import matplotlib.pyplot as plt"
   ]
  },
  {
   "cell_type": "code",
   "execution_count": 2,
   "metadata": {},
   "outputs": [],
   "source": [
    "from sklearn.model_selection import train_test_split\n",
    "from core.tools.data_import import *\n",
    "from core.tools.time_series import *\n",
    "from constants import *"
   ]
  },
  {
   "cell_type": "code",
   "execution_count": 3,
   "metadata": {},
   "outputs": [
    {
     "name": "stdout",
     "output_type": "stream",
     "text": [
      "Dataset loaded.    \n",
      "\tIndex type: datetime64[ns]    \n",
      "\tData type: float64\n",
      "5 (0.59%) observations with Nan are dropped.\n"
     ]
    }
   ],
   "source": [
    "df = load_dataset(UNRATE_DIR[\"EC2\"])\n",
    "df_d1 = differencing(df, periods=1, order=1)\n",
    "\n",
    "lags = [i for i in range(1, 5)]\n",
    "X_FEATURES = len(lags)\n",
    "X, y = gen_supervised(df_d1, predictors=lags)\n",
    "X, y = clean_nan(X, y)"
   ]
  },
  {
   "cell_type": "code",
   "execution_count": 4,
   "metadata": {},
   "outputs": [
    {
     "data": {
      "text/html": [
       "<div>\n",
       "<style scoped>\n",
       "    .dataframe tbody tr th:only-of-type {\n",
       "        vertical-align: middle;\n",
       "    }\n",
       "\n",
       "    .dataframe tbody tr th {\n",
       "        vertical-align: top;\n",
       "    }\n",
       "\n",
       "    .dataframe thead th {\n",
       "        text-align: right;\n",
       "    }\n",
       "</style>\n",
       "<table border=\"1\" class=\"dataframe\">\n",
       "  <thead>\n",
       "    <tr style=\"text-align: right;\">\n",
       "      <th></th>\n",
       "      <th>UNRATE_od1_pd1_lag1</th>\n",
       "      <th>UNRATE_od1_pd1_lag2</th>\n",
       "      <th>UNRATE_od1_pd1_lag3</th>\n",
       "      <th>UNRATE_od1_pd1_lag4</th>\n",
       "    </tr>\n",
       "    <tr>\n",
       "      <th>DATE</th>\n",
       "      <th></th>\n",
       "      <th></th>\n",
       "      <th></th>\n",
       "      <th></th>\n",
       "    </tr>\n",
       "  </thead>\n",
       "  <tbody>\n",
       "    <tr>\n",
       "      <th>1948-06-01</th>\n",
       "      <td>-0.4</td>\n",
       "      <td>-0.1</td>\n",
       "      <td>0.2</td>\n",
       "      <td>0.4</td>\n",
       "    </tr>\n",
       "    <tr>\n",
       "      <th>1948-07-01</th>\n",
       "      <td>0.1</td>\n",
       "      <td>-0.4</td>\n",
       "      <td>-0.1</td>\n",
       "      <td>0.2</td>\n",
       "    </tr>\n",
       "    <tr>\n",
       "      <th>1948-08-01</th>\n",
       "      <td>0.0</td>\n",
       "      <td>0.1</td>\n",
       "      <td>-0.4</td>\n",
       "      <td>-0.1</td>\n",
       "    </tr>\n",
       "    <tr>\n",
       "      <th>1948-09-01</th>\n",
       "      <td>0.3</td>\n",
       "      <td>0.0</td>\n",
       "      <td>0.1</td>\n",
       "      <td>-0.4</td>\n",
       "    </tr>\n",
       "    <tr>\n",
       "      <th>1948-10-01</th>\n",
       "      <td>-0.1</td>\n",
       "      <td>0.3</td>\n",
       "      <td>0.0</td>\n",
       "      <td>0.1</td>\n",
       "    </tr>\n",
       "  </tbody>\n",
       "</table>\n",
       "</div>"
      ],
      "text/plain": [
       "            UNRATE_od1_pd1_lag1  UNRATE_od1_pd1_lag2  UNRATE_od1_pd1_lag3  \\\n",
       "DATE                                                                        \n",
       "1948-06-01                 -0.4                 -0.1                  0.2   \n",
       "1948-07-01                  0.1                 -0.4                 -0.1   \n",
       "1948-08-01                  0.0                  0.1                 -0.4   \n",
       "1948-09-01                  0.3                  0.0                  0.1   \n",
       "1948-10-01                 -0.1                  0.3                  0.0   \n",
       "\n",
       "            UNRATE_od1_pd1_lag4  \n",
       "DATE                             \n",
       "1948-06-01                  0.4  \n",
       "1948-07-01                  0.2  \n",
       "1948-08-01                 -0.1  \n",
       "1948-09-01                 -0.4  \n",
       "1948-10-01                  0.1  "
      ]
     },
     "execution_count": 4,
     "metadata": {},
     "output_type": "execute_result"
    }
   ],
   "source": [
    "X.head()"
   ]
  },
  {
   "cell_type": "code",
   "execution_count": 5,
   "metadata": {},
   "outputs": [
    {
     "data": {
      "text/html": [
       "<div>\n",
       "<style scoped>\n",
       "    .dataframe tbody tr th:only-of-type {\n",
       "        vertical-align: middle;\n",
       "    }\n",
       "\n",
       "    .dataframe tbody tr th {\n",
       "        vertical-align: top;\n",
       "    }\n",
       "\n",
       "    .dataframe thead th {\n",
       "        text-align: right;\n",
       "    }\n",
       "</style>\n",
       "<table border=\"1\" class=\"dataframe\">\n",
       "  <thead>\n",
       "    <tr style=\"text-align: right;\">\n",
       "      <th></th>\n",
       "      <th>UNRATE_od1_pd1_target</th>\n",
       "    </tr>\n",
       "    <tr>\n",
       "      <th>DATE</th>\n",
       "      <th></th>\n",
       "    </tr>\n",
       "  </thead>\n",
       "  <tbody>\n",
       "    <tr>\n",
       "      <th>1948-06-01</th>\n",
       "      <td>0.1</td>\n",
       "    </tr>\n",
       "    <tr>\n",
       "      <th>1948-07-01</th>\n",
       "      <td>0.0</td>\n",
       "    </tr>\n",
       "    <tr>\n",
       "      <th>1948-08-01</th>\n",
       "      <td>0.3</td>\n",
       "    </tr>\n",
       "    <tr>\n",
       "      <th>1948-09-01</th>\n",
       "      <td>-0.1</td>\n",
       "    </tr>\n",
       "    <tr>\n",
       "      <th>1948-10-01</th>\n",
       "      <td>-0.1</td>\n",
       "    </tr>\n",
       "  </tbody>\n",
       "</table>\n",
       "</div>"
      ],
      "text/plain": [
       "            UNRATE_od1_pd1_target\n",
       "DATE                             \n",
       "1948-06-01                    0.1\n",
       "1948-07-01                    0.0\n",
       "1948-08-01                    0.3\n",
       "1948-09-01                   -0.1\n",
       "1948-10-01                   -0.1"
      ]
     },
     "execution_count": 5,
     "metadata": {},
     "output_type": "execute_result"
    }
   ],
   "source": [
    "y.head()"
   ]
  },
  {
   "cell_type": "code",
   "execution_count": 6,
   "metadata": {},
   "outputs": [],
   "source": [
    "(X_train, X_test,\n",
    " y_train, y_test) = train_test_split(\n",
    "    X, y,\n",
    "    test_size=0.1,\n",
    "    shuffle=False\n",
    ")\n",
    "\n",
    "(X_train, X_val,\n",
    " y_train, y_val) = train_test_split(\n",
    "    X_train, y_train,\n",
    "    test_size=0.1,\n",
    "    shuffle=False\n",
    ")"
   ]
  },
  {
   "cell_type": "code",
   "execution_count": 7,
   "metadata": {},
   "outputs": [
    {
     "name": "stdout",
     "output_type": "stream",
     "text": [
      "Training and testing set generated,\n",
      "X_train shape: (684, 4)\n",
      "y_train shape: (684, 1)\n",
      "X_test shape: (85, 4)\n",
      "y_test shape: (85, 1)\n",
      "X_validation shape: (76, 4)\n",
      "y_validation shape: (76, 1)\n"
     ]
    }
   ],
   "source": [
    "print(f\"Training and testing set generated,\\\n",
    "\\nX_train shape: {X_train.shape}\\\n",
    "\\ny_train shape: {y_train.shape}\\\n",
    "\\nX_test shape: {X_test.shape}\\\n",
    "\\ny_test shape: {y_test.shape}\\\n",
    "\\nX_validation shape: {X_val.shape}\\\n",
    "\\ny_validation shape: {y_val.shape}\")"
   ]
  },
  {
   "cell_type": "code",
   "execution_count": 8,
   "metadata": {
    "scrolled": true
   },
   "outputs": [
    {
     "data": {
      "image/png": "[encoded data removed]",
      "text/plain": [
       "<Figure size 1080x288 with 1 Axes>"
      ]
     },
     "metadata": {
      "needs_background": "light"
     },
     "output_type": "display_data"
    }
   ],
   "source": [
    "plt.figure(figsize=(15,4))\n",
    "plt.plot(y_train, linewidth=0.8)\n",
    "plt.plot(y_test, linewidth=0.8)\n",
    "plt.plot(y_val, linewidth=0.8)\n",
    "plt.grid(True)\n",
    "plt.legend([\"Training\", \"Testing\", \"Validation\"], loc=\"best\")\n",
    "plt.title(\"Training, Validation and Testing Target\")\n",
    "plt.show()"
   ]
  },
  {
   "cell_type": "code",
   "execution_count": 9,
   "metadata": {},
   "outputs": [],
   "source": [
    "INPUT_LAYER_SIZE = X_FEATURES\n",
    "HIDDEN_LAYER_SIZE_1 = 256\n",
    "HIDDEN_LAYER_SIZE_2 = 128\n",
    "OUTPUT_LAYER_SIZE = 1\n",
    "LEARNING_RATE = 0.001\n",
    "\n",
    "EPOCHS=1000"
   ]
  },
  {
   "cell_type": "code",
   "execution_count": 10,
   "metadata": {},
   "outputs": [],
   "source": [
    "with tf.variable_scope(\"inputs\"):\n",
    "    X = tf.placeholder(\n",
    "        dtype=tf.float32,\n",
    "        shape=[None, X_FEATURES],\n",
    "        name=\"predictors\")\n",
    "    y_true = tf.placeholder(\n",
    "        dtype=tf.float32,\n",
    "        shape=[None, 1],\n",
    "        name=\"Response\"\n",
    "    )"
   ]
  },
  {
   "cell_type": "code",
   "execution_count": 11,
   "metadata": {},
   "outputs": [],
   "source": [
    "with tf.variable_scope(\"layers\"):\n",
    "    W1 = tf.Variable(tf.random_uniform(\n",
    "        [INPUT_LAYER_SIZE, HIDDEN_LAYER_SIZE_1], -1, 1))\n",
    "    b1 = tf.Variable(tf.random_uniform(\n",
    "        [HIDDEN_LAYER_SIZE_1], -1, 1))\n",
    "    \n",
    "    W2 = tf.Variable(tf.random_uniform(\n",
    "        [HIDDEN_LAYER_SIZE_1, HIDDEN_LAYER_SIZE_2], -1 ,1))\n",
    "    b2 = tf.Variable(tf.random_uniform(\n",
    "        [HIDDEN_LAYER_SIZE_2], -1, 1))\n",
    "    \n",
    "    W3 = tf.Variable(tf.random_uniform(\n",
    "        [HIDDEN_LAYER_SIZE_2, OUTPUT_LAYER_SIZE], -1, 1))\n",
    "    b3 = tf.Variable(tf.random_uniform(\n",
    "        [OUTPUT_LAYER_SIZE], -1, 1))\n",
    "\n",
    "    # HL: Hidden Layer\n",
    "    # AHL: Activated Hidden Layer\n",
    "    HL_1 = tf.add(tf.matmul(X, W1), b1)\n",
    "    AHL_1 = tf.sigmoid(HL_1)\n",
    "    \n",
    "    HL_2 = tf.add(\n",
    "        tf.matmul(AHL_1, W2), b2)\n",
    "    \n",
    "    AHL_2 = tf.sigmoid(HL_2)\n",
    "    \n",
    "    output_layer = tf.add(tf.matmul(AHL_2, W3), b3)\n",
    "\n",
    "    loss = tf.reduce_mean(tf.square(y_true - output_layer))\n",
    "\n",
    "optimizer = tf.train.GradientDescentOptimizer(learning_rate=LEARNING_RATE).minimize(loss)"
   ]
  },
  {
   "cell_type": "code",
   "execution_count": 18,
   "metadata": {},
   "outputs": [
    {
     "name": "stdout",
     "output_type": "stream",
     "text": [
      "Epoch 0: Training Loss :0.5894526, Validation Loss :0.5030922\n",
      "Epoch 100: Training Loss :0.0756757, Validation Loss :0.0640248\n",
      "Epoch 200: Training Loss :0.0702622, Validation Loss :0.0572687\n",
      "Epoch 300: Training Loss :0.0660536, Validation Loss :0.0520324\n",
      "Epoch 400: Training Loss :0.0627580, Validation Loss :0.0479447\n",
      "Epoch 500: Training Loss :0.0601577, Validation Loss :0.0447302\n",
      "Epoch 600: Training Loss :0.0580898, Validation Loss :0.0421828\n",
      "Epoch 700: Training Loss :0.0564317, Validation Loss :0.0401484\n",
      "Epoch 800: Training Loss :0.0550912, Validation Loss :0.0385110\n",
      "Epoch 900: Training Loss :0.0539982, Validation Loss :0.0371828\n",
      "Final: Training Loss :0.0531077, Validation Loss :0.0361068\n"
     ]
    }
   ],
   "source": [
    "loss_history = [[],[]]\n",
    "init = tf.global_variables_initializer()\n",
    "with tf.Session() as sess:\n",
    "    sess.run(init)\n",
    "    for e in range(EPOCHS):\n",
    "        sess.run(optimizer,\n",
    "                feed_dict={\n",
    "                    X: X_train.values,\n",
    "                    y_true: y_train.values})\n",
    "        if e % 100 == 0:\n",
    "            train_loss = sess.run(loss, feed_dict={\n",
    "                X: X_train.values,\n",
    "                y_true: y_train.values\n",
    "            })\n",
    "            val_loss = sess.run(loss, feed_dict={\n",
    "                X: X_val.values,\n",
    "                y_true: y_val.values\n",
    "            })\n",
    "            print(f\"Epoch {e}: Training Loss :{train_loss:0.7f}, Validation Loss :{val_loss:0.7f}\")\n",
    "    train_loss = sess.run(loss, feed_dict={X: X_train.values, y_true: y_train.values})\n",
    "    val_loss = sess.run(loss, feed_dict={X: X_val.values, y_true: y_val.values})\n",
    "    print(f\"Final: Training Loss :{train_loss:0.7f}, Validation Loss :{val_loss:0.7f}\")\n",
    "    \n",
    "    pred = sess.run(output_layer, feed_dict={\n",
    "        X: X_test.values,\n",
    "        y: y_test.values\n",
    "    })"
   ]
  },
  {
   "cell_type": "code",
   "execution_count": 13,
   "metadata": {},
   "outputs": [
    {
     "data": {
      "text/plain": [
       "1"
      ]
     },
     "execution_count": 13,
     "metadata": {},
     "output_type": "execute_result"
    }
   ],
   "source": []
  },
  {
   "cell_type": "code",
   "execution_count": null,
   "metadata": {},
   "outputs": [],
   "source": []
  }
 ],
 "metadata": {
  "kernelspec": {
   "display_name": "Python 3",
   "language": "python",
   "name": "python3"
  },
  "language_info": {
   "codemirror_mode": {
    "name": "ipython",
    "version": 3
   },
   "file_extension": ".py",
   "mimetype": "text/x-python",
   "name": "python",
   "nbconvert_exporter": "python",
   "pygments_lexer": "ipython3",
   "version": "3.6.5"
  }
 },
 "nbformat": 4,
 "nbformat_minor": 2
}
